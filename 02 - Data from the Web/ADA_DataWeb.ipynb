{
 "cells": [
  {
   "cell_type": "markdown",
   "metadata": {},
   "source": [
    "<h1>[ADA] <span class=\"label label-danger\" style=\"font-size:36px\">Data From the Web</span></h1><br><br>\n",
    "\n",
    "<ul class=\"list-group\" style=\"width:40%; float:left\">\n",
    "  <li class=\"list-group-item active\"><b>Table of Contents</b></li>\n",
    "  <li class=\"list-group-item\">Part 0 : Getting Data from IS-Academia</li>\n",
    "  <li class=\"list-group-item\">Part 1 : Bachelor Data</li>\n",
    "  <li class=\"list-group-item\">Part 2 : Master Data</li>\n",
    "  <li class=\"list-group-item\">Bonus</li>\n",
    "  <li class=\"list-group-item\">Criticism</li>\n",
    "</ul>\n",
    "\n",
    "\n",
    "<ul class=\"list-group\" style=\"width:40%; float:right\">\n",
    "  <li class=\"list-group-item active\"><b>Team Members</b></li>\n",
    "  <li class=\"list-group-item\">Soufiane El Badraoui</li>\n",
    "  <li class=\"list-group-item\">Arnaud Miribel</li>\n",
    "  <li class=\"list-group-item\">Yu Yamashita</li>\n",
    "</ul>\n",
    "\n",
    "---"
   ]
  },
  {
   "cell_type": "markdown",
   "metadata": {},
   "source": [
    "<h1 id=\"part0\"> Part 0 : Getting Data from IS-Academia</h1>"
   ]
  },
  {
   "cell_type": "code",
   "execution_count": 1,
   "metadata": {
    "collapsed": false
   },
   "outputs": [],
   "source": [
    "from bs4 import BeautifulSoup\n",
    "import pandas as pd \n",
    "import requests\n",
    "from IPython.core.display import display, HTML"
   ]
  },
  {
   "cell_type": "markdown",
   "metadata": {},
   "source": [
    "Using Postman with the Interceptor extension, we mimicate a manual browsing of the IS-A web form and button pressing in order to understand which requests are actually sent and which ones of them do matter.\n",
    "\n",
    "We realize that only 1 matters and store its root URL. One example is as below : http://isa.epfl.ch/imoniteur_ISAP/!GEDPUBLICREPORTS.html?ww_x_GPS=-1&ww_i_reportModel=133685247&ww_i_reportModelXsl=133685270&ww_x_UNITE_ACAD=249847&ww_x_PERIODE_ACAD=213637754&ww_x_PERIODE_PEDAGO=942120&ww_x_HIVERETE=2936286"
   ]
  },
  {
   "cell_type": "markdown",
   "metadata": {},
   "source": [
    "### Key-Value storage"
   ]
  },
  {
   "cell_type": "markdown",
   "metadata": {},
   "source": [
    "We see in the URL that the actual form options are translated into values. So we would like to have a dictionary in order to store form options as keys and their values as values. That page actually stores all of the possible :"
   ]
  },
  {
   "cell_type": "code",
   "execution_count": 2,
   "metadata": {
    "collapsed": true
   },
   "outputs": [],
   "source": [
    "KEY_VALUE_URL = \"http://isa.epfl.ch/imoniteur_ISAP/!GEDPUBLICREPORTS.filter?ww_i_reportModel=133685247\""
   ]
  },
  {
   "cell_type": "code",
   "execution_count": 3,
   "metadata": {
    "collapsed": false
   },
   "outputs": [],
   "source": [
    "with requests.session() as s:\n",
    "    response = s.get(KEY_VALUE_URL)\n",
    "    \n",
    "soup = BeautifulSoup(response.text, 'html.parser')\n",
    "input_table = soup.find(\"table\", attrs={\"id\": \"format\"})  # we want to find <table border=\"0\" id=\"format\">\n",
    "option_table = soup.find(\"table\", attrs={\"id\": \"filtre\"})  # we want to find <table border=\"0\" id=\"filtre\">\n",
    "mapper = dict()\n",
    "\n",
    "for inpt in input_table.findAll(\"input\"):  \n",
    "    try:\n",
    "        mapper[inpt.text] = inpt[\"value\"]  # <input type=\"radio\" name=\"ww_i_reportModelXsl\" value=\"133685270\" checked>html\n",
    "    except:\n",
    "        pass\n",
    "    \n",
    "        \n",
    "for option in option_table.findAll(\"option\"):  # we want to find all options (e.g. <option value=\"942293\">Architecture</option>)\n",
    "    try:\n",
    "        mapper[option.text] = int(option[\"value\"])  # append to the dict (e.g. {'Architecture': 942293}) \n",
    "    except:  # if values are 'null' just ignore and pass\n",
    "        pass "
   ]
  },
  {
   "cell_type": "code",
   "execution_count": 4,
   "metadata": {
    "collapsed": false
   },
   "outputs": [
    {
     "data": {
      "text/plain": [
       "{'2007-2008': 978181,\n",
       " '2008-2009': 978187,\n",
       " '2009-2010': 978195,\n",
       " '2010-2011': 39486325,\n",
       " '2011-2012': 123455150,\n",
       " '2012-2013': 123456101,\n",
       " '2013-2014': 213637754,\n",
       " '2014-2015': 213637922,\n",
       " '2015-2016': 213638028,\n",
       " '2016-2017': 355925344,\n",
       " 'Architecture': 942293,\n",
       " 'Bachelor semestre 1': 249108,\n",
       " 'Bachelor semestre 2': 249114,\n",
       " 'Bachelor semestre 3': 942155,\n",
       " 'Bachelor semestre 4': 942163,\n",
       " 'Bachelor semestre 5': 942120,\n",
       " 'Bachelor semestre 5b': 2226768,\n",
       " 'Bachelor semestre 6': 942175,\n",
       " 'Bachelor semestre 6b': 2226785,\n",
       " 'Chimie et génie chimique': 246696,\n",
       " 'Cours de mathématiques spéciales': 943282,\n",
       " 'EME (EPFL Middle East)': 637841336,\n",
       " 'Génie civil': 942623,\n",
       " 'Génie mécanique': 944263,\n",
       " 'Génie électrique et électronique ': 943936,\n",
       " 'Humanités digitales': 2054839157,\n",
       " 'Informatique': 249847,\n",
       " 'Ingénierie financière': 120623110,\n",
       " 'Management de la technologie': 946882,\n",
       " 'Master semestre 1': 2230106,\n",
       " 'Master semestre 2': 942192,\n",
       " 'Master semestre 3': 2230128,\n",
       " 'Master semestre 4': 2230140,\n",
       " 'Mathématiques': 944590,\n",
       " 'Microtechnique': 945244,\n",
       " 'Mineur semestre 1': 2335667,\n",
       " 'Mineur semestre 2': 2335676,\n",
       " 'Mise à niveau': 2063602308,\n",
       " 'Physique': 945571,\n",
       " 'Projet Master automne': 249127,\n",
       " 'Projet Master printemps': 3781783,\n",
       " 'Science et génie des matériaux': 944917,\n",
       " \"Sciences et ingénierie de l'environnement\": 942953,\n",
       " 'Sciences et technologies du vivant': 945901,\n",
       " 'Section FCUE': 1574548993,\n",
       " 'Semestre automne': 953159,\n",
       " \"Semestre d'automne\": 2936286,\n",
       " 'Semestre de printemps': 2936295,\n",
       " 'Semestre printemps': 2754553,\n",
       " 'Stage automne 3ème année': 953137,\n",
       " 'Stage automne 4ème année': 2226616,\n",
       " 'Stage printemps 3ème année': 983606,\n",
       " 'Stage printemps 4ème année': 2226626,\n",
       " 'Stage printemps master': 2227132,\n",
       " 'Systèmes de communication': 946228,\n",
       " 'html': '133685270',\n",
       " 'xls': '133685271'}"
      ]
     },
     "execution_count": 4,
     "metadata": {},
     "output_type": "execute_result"
    }
   ],
   "source": [
    "mapper"
   ]
  },
  {
   "cell_type": "code",
   "execution_count": 5,
   "metadata": {
    "collapsed": false
   },
   "outputs": [],
   "source": [
    "def make_url(FORMAT, UNITE_ACAD, PERIODE_ACAD, PERIODE_PEDAGO, HIVERETE):\n",
    "    return (\"http://isa.epfl.ch/imoniteur_ISAP/!GEDPUBLICREPORTS.html?\"\n",
    "            \"ww_x_GPS=-1&\"\n",
    "            \"ww_i_reportModel=133685247&\"\n",
    "            \"ww_i_reportModelXsl={frmt}&\"\n",
    "            \"ww_x_UNITE_ACAD={unite_acad}&\"\n",
    "            \"ww_x_PERIODE_ACAD={periode_acad}&\"\n",
    "            \"ww_x_PERIODE_PEDAGO={periode_pedago}&\"\n",
    "            \"ww_x_HIVERETE={hiverete}\").format(frmt=mapper[FORMAT],\n",
    "                                               unite_acad=mapper[UNITE_ACAD],\n",
    "                                               periode_acad=mapper[PERIODE_ACAD],\n",
    "                                               periode_pedago=mapper[PERIODE_PEDAGO],\n",
    "                                               hiverete=mapper[HIVERETE])"
   ]
  },
  {
   "cell_type": "markdown",
   "metadata": {},
   "source": [
    "Now we have the URL, we also make a function that enables to parse the HTML we receive and plug the data into Pandas Dataframes"
   ]
  },
  {
   "cell_type": "markdown",
   "metadata": {},
   "source": [
    "### Parsing HTML"
   ]
  },
  {
   "cell_type": "code",
   "execution_count": 6,
   "metadata": {
    "collapsed": false,
    "scrolled": true
   },
   "outputs": [],
   "source": [
    "def html_to_df(html_response):\n",
    "    \n",
    "    # put the HTML response into BeautifulSoup object\n",
    "    soup = BeautifulSoup(html_response, 'html.parser')\n",
    "    \n",
    "    # find all data in HTML \n",
    "    table = soup.find(\"table\")\n",
    "    table_name = table.findAll(\"tr\")[0].text\n",
    "    table_columns = [t.text for t in table.findAll(\"tr\")[1].findAll(\"th\")]\n",
    "    table_rows = table.findAll(\"tr\")[3:]\n",
    "    rows=[]\n",
    "    for row in table_rows:\n",
    "        rows.append([entries.text for entries in row.findAll(\"td\")[:-1]])\n",
    "        \n",
    "    # put the data in a Pandas DataFrame\n",
    "    table_df = pd.DataFrame(data=rows, columns=table_columns)\n",
    "    \n",
    "    # add year and semester fields\n",
    "    table_df[\"Year\"] = table_name.split(',')[1]\n",
    "    table_df[\"Semester\"] = table_name.split(',')[2].split('\\n')[0]\n",
    "    \n",
    "    # reindexing\n",
    "    table_df = table_df.reset_index()\n",
    "    table_df = table_df.set_index([\"Year\",\"Semester\",\"Nom Prénom\"])\n",
    "    \n",
    "    return table_df"
   ]
  },
  {
   "cell_type": "markdown",
   "metadata": {},
   "source": [
    "### Put all into one function"
   ]
  },
  {
   "cell_type": "code",
   "execution_count": 7,
   "metadata": {
    "collapsed": true
   },
   "outputs": [],
   "source": [
    "def get_df(FORMAT, UNITE_ACAD, PERIODE_ACAD, PERIODE_PEDAGO, HIVERETE):\n",
    "    \n",
    "    # make the correct URL for parameters\n",
    "    url = make_url(FORMAT, UNITE_ACAD, PERIODE_ACAD, PERIODE_PEDAGO, HIVERETE)\n",
    "    \n",
    "    # do a GET to this URL\n",
    "    with requests.session() as s:\n",
    "        html_response = s.get(url).text\n",
    "        \n",
    "    # parse the HTML and put into a DF\n",
    "    return html_to_df(html_response)"
   ]
  },
  {
   "cell_type": "markdown",
   "metadata": {},
   "source": [
    "### Example for Informatique, 2013-2014, Bachelor semestre 5"
   ]
  },
  {
   "cell_type": "code",
   "execution_count": 8,
   "metadata": {
    "collapsed": false
   },
   "outputs": [
    {
     "data": {
      "text/html": [
       "<div>\n",
       "<table border=\"1\" class=\"dataframe\">\n",
       "  <thead>\n",
       "    <tr style=\"text-align: right;\">\n",
       "      <th></th>\n",
       "      <th></th>\n",
       "      <th></th>\n",
       "      <th>index</th>\n",
       "      <th>Civilité</th>\n",
       "      <th>Orientation Bachelor</th>\n",
       "      <th>Orientation Master</th>\n",
       "      <th>Spécialisation</th>\n",
       "      <th>Filière opt.</th>\n",
       "      <th>Mineur</th>\n",
       "      <th>Statut</th>\n",
       "      <th>Type Echange</th>\n",
       "      <th>Ecole Echange</th>\n",
       "      <th>No Sciper</th>\n",
       "    </tr>\n",
       "    <tr>\n",
       "      <th>Year</th>\n",
       "      <th>Semester</th>\n",
       "      <th>Nom Prénom</th>\n",
       "      <th></th>\n",
       "      <th></th>\n",
       "      <th></th>\n",
       "      <th></th>\n",
       "      <th></th>\n",
       "      <th></th>\n",
       "      <th></th>\n",
       "      <th></th>\n",
       "      <th></th>\n",
       "      <th></th>\n",
       "      <th></th>\n",
       "    </tr>\n",
       "  </thead>\n",
       "  <tbody>\n",
       "    <tr>\n",
       "      <th rowspan=\"10\" valign=\"top\">2013-2014</th>\n",
       "      <th rowspan=\"10\" valign=\"top\">Bachelor semestre 5</th>\n",
       "      <th>Alonso Seisdedos Florian</th>\n",
       "      <td>0</td>\n",
       "      <td>Monsieur</td>\n",
       "      <td></td>\n",
       "      <td></td>\n",
       "      <td></td>\n",
       "      <td></td>\n",
       "      <td></td>\n",
       "      <td>Présent</td>\n",
       "      <td></td>\n",
       "      <td></td>\n",
       "      <td>215576</td>\n",
       "    </tr>\n",
       "    <tr>\n",
       "      <th>Beaud Guillaume François Paul</th>\n",
       "      <td>1</td>\n",
       "      <td>Monsieur</td>\n",
       "      <td></td>\n",
       "      <td></td>\n",
       "      <td></td>\n",
       "      <td></td>\n",
       "      <td></td>\n",
       "      <td>Présent</td>\n",
       "      <td></td>\n",
       "      <td></td>\n",
       "      <td>212591</td>\n",
       "    </tr>\n",
       "    <tr>\n",
       "      <th>Benhamadi Yassine</th>\n",
       "      <td>2</td>\n",
       "      <td>Monsieur</td>\n",
       "      <td></td>\n",
       "      <td></td>\n",
       "      <td></td>\n",
       "      <td></td>\n",
       "      <td></td>\n",
       "      <td>Présent</td>\n",
       "      <td></td>\n",
       "      <td></td>\n",
       "      <td>185991</td>\n",
       "    </tr>\n",
       "    <tr>\n",
       "      <th>Bennani-Smires Kamil</th>\n",
       "      <td>3</td>\n",
       "      <td>Monsieur</td>\n",
       "      <td></td>\n",
       "      <td></td>\n",
       "      <td></td>\n",
       "      <td></td>\n",
       "      <td></td>\n",
       "      <td>Présent</td>\n",
       "      <td></td>\n",
       "      <td></td>\n",
       "      <td>204958</td>\n",
       "    </tr>\n",
       "    <tr>\n",
       "      <th>Berney Léonard</th>\n",
       "      <td>4</td>\n",
       "      <td>Monsieur</td>\n",
       "      <td></td>\n",
       "      <td></td>\n",
       "      <td></td>\n",
       "      <td></td>\n",
       "      <td></td>\n",
       "      <td>Présent</td>\n",
       "      <td></td>\n",
       "      <td></td>\n",
       "      <td>206416</td>\n",
       "    </tr>\n",
       "    <tr>\n",
       "      <th>Bottinelli Rémi</th>\n",
       "      <td>5</td>\n",
       "      <td>Monsieur</td>\n",
       "      <td></td>\n",
       "      <td></td>\n",
       "      <td></td>\n",
       "      <td></td>\n",
       "      <td></td>\n",
       "      <td>Présent</td>\n",
       "      <td></td>\n",
       "      <td></td>\n",
       "      <td>217612</td>\n",
       "    </tr>\n",
       "    <tr>\n",
       "      <th>Bougacha Malik</th>\n",
       "      <td>6</td>\n",
       "      <td>Monsieur</td>\n",
       "      <td></td>\n",
       "      <td></td>\n",
       "      <td></td>\n",
       "      <td></td>\n",
       "      <td></td>\n",
       "      <td>Présent</td>\n",
       "      <td></td>\n",
       "      <td></td>\n",
       "      <td>186264</td>\n",
       "    </tr>\n",
       "    <tr>\n",
       "      <th>Boullier Jocelyn</th>\n",
       "      <td>7</td>\n",
       "      <td>Monsieur</td>\n",
       "      <td></td>\n",
       "      <td></td>\n",
       "      <td></td>\n",
       "      <td></td>\n",
       "      <td></td>\n",
       "      <td>Présent</td>\n",
       "      <td></td>\n",
       "      <td></td>\n",
       "      <td>205541</td>\n",
       "    </tr>\n",
       "    <tr>\n",
       "      <th>Bouquet Stéphane</th>\n",
       "      <td>8</td>\n",
       "      <td>Monsieur</td>\n",
       "      <td></td>\n",
       "      <td></td>\n",
       "      <td></td>\n",
       "      <td></td>\n",
       "      <td></td>\n",
       "      <td>Présent</td>\n",
       "      <td></td>\n",
       "      <td></td>\n",
       "      <td>213664</td>\n",
       "    </tr>\n",
       "    <tr>\n",
       "      <th>Bovet Sidney</th>\n",
       "      <td>9</td>\n",
       "      <td>Monsieur</td>\n",
       "      <td></td>\n",
       "      <td></td>\n",
       "      <td></td>\n",
       "      <td></td>\n",
       "      <td></td>\n",
       "      <td>Présent</td>\n",
       "      <td></td>\n",
       "      <td></td>\n",
       "      <td>214637</td>\n",
       "    </tr>\n",
       "  </tbody>\n",
       "</table>\n",
       "</div>"
      ],
      "text/plain": [
       "                                                               index  \\\n",
       "Year       Semester             Nom Prénom                             \n",
       " 2013-2014  Bachelor semestre 5 Alonso Seisdedos Florian           0   \n",
       "                                Beaud Guillaume François Paul      1   \n",
       "                                Benhamadi Yassine                  2   \n",
       "                                Bennani-Smires Kamil               3   \n",
       "                                Berney Léonard                     4   \n",
       "                                Bottinelli Rémi                    5   \n",
       "                                Bougacha Malik                     6   \n",
       "                                Boullier Jocelyn                   7   \n",
       "                                Bouquet Stéphane                   8   \n",
       "                                Bovet Sidney                       9   \n",
       "\n",
       "                                                               Civilité  \\\n",
       "Year       Semester             Nom Prénom                                \n",
       " 2013-2014  Bachelor semestre 5 Alonso Seisdedos Florian       Monsieur   \n",
       "                                Beaud Guillaume François Paul  Monsieur   \n",
       "                                Benhamadi Yassine              Monsieur   \n",
       "                                Bennani-Smires Kamil           Monsieur   \n",
       "                                Berney Léonard                 Monsieur   \n",
       "                                Bottinelli Rémi                Monsieur   \n",
       "                                Bougacha Malik                 Monsieur   \n",
       "                                Boullier Jocelyn               Monsieur   \n",
       "                                Bouquet Stéphane               Monsieur   \n",
       "                                Bovet Sidney                   Monsieur   \n",
       "\n",
       "                                                              Orientation Bachelor  \\\n",
       "Year       Semester             Nom Prénom                                           \n",
       " 2013-2014  Bachelor semestre 5 Alonso Seisdedos Florian                             \n",
       "                                Beaud Guillaume François Paul                        \n",
       "                                Benhamadi Yassine                                    \n",
       "                                Bennani-Smires Kamil                                 \n",
       "                                Berney Léonard                                       \n",
       "                                Bottinelli Rémi                                      \n",
       "                                Bougacha Malik                                       \n",
       "                                Boullier Jocelyn                                     \n",
       "                                Bouquet Stéphane                                     \n",
       "                                Bovet Sidney                                         \n",
       "\n",
       "                                                              Orientation Master  \\\n",
       "Year       Semester             Nom Prénom                                         \n",
       " 2013-2014  Bachelor semestre 5 Alonso Seisdedos Florian                           \n",
       "                                Beaud Guillaume François Paul                      \n",
       "                                Benhamadi Yassine                                  \n",
       "                                Bennani-Smires Kamil                               \n",
       "                                Berney Léonard                                     \n",
       "                                Bottinelli Rémi                                    \n",
       "                                Bougacha Malik                                     \n",
       "                                Boullier Jocelyn                                   \n",
       "                                Bouquet Stéphane                                   \n",
       "                                Bovet Sidney                                       \n",
       "\n",
       "                                                              Spécialisation  \\\n",
       "Year       Semester             Nom Prénom                                     \n",
       " 2013-2014  Bachelor semestre 5 Alonso Seisdedos Florian                       \n",
       "                                Beaud Guillaume François Paul                  \n",
       "                                Benhamadi Yassine                              \n",
       "                                Bennani-Smires Kamil                           \n",
       "                                Berney Léonard                                 \n",
       "                                Bottinelli Rémi                                \n",
       "                                Bougacha Malik                                 \n",
       "                                Boullier Jocelyn                               \n",
       "                                Bouquet Stéphane                               \n",
       "                                Bovet Sidney                                   \n",
       "\n",
       "                                                              Filière opt.  \\\n",
       "Year       Semester             Nom Prénom                                   \n",
       " 2013-2014  Bachelor semestre 5 Alonso Seisdedos Florian                     \n",
       "                                Beaud Guillaume François Paul                \n",
       "                                Benhamadi Yassine                            \n",
       "                                Bennani-Smires Kamil                         \n",
       "                                Berney Léonard                               \n",
       "                                Bottinelli Rémi                              \n",
       "                                Bougacha Malik                               \n",
       "                                Boullier Jocelyn                             \n",
       "                                Bouquet Stéphane                             \n",
       "                                Bovet Sidney                                 \n",
       "\n",
       "                                                              Mineur   Statut  \\\n",
       "Year       Semester             Nom Prénom                                      \n",
       " 2013-2014  Bachelor semestre 5 Alonso Seisdedos Florian              Présent   \n",
       "                                Beaud Guillaume François Paul         Présent   \n",
       "                                Benhamadi Yassine                     Présent   \n",
       "                                Bennani-Smires Kamil                  Présent   \n",
       "                                Berney Léonard                        Présent   \n",
       "                                Bottinelli Rémi                       Présent   \n",
       "                                Bougacha Malik                        Présent   \n",
       "                                Boullier Jocelyn                      Présent   \n",
       "                                Bouquet Stéphane                      Présent   \n",
       "                                Bovet Sidney                          Présent   \n",
       "\n",
       "                                                              Type Echange  \\\n",
       "Year       Semester             Nom Prénom                                   \n",
       " 2013-2014  Bachelor semestre 5 Alonso Seisdedos Florian                     \n",
       "                                Beaud Guillaume François Paul                \n",
       "                                Benhamadi Yassine                            \n",
       "                                Bennani-Smires Kamil                         \n",
       "                                Berney Léonard                               \n",
       "                                Bottinelli Rémi                              \n",
       "                                Bougacha Malik                               \n",
       "                                Boullier Jocelyn                             \n",
       "                                Bouquet Stéphane                             \n",
       "                                Bovet Sidney                                 \n",
       "\n",
       "                                                              Ecole Echange  \\\n",
       "Year       Semester             Nom Prénom                                    \n",
       " 2013-2014  Bachelor semestre 5 Alonso Seisdedos Florian                      \n",
       "                                Beaud Guillaume François Paul                 \n",
       "                                Benhamadi Yassine                             \n",
       "                                Bennani-Smires Kamil                          \n",
       "                                Berney Léonard                                \n",
       "                                Bottinelli Rémi                               \n",
       "                                Bougacha Malik                                \n",
       "                                Boullier Jocelyn                              \n",
       "                                Bouquet Stéphane                              \n",
       "                                Bovet Sidney                                  \n",
       "\n",
       "                                                              No Sciper  \n",
       "Year       Semester             Nom Prénom                               \n",
       " 2013-2014  Bachelor semestre 5 Alonso Seisdedos Florian         215576  \n",
       "                                Beaud Guillaume François Paul    212591  \n",
       "                                Benhamadi Yassine                185991  \n",
       "                                Bennani-Smires Kamil             204958  \n",
       "                                Berney Léonard                   206416  \n",
       "                                Bottinelli Rémi                  217612  \n",
       "                                Bougacha Malik                   186264  \n",
       "                                Boullier Jocelyn                 205541  \n",
       "                                Bouquet Stéphane                 213664  \n",
       "                                Bovet Sidney                     214637  "
      ]
     },
     "execution_count": 8,
     "metadata": {},
     "output_type": "execute_result"
    }
   ],
   "source": [
    "get_df(\"html\", \"Informatique\", \"2013-2014\", \"Bachelor semestre 5\", \"Semestre d'automne\").head(10)"
   ]
  },
  {
   "cell_type": "markdown",
   "metadata": {},
   "source": [
    "So now we have useful functions to structure data from IS-Academia into well-prepared Pandas Dataframe."
   ]
  },
  {
   "cell_type": "markdown",
   "metadata": {},
   "source": [
    "<h1 id=\"part1\">Part 1 - Bachelor Data</h1>"
   ]
  },
  {
   "cell_type": "markdown",
   "metadata": {},
   "source": [
    "> 1. Obtain all the data for the Bachelor students, starting from 2007. Keep only the students for which you have an entry for both `Bachelor semestre 1` and `Bachelor semestre 6`. Compute how many months it took each student to go from the first to the sixth semester. Partition the data between male and female students, and compute the average -- is the difference in average statistically significant?"
   ]
  },
  {
   "cell_type": "markdown",
   "metadata": {},
   "source": [
    "Now we want to answer question 1 : append all dataframes of Informatique we can find from 2007 to now."
   ]
  },
  {
   "cell_type": "code",
   "execution_count": 9,
   "metadata": {
    "collapsed": false
   },
   "outputs": [],
   "source": [
    "def concat_dataframes(degree, n_potential_semesters):\n",
    "    \"\"\"\n",
    "    degree : (str) \"Bachelor\" or \"Master\"\n",
    "    n_potential_semesters : (int) 6 or 3\n",
    "    \"\"\"\n",
    "    \n",
    "    # make all parameters\n",
    "    \n",
    "    PERIODE_ACAD_RANGE = [\"{year1}-{year2}\".format(\n",
    "            year1=y,\n",
    "            year2=y+1) for y in range(2007,2016)]\n",
    "\n",
    "    DEGREE_QUERY = degree + \" semestre \"\n",
    "    PERIODE_PEGADO_RANGE = [DEGREE_QUERY + str(n) for n in range(1,n_potential_semesters+1)]\n",
    "    HIVERETE_RANGE = [\"Semestre d'automne\", \"Semestre de printemps\"]\n",
    "\n",
    "    PERIODE_RANGE = list(zip([DEGREE_QUERY + str(n) for n in range(1,n_potential_semesters+1,2)], \n",
    "                             [\"Semestre d'automne\"]*len(range(1,n_potential_semesters+1,2))))\n",
    "    PERIODE_RANGE += list(zip([DEGREE_QUERY + str(n) for n in range(2,n_potential_semesters+1,2)], \n",
    "                              [\"Semestre de printemps\"]*len(range(2,n_potential_semesters+1,2))))\n",
    "    \n",
    "    # get all dataframes\n",
    "\n",
    "    total = []  # list in which store temporary dataframes\n",
    "    for periode_acad in PERIODE_ACAD_RANGE:\n",
    "        for (periode_pedago, hiverete) in PERIODE_RANGE:\n",
    "            df = get_df(\"html\", \"Informatique\", periode_acad, periode_pedago, hiverete)\n",
    "            total.append(df)  # append new temporary DF to list\n",
    "\n",
    "    # concat all the dataframes\n",
    "    return pd.concat(total)"
   ]
  },
  {
   "cell_type": "code",
   "execution_count": 10,
   "metadata": {
    "collapsed": true
   },
   "outputs": [],
   "source": [
    "bachelor_df = concat_dataframes(\"Bachelor\", 6)"
   ]
  },
  {
   "cell_type": "code",
   "execution_count": 11,
   "metadata": {
    "collapsed": false
   },
   "outputs": [
    {
     "data": {
      "text/html": [
       "<div>\n",
       "<table border=\"1\" class=\"dataframe\">\n",
       "  <thead>\n",
       "    <tr style=\"text-align: right;\">\n",
       "      <th></th>\n",
       "      <th></th>\n",
       "      <th></th>\n",
       "      <th>index</th>\n",
       "      <th>Civilité</th>\n",
       "      <th>Orientation Bachelor</th>\n",
       "      <th>Orientation Master</th>\n",
       "      <th>Spécialisation</th>\n",
       "      <th>Filière opt.</th>\n",
       "      <th>Mineur</th>\n",
       "      <th>Statut</th>\n",
       "      <th>Type Echange</th>\n",
       "      <th>Ecole Echange</th>\n",
       "      <th>No Sciper</th>\n",
       "    </tr>\n",
       "    <tr>\n",
       "      <th>Year</th>\n",
       "      <th>Semester</th>\n",
       "      <th>Nom Prénom</th>\n",
       "      <th></th>\n",
       "      <th></th>\n",
       "      <th></th>\n",
       "      <th></th>\n",
       "      <th></th>\n",
       "      <th></th>\n",
       "      <th></th>\n",
       "      <th></th>\n",
       "      <th></th>\n",
       "      <th></th>\n",
       "      <th></th>\n",
       "    </tr>\n",
       "  </thead>\n",
       "  <tbody>\n",
       "    <tr>\n",
       "      <th rowspan=\"5\" valign=\"top\">2007-2008</th>\n",
       "      <th rowspan=\"5\" valign=\"top\">Bachelor semestre 1</th>\n",
       "      <th>Aubelle Flavien</th>\n",
       "      <td>0</td>\n",
       "      <td>Monsieur</td>\n",
       "      <td></td>\n",
       "      <td></td>\n",
       "      <td></td>\n",
       "      <td></td>\n",
       "      <td></td>\n",
       "      <td>Présent</td>\n",
       "      <td></td>\n",
       "      <td></td>\n",
       "      <td>174905</td>\n",
       "    </tr>\n",
       "    <tr>\n",
       "      <th>Badoud Morgan</th>\n",
       "      <td>1</td>\n",
       "      <td>Monsieur</td>\n",
       "      <td></td>\n",
       "      <td></td>\n",
       "      <td></td>\n",
       "      <td></td>\n",
       "      <td></td>\n",
       "      <td>Présent</td>\n",
       "      <td></td>\n",
       "      <td></td>\n",
       "      <td>173922</td>\n",
       "    </tr>\n",
       "    <tr>\n",
       "      <th>Baeriswyl Jonathan</th>\n",
       "      <td>2</td>\n",
       "      <td>Monsieur</td>\n",
       "      <td></td>\n",
       "      <td></td>\n",
       "      <td></td>\n",
       "      <td></td>\n",
       "      <td></td>\n",
       "      <td>Présent</td>\n",
       "      <td></td>\n",
       "      <td></td>\n",
       "      <td>179406</td>\n",
       "    </tr>\n",
       "    <tr>\n",
       "      <th>Barroco Michael</th>\n",
       "      <td>3</td>\n",
       "      <td>Monsieur</td>\n",
       "      <td></td>\n",
       "      <td></td>\n",
       "      <td></td>\n",
       "      <td></td>\n",
       "      <td></td>\n",
       "      <td>Présent</td>\n",
       "      <td></td>\n",
       "      <td></td>\n",
       "      <td>179428</td>\n",
       "    </tr>\n",
       "    <tr>\n",
       "      <th>Belfis Nicolas</th>\n",
       "      <td>4</td>\n",
       "      <td>Monsieur</td>\n",
       "      <td></td>\n",
       "      <td></td>\n",
       "      <td></td>\n",
       "      <td></td>\n",
       "      <td></td>\n",
       "      <td>Présent</td>\n",
       "      <td></td>\n",
       "      <td></td>\n",
       "      <td>179324</td>\n",
       "    </tr>\n",
       "  </tbody>\n",
       "</table>\n",
       "</div>"
      ],
      "text/plain": [
       "                                                    index  Civilité  \\\n",
       "Year       Semester             Nom Prénom                            \n",
       " 2007-2008  Bachelor semestre 1 Aubelle Flavien         0  Monsieur   \n",
       "                                Badoud Morgan           1  Monsieur   \n",
       "                                Baeriswyl Jonathan      2  Monsieur   \n",
       "                                Barroco Michael         3  Monsieur   \n",
       "                                Belfis Nicolas          4  Monsieur   \n",
       "\n",
       "                                                   Orientation Bachelor  \\\n",
       "Year       Semester             Nom Prénom                                \n",
       " 2007-2008  Bachelor semestre 1 Aubelle Flavien                           \n",
       "                                Badoud Morgan                             \n",
       "                                Baeriswyl Jonathan                        \n",
       "                                Barroco Michael                           \n",
       "                                Belfis Nicolas                            \n",
       "\n",
       "                                                   Orientation Master  \\\n",
       "Year       Semester             Nom Prénom                              \n",
       " 2007-2008  Bachelor semestre 1 Aubelle Flavien                         \n",
       "                                Badoud Morgan                           \n",
       "                                Baeriswyl Jonathan                      \n",
       "                                Barroco Michael                         \n",
       "                                Belfis Nicolas                          \n",
       "\n",
       "                                                   Spécialisation  \\\n",
       "Year       Semester             Nom Prénom                          \n",
       " 2007-2008  Bachelor semestre 1 Aubelle Flavien                     \n",
       "                                Badoud Morgan                       \n",
       "                                Baeriswyl Jonathan                  \n",
       "                                Barroco Michael                     \n",
       "                                Belfis Nicolas                      \n",
       "\n",
       "                                                   Filière opt. Mineur  \\\n",
       "Year       Semester             Nom Prénom                               \n",
       " 2007-2008  Bachelor semestre 1 Aubelle Flavien                          \n",
       "                                Badoud Morgan                            \n",
       "                                Baeriswyl Jonathan                       \n",
       "                                Barroco Michael                          \n",
       "                                Belfis Nicolas                           \n",
       "\n",
       "                                                     Statut Type Echange  \\\n",
       "Year       Semester             Nom Prénom                                 \n",
       " 2007-2008  Bachelor semestre 1 Aubelle Flavien     Présent                \n",
       "                                Badoud Morgan       Présent                \n",
       "                                Baeriswyl Jonathan  Présent                \n",
       "                                Barroco Michael     Présent                \n",
       "                                Belfis Nicolas      Présent                \n",
       "\n",
       "                                                   Ecole Echange No Sciper  \n",
       "Year       Semester             Nom Prénom                                  \n",
       " 2007-2008  Bachelor semestre 1 Aubelle Flavien                     174905  \n",
       "                                Badoud Morgan                       173922  \n",
       "                                Baeriswyl Jonathan                  179406  \n",
       "                                Barroco Michael                     179428  \n",
       "                                Belfis Nicolas                      179324  "
      ]
     },
     "execution_count": 11,
     "metadata": {},
     "output_type": "execute_result"
    }
   ],
   "source": [
    "bachelor_df.head()"
   ]
  },
  {
   "cell_type": "markdown",
   "metadata": {},
   "source": [
    "Now we want to filter out scipers that didn't attend both Bachelor semester 1 and Bachelor semester 2. We fill the matching scipers in a new dataframe named `filtered_bachelor_df`"
   ]
  },
  {
   "cell_type": "code",
   "execution_count": 12,
   "metadata": {
    "collapsed": false
   },
   "outputs": [],
   "source": [
    "filtered_scipers = []\n",
    "\n",
    "for sciper in list(set(bachelor_df[\"No Sciper\"])):\n",
    "    \n",
    "    temp_df = bachelor_df[bachelor_df[\"No Sciper\"] == sciper]\n",
    "    list_sem = temp_df.index.get_level_values(\"Semester\")\n",
    "    \n",
    "    cond1 = ' Bachelor semestre 1' in list_sem\n",
    "    cond2 = ' Bachelor semestre 6' in list_sem\n",
    "    \n",
    "    if cond1 == True and cond2 == True:\n",
    "        filtered_scipers.append(temp_df)\n",
    "    \n",
    "filtered_bachelor_df = pd.concat(filtered_scipers)\n",
    "\n",
    "# Re-indexing\n",
    "filtered_bachelor_df = filtered_bachelor_df.reset_index()\n",
    "filtered_bachelor_df = filtered_bachelor_df.set_index([\"Nom Prénom\",\"No Sciper\", \"Year\", \"Semester\"])"
   ]
  },
  {
   "cell_type": "code",
   "execution_count": 13,
   "metadata": {
    "collapsed": false
   },
   "outputs": [
    {
     "data": {
      "text/html": [
       "<div>\n",
       "<table border=\"1\" class=\"dataframe\">\n",
       "  <thead>\n",
       "    <tr style=\"text-align: right;\">\n",
       "      <th></th>\n",
       "      <th></th>\n",
       "      <th></th>\n",
       "      <th></th>\n",
       "      <th>index</th>\n",
       "      <th>Civilité</th>\n",
       "      <th>Orientation Bachelor</th>\n",
       "      <th>Orientation Master</th>\n",
       "      <th>Spécialisation</th>\n",
       "      <th>Filière opt.</th>\n",
       "      <th>Mineur</th>\n",
       "      <th>Statut</th>\n",
       "      <th>Type Echange</th>\n",
       "      <th>Ecole Echange</th>\n",
       "    </tr>\n",
       "    <tr>\n",
       "      <th>Nom Prénom</th>\n",
       "      <th>No Sciper</th>\n",
       "      <th>Year</th>\n",
       "      <th>Semester</th>\n",
       "      <th></th>\n",
       "      <th></th>\n",
       "      <th></th>\n",
       "      <th></th>\n",
       "      <th></th>\n",
       "      <th></th>\n",
       "      <th></th>\n",
       "      <th></th>\n",
       "      <th></th>\n",
       "      <th></th>\n",
       "    </tr>\n",
       "  </thead>\n",
       "  <tbody>\n",
       "    <tr>\n",
       "      <th rowspan=\"5\" valign=\"top\">Girod Luc</th>\n",
       "      <th rowspan=\"5\" valign=\"top\">192555</th>\n",
       "      <th rowspan=\"2\" valign=\"top\">2011-2012</th>\n",
       "      <th>Bachelor semestre 1</th>\n",
       "      <td>59</td>\n",
       "      <td>Monsieur</td>\n",
       "      <td></td>\n",
       "      <td></td>\n",
       "      <td></td>\n",
       "      <td></td>\n",
       "      <td></td>\n",
       "      <td>Présent</td>\n",
       "      <td></td>\n",
       "      <td></td>\n",
       "    </tr>\n",
       "    <tr>\n",
       "      <th>Bachelor semestre 2</th>\n",
       "      <td>46</td>\n",
       "      <td>Monsieur</td>\n",
       "      <td></td>\n",
       "      <td></td>\n",
       "      <td></td>\n",
       "      <td></td>\n",
       "      <td></td>\n",
       "      <td>Présent</td>\n",
       "      <td></td>\n",
       "      <td></td>\n",
       "    </tr>\n",
       "    <tr>\n",
       "      <th rowspan=\"2\" valign=\"top\">2012-2013</th>\n",
       "      <th>Bachelor semestre 3</th>\n",
       "      <td>26</td>\n",
       "      <td>Monsieur</td>\n",
       "      <td></td>\n",
       "      <td></td>\n",
       "      <td></td>\n",
       "      <td></td>\n",
       "      <td></td>\n",
       "      <td>Présent</td>\n",
       "      <td></td>\n",
       "      <td></td>\n",
       "    </tr>\n",
       "    <tr>\n",
       "      <th>Bachelor semestre 4</th>\n",
       "      <td>26</td>\n",
       "      <td>Monsieur</td>\n",
       "      <td></td>\n",
       "      <td></td>\n",
       "      <td></td>\n",
       "      <td></td>\n",
       "      <td></td>\n",
       "      <td>Présent</td>\n",
       "      <td></td>\n",
       "      <td></td>\n",
       "    </tr>\n",
       "    <tr>\n",
       "      <th>2013-2014</th>\n",
       "      <th>Bachelor semestre 5</th>\n",
       "      <td>43</td>\n",
       "      <td>Monsieur</td>\n",
       "      <td></td>\n",
       "      <td></td>\n",
       "      <td></td>\n",
       "      <td></td>\n",
       "      <td></td>\n",
       "      <td>Présent</td>\n",
       "      <td></td>\n",
       "      <td></td>\n",
       "    </tr>\n",
       "  </tbody>\n",
       "</table>\n",
       "</div>"
      ],
      "text/plain": [
       "                                                      index  Civilité  \\\n",
       "Nom Prénom No Sciper Year       Semester                                \n",
       "Girod Luc  192555     2011-2012  Bachelor semestre 1     59  Monsieur   \n",
       "                                 Bachelor semestre 2     46  Monsieur   \n",
       "                      2012-2013  Bachelor semestre 3     26  Monsieur   \n",
       "                                 Bachelor semestre 4     26  Monsieur   \n",
       "                      2013-2014  Bachelor semestre 5     43  Monsieur   \n",
       "\n",
       "                                                     Orientation Bachelor  \\\n",
       "Nom Prénom No Sciper Year       Semester                                    \n",
       "Girod Luc  192555     2011-2012  Bachelor semestre 1                        \n",
       "                                 Bachelor semestre 2                        \n",
       "                      2012-2013  Bachelor semestre 3                        \n",
       "                                 Bachelor semestre 4                        \n",
       "                      2013-2014  Bachelor semestre 5                        \n",
       "\n",
       "                                                     Orientation Master  \\\n",
       "Nom Prénom No Sciper Year       Semester                                  \n",
       "Girod Luc  192555     2011-2012  Bachelor semestre 1                      \n",
       "                                 Bachelor semestre 2                      \n",
       "                      2012-2013  Bachelor semestre 3                      \n",
       "                                 Bachelor semestre 4                      \n",
       "                      2013-2014  Bachelor semestre 5                      \n",
       "\n",
       "                                                     Spécialisation  \\\n",
       "Nom Prénom No Sciper Year       Semester                              \n",
       "Girod Luc  192555     2011-2012  Bachelor semestre 1                  \n",
       "                                 Bachelor semestre 2                  \n",
       "                      2012-2013  Bachelor semestre 3                  \n",
       "                                 Bachelor semestre 4                  \n",
       "                      2013-2014  Bachelor semestre 5                  \n",
       "\n",
       "                                                     Filière opt. Mineur  \\\n",
       "Nom Prénom No Sciper Year       Semester                                   \n",
       "Girod Luc  192555     2011-2012  Bachelor semestre 1                       \n",
       "                                 Bachelor semestre 2                       \n",
       "                      2012-2013  Bachelor semestre 3                       \n",
       "                                 Bachelor semestre 4                       \n",
       "                      2013-2014  Bachelor semestre 5                       \n",
       "\n",
       "                                                       Statut Type Echange  \\\n",
       "Nom Prénom No Sciper Year       Semester                                     \n",
       "Girod Luc  192555     2011-2012  Bachelor semestre 1  Présent                \n",
       "                                 Bachelor semestre 2  Présent                \n",
       "                      2012-2013  Bachelor semestre 3  Présent                \n",
       "                                 Bachelor semestre 4  Présent                \n",
       "                      2013-2014  Bachelor semestre 5  Présent                \n",
       "\n",
       "                                                     Ecole Echange  \n",
       "Nom Prénom No Sciper Year       Semester                            \n",
       "Girod Luc  192555     2011-2012  Bachelor semestre 1                \n",
       "                                 Bachelor semestre 2                \n",
       "                      2012-2013  Bachelor semestre 3                \n",
       "                                 Bachelor semestre 4                \n",
       "                      2013-2014  Bachelor semestre 5                "
      ]
     },
     "execution_count": 13,
     "metadata": {},
     "output_type": "execute_result"
    }
   ],
   "source": [
    "filtered_bachelor_df.head()"
   ]
  },
  {
   "cell_type": "markdown",
   "metadata": {},
   "source": [
    "Now let's check how many distinct students who started the bachelor at EPFL and finished it (b/w 2007 and 2016), we call that `num_bachelor_graduates`"
   ]
  },
  {
   "cell_type": "code",
   "execution_count": 16,
   "metadata": {
    "collapsed": false
   },
   "outputs": [
    {
     "name": "stdout",
     "output_type": "stream",
     "text": [
      "372  Bachelor students graduated\n"
     ]
    }
   ],
   "source": [
    "filtered_bachelor_scipers = filtered_bachelor_df.index.get_level_values('No Sciper').drop_duplicates()\n",
    "num_bachelor_graduates = filtered_bachelor_scipers.shape[0]\n",
    "print(num_bachelor_graduates, \" Bachelor students graduated\")"
   ]
  },
  {
   "cell_type": "markdown",
   "metadata": {},
   "source": [
    "We know that this result may vary depending on groups assumptions, but we consider only students that completed both Semester 1 and Semester 6 in EPFL (as strictly said in the question). That has two drawbacks :\n",
    "\n",
    "- it excludes students that entered EPFL using \"Passerelles\" (arriving directly in 2nd year) \n",
    "- it also excludes students that did change section during their Bachelor. "
   ]
  },
  {
   "cell_type": "markdown",
   "metadata": {},
   "source": [
    "We highlight this limitation by giving an example, Christian Mouchet, that arrived in Computer Science only in 2nd year of Bachelor. It is not counted in our calculus because it doesn't fill the criteria of the question but that could be discussed as he has been a Bachelor Graduate in CS anyway."
   ]
  },
  {
   "cell_type": "code",
   "execution_count": 17,
   "metadata": {
    "collapsed": false
   },
   "outputs": [
    {
     "data": {
      "text/html": [
       "<div>\n",
       "<table border=\"1\" class=\"dataframe\">\n",
       "  <thead>\n",
       "    <tr style=\"text-align: right;\">\n",
       "      <th></th>\n",
       "      <th></th>\n",
       "      <th></th>\n",
       "      <th></th>\n",
       "      <th>index</th>\n",
       "      <th>Orientation Bachelor</th>\n",
       "      <th>Orientation Master</th>\n",
       "      <th>Spécialisation</th>\n",
       "      <th>Filière opt.</th>\n",
       "      <th>Mineur</th>\n",
       "      <th>Statut</th>\n",
       "      <th>Type Echange</th>\n",
       "      <th>Ecole Echange</th>\n",
       "      <th>No Sciper</th>\n",
       "    </tr>\n",
       "    <tr>\n",
       "      <th>Civilité</th>\n",
       "      <th>Nom Prénom</th>\n",
       "      <th>Year</th>\n",
       "      <th>Semester</th>\n",
       "      <th></th>\n",
       "      <th></th>\n",
       "      <th></th>\n",
       "      <th></th>\n",
       "      <th></th>\n",
       "      <th></th>\n",
       "      <th></th>\n",
       "      <th></th>\n",
       "      <th></th>\n",
       "      <th></th>\n",
       "    </tr>\n",
       "  </thead>\n",
       "  <tbody>\n",
       "    <tr>\n",
       "      <th rowspan=\"4\" valign=\"top\">Monsieur</th>\n",
       "      <th rowspan=\"4\" valign=\"top\">Mouchet Christian Vincent</th>\n",
       "      <th rowspan=\"2\" valign=\"top\">2012-2013</th>\n",
       "      <th>Bachelor semestre 3</th>\n",
       "      <td>48</td>\n",
       "      <td></td>\n",
       "      <td></td>\n",
       "      <td></td>\n",
       "      <td></td>\n",
       "      <td></td>\n",
       "      <td>Attente</td>\n",
       "      <td></td>\n",
       "      <td></td>\n",
       "      <td>217453</td>\n",
       "    </tr>\n",
       "    <tr>\n",
       "      <th>Bachelor semestre 4</th>\n",
       "      <td>44</td>\n",
       "      <td></td>\n",
       "      <td></td>\n",
       "      <td></td>\n",
       "      <td></td>\n",
       "      <td></td>\n",
       "      <td>Présent</td>\n",
       "      <td></td>\n",
       "      <td></td>\n",
       "      <td>217453</td>\n",
       "    </tr>\n",
       "    <tr>\n",
       "      <th rowspan=\"2\" valign=\"top\">2013-2014</th>\n",
       "      <th>Bachelor semestre 5</th>\n",
       "      <td>68</td>\n",
       "      <td></td>\n",
       "      <td></td>\n",
       "      <td></td>\n",
       "      <td></td>\n",
       "      <td></td>\n",
       "      <td>Présent</td>\n",
       "      <td></td>\n",
       "      <td></td>\n",
       "      <td>217453</td>\n",
       "    </tr>\n",
       "    <tr>\n",
       "      <th>Bachelor semestre 6</th>\n",
       "      <td>56</td>\n",
       "      <td></td>\n",
       "      <td></td>\n",
       "      <td></td>\n",
       "      <td></td>\n",
       "      <td></td>\n",
       "      <td>Présent</td>\n",
       "      <td></td>\n",
       "      <td></td>\n",
       "      <td>217453</td>\n",
       "    </tr>\n",
       "  </tbody>\n",
       "</table>\n",
       "</div>"
      ],
      "text/plain": [
       "                                                                    index  \\\n",
       "Civilité Nom Prénom                Year       Semester                      \n",
       "Monsieur Mouchet Christian Vincent  2012-2013  Bachelor semestre 3     48   \n",
       "                                               Bachelor semestre 4     44   \n",
       "                                    2013-2014  Bachelor semestre 5     68   \n",
       "                                               Bachelor semestre 6     56   \n",
       "\n",
       "                                                                   Orientation Bachelor  \\\n",
       "Civilité Nom Prénom                Year       Semester                                    \n",
       "Monsieur Mouchet Christian Vincent  2012-2013  Bachelor semestre 3                        \n",
       "                                               Bachelor semestre 4                        \n",
       "                                    2013-2014  Bachelor semestre 5                        \n",
       "                                               Bachelor semestre 6                        \n",
       "\n",
       "                                                                   Orientation Master  \\\n",
       "Civilité Nom Prénom                Year       Semester                                  \n",
       "Monsieur Mouchet Christian Vincent  2012-2013  Bachelor semestre 3                      \n",
       "                                               Bachelor semestre 4                      \n",
       "                                    2013-2014  Bachelor semestre 5                      \n",
       "                                               Bachelor semestre 6                      \n",
       "\n",
       "                                                                   Spécialisation  \\\n",
       "Civilité Nom Prénom                Year       Semester                              \n",
       "Monsieur Mouchet Christian Vincent  2012-2013  Bachelor semestre 3                  \n",
       "                                               Bachelor semestre 4                  \n",
       "                                    2013-2014  Bachelor semestre 5                  \n",
       "                                               Bachelor semestre 6                  \n",
       "\n",
       "                                                                   Filière opt.  \\\n",
       "Civilité Nom Prénom                Year       Semester                            \n",
       "Monsieur Mouchet Christian Vincent  2012-2013  Bachelor semestre 3                \n",
       "                                               Bachelor semestre 4                \n",
       "                                    2013-2014  Bachelor semestre 5                \n",
       "                                               Bachelor semestre 6                \n",
       "\n",
       "                                                                   Mineur  \\\n",
       "Civilité Nom Prénom                Year       Semester                      \n",
       "Monsieur Mouchet Christian Vincent  2012-2013  Bachelor semestre 3          \n",
       "                                               Bachelor semestre 4          \n",
       "                                    2013-2014  Bachelor semestre 5          \n",
       "                                               Bachelor semestre 6          \n",
       "\n",
       "                                                                     Statut  \\\n",
       "Civilité Nom Prénom                Year       Semester                        \n",
       "Monsieur Mouchet Christian Vincent  2012-2013  Bachelor semestre 3  Attente   \n",
       "                                               Bachelor semestre 4  Présent   \n",
       "                                    2013-2014  Bachelor semestre 5  Présent   \n",
       "                                               Bachelor semestre 6  Présent   \n",
       "\n",
       "                                                                   Type Echange  \\\n",
       "Civilité Nom Prénom                Year       Semester                            \n",
       "Monsieur Mouchet Christian Vincent  2012-2013  Bachelor semestre 3                \n",
       "                                               Bachelor semestre 4                \n",
       "                                    2013-2014  Bachelor semestre 5                \n",
       "                                               Bachelor semestre 6                \n",
       "\n",
       "                                                                   Ecole Echange  \\\n",
       "Civilité Nom Prénom                Year       Semester                             \n",
       "Monsieur Mouchet Christian Vincent  2012-2013  Bachelor semestre 3                 \n",
       "                                               Bachelor semestre 4                 \n",
       "                                    2013-2014  Bachelor semestre 5                 \n",
       "                                               Bachelor semestre 6                 \n",
       "\n",
       "                                                                   No Sciper  \n",
       "Civilité Nom Prénom                Year       Semester                        \n",
       "Monsieur Mouchet Christian Vincent  2012-2013  Bachelor semestre 3    217453  \n",
       "                                               Bachelor semestre 4    217453  \n",
       "                                    2013-2014  Bachelor semestre 5    217453  \n",
       "                                               Bachelor semestre 6    217453  "
      ]
     },
     "execution_count": 17,
     "metadata": {},
     "output_type": "execute_result"
    }
   ],
   "source": [
    "mouchet = bachelor_df[bachelor_df[\"No Sciper\"] == \"217453\"]\n",
    "mouchet = mouchet.reset_index()\n",
    "mouchet = mouchet.set_index([\"Civilité\",\"Nom Prénom\", \"Year\", \"Semester\"])\n",
    "mouchet"
   ]
  },
  {
   "cell_type": "markdown",
   "metadata": {},
   "source": [
    "We want to estimate the average duration for students to reach a Bachelor Degree at EPFL in Computer Science. By assuming it takes 6 months per semester, we do as follow : "
   ]
  },
  {
   "cell_type": "code",
   "execution_count": 18,
   "metadata": {
    "collapsed": true
   },
   "outputs": [],
   "source": [
    "def compute_duration(df, sciper_index):\n",
    "    from collections import Counter\n",
    "    df_scipers = df.index.get_level_values('No Sciper')\n",
    "    cnt = Counter(df_scipers)\n",
    "    \n",
    "    name_index = df.index.get_level_values('Nom Prénom')\n",
    "    name_index = name_index.drop_duplicates()\n",
    "\n",
    "    duration_df = pd.DataFrame(sciper_index,index=name_index)\n",
    "    duration_df['Duration (Months)'] = [cnt[scp]*6 for scp in sciper_index]  # tranform semesters into months \n",
    "    return duration_df\n",
    "    "
   ]
  },
  {
   "cell_type": "code",
   "execution_count": 19,
   "metadata": {
    "collapsed": true
   },
   "outputs": [],
   "source": [
    "duration_bachelor_df = compute_duration(filtered_bachelor_df, filtered_bachelor_scipers)"
   ]
  },
  {
   "cell_type": "code",
   "execution_count": 20,
   "metadata": {
    "collapsed": false
   },
   "outputs": [
    {
     "data": {
      "text/html": [
       "<div>\n",
       "<table border=\"1\" class=\"dataframe\">\n",
       "  <thead>\n",
       "    <tr style=\"text-align: right;\">\n",
       "      <th></th>\n",
       "      <th>No Sciper</th>\n",
       "      <th>Duration (Months)</th>\n",
       "    </tr>\n",
       "    <tr>\n",
       "      <th>Nom Prénom</th>\n",
       "      <th></th>\n",
       "      <th></th>\n",
       "    </tr>\n",
       "  </thead>\n",
       "  <tbody>\n",
       "    <tr>\n",
       "      <th>Girod Luc</th>\n",
       "      <td>192555</td>\n",
       "      <td>60</td>\n",
       "    </tr>\n",
       "    <tr>\n",
       "      <th>Zablotchi Mihail Igor</th>\n",
       "      <td>192870</td>\n",
       "      <td>36</td>\n",
       "    </tr>\n",
       "    <tr>\n",
       "      <th>Montero Hernandez Aimée</th>\n",
       "      <td>221053</td>\n",
       "      <td>36</td>\n",
       "    </tr>\n",
       "    <tr>\n",
       "      <th>Zoller Roman</th>\n",
       "      <td>178682</td>\n",
       "      <td>36</td>\n",
       "    </tr>\n",
       "    <tr>\n",
       "      <th>Kuenlin Quentin</th>\n",
       "      <td>234033</td>\n",
       "      <td>36</td>\n",
       "    </tr>\n",
       "  </tbody>\n",
       "</table>\n",
       "</div>"
      ],
      "text/plain": [
       "                        No Sciper  Duration (Months)\n",
       "Nom Prénom                                          \n",
       "Girod Luc                  192555                 60\n",
       "Zablotchi Mihail Igor      192870                 36\n",
       "Montero Hernandez Aimée    221053                 36\n",
       "Zoller Roman               178682                 36\n",
       "Kuenlin Quentin            234033                 36"
      ]
     },
     "execution_count": 20,
     "metadata": {},
     "output_type": "execute_result"
    }
   ],
   "source": [
    "duration_bachelor_df.head()"
   ]
  },
  {
   "cell_type": "code",
   "execution_count": 21,
   "metadata": {
    "collapsed": false
   },
   "outputs": [
    {
     "data": {
      "text/plain": [
       "count    372.000000\n",
       "mean      42.274194\n",
       "std        8.910461\n",
       "min       18.000000\n",
       "25%       36.000000\n",
       "50%       36.000000\n",
       "75%       48.000000\n",
       "max       72.000000\n",
       "Name: Duration (Months), dtype: float64"
      ]
     },
     "execution_count": 21,
     "metadata": {},
     "output_type": "execute_result"
    }
   ],
   "source": [
    "duration_bachelor_df['Duration (Months)'].describe()"
   ]
  },
  {
   "cell_type": "markdown",
   "metadata": {},
   "source": [
    "We can see that on the 372 students we kept that had entries both for Bachelor semestre 1 and Bachelor semestre 6, the mean number of semesters to reach the degree is of 7.045 which means __42.27 months__. There is a maximum for 72 months (6 years). And a minimum for 3 semesters (18 months) : how is that possible ?\n"
   ]
  },
  {
   "cell_type": "code",
   "execution_count": 22,
   "metadata": {
    "collapsed": false
   },
   "outputs": [
    {
     "data": {
      "text/html": [
       "<div>\n",
       "<table border=\"1\" class=\"dataframe\">\n",
       "  <thead>\n",
       "    <tr style=\"text-align: right;\">\n",
       "      <th></th>\n",
       "      <th></th>\n",
       "      <th></th>\n",
       "      <th>index</th>\n",
       "      <th>Civilité</th>\n",
       "      <th>Orientation Bachelor</th>\n",
       "      <th>Orientation Master</th>\n",
       "      <th>Spécialisation</th>\n",
       "      <th>Filière opt.</th>\n",
       "      <th>Mineur</th>\n",
       "      <th>Statut</th>\n",
       "      <th>Type Echange</th>\n",
       "      <th>Ecole Echange</th>\n",
       "      <th>No Sciper</th>\n",
       "    </tr>\n",
       "    <tr>\n",
       "      <th>Year</th>\n",
       "      <th>Semester</th>\n",
       "      <th>Nom Prénom</th>\n",
       "      <th></th>\n",
       "      <th></th>\n",
       "      <th></th>\n",
       "      <th></th>\n",
       "      <th></th>\n",
       "      <th></th>\n",
       "      <th></th>\n",
       "      <th></th>\n",
       "      <th></th>\n",
       "      <th></th>\n",
       "      <th></th>\n",
       "    </tr>\n",
       "  </thead>\n",
       "  <tbody>\n",
       "    <tr>\n",
       "      <th>2013-2014</th>\n",
       "      <th>Bachelor semestre 1</th>\n",
       "      <th>Alfonso Peterssen Alfonso</th>\n",
       "      <td>0</td>\n",
       "      <td>Monsieur</td>\n",
       "      <td></td>\n",
       "      <td></td>\n",
       "      <td></td>\n",
       "      <td></td>\n",
       "      <td></td>\n",
       "      <td>Présent</td>\n",
       "      <td></td>\n",
       "      <td></td>\n",
       "      <td>228219</td>\n",
       "    </tr>\n",
       "    <tr>\n",
       "      <th rowspan=\"2\" valign=\"top\">2015-2016</th>\n",
       "      <th>Bachelor semestre 5</th>\n",
       "      <th>Alfonso Peterssen Alfonso</th>\n",
       "      <td>0</td>\n",
       "      <td>Monsieur</td>\n",
       "      <td></td>\n",
       "      <td></td>\n",
       "      <td></td>\n",
       "      <td>6 - Visual computing</td>\n",
       "      <td></td>\n",
       "      <td>Présent</td>\n",
       "      <td></td>\n",
       "      <td></td>\n",
       "      <td>228219</td>\n",
       "    </tr>\n",
       "    <tr>\n",
       "      <th>Bachelor semestre 6</th>\n",
       "      <th>Alfonso Peterssen Alfonso</th>\n",
       "      <td>0</td>\n",
       "      <td>Monsieur</td>\n",
       "      <td></td>\n",
       "      <td></td>\n",
       "      <td></td>\n",
       "      <td>6 - Visual computing</td>\n",
       "      <td></td>\n",
       "      <td>Présent</td>\n",
       "      <td></td>\n",
       "      <td></td>\n",
       "      <td>228219</td>\n",
       "    </tr>\n",
       "  </tbody>\n",
       "</table>\n",
       "</div>"
      ],
      "text/plain": [
       "                                                           index  Civilité  \\\n",
       "Year       Semester             Nom Prénom                                   \n",
       " 2013-2014  Bachelor semestre 1 Alfonso Peterssen Alfonso      0  Monsieur   \n",
       " 2015-2016  Bachelor semestre 5 Alfonso Peterssen Alfonso      0  Monsieur   \n",
       "            Bachelor semestre 6 Alfonso Peterssen Alfonso      0  Monsieur   \n",
       "\n",
       "                                                          Orientation Bachelor  \\\n",
       "Year       Semester             Nom Prénom                                       \n",
       " 2013-2014  Bachelor semestre 1 Alfonso Peterssen Alfonso                        \n",
       " 2015-2016  Bachelor semestre 5 Alfonso Peterssen Alfonso                        \n",
       "            Bachelor semestre 6 Alfonso Peterssen Alfonso                        \n",
       "\n",
       "                                                          Orientation Master  \\\n",
       "Year       Semester             Nom Prénom                                     \n",
       " 2013-2014  Bachelor semestre 1 Alfonso Peterssen Alfonso                      \n",
       " 2015-2016  Bachelor semestre 5 Alfonso Peterssen Alfonso                      \n",
       "            Bachelor semestre 6 Alfonso Peterssen Alfonso                      \n",
       "\n",
       "                                                          Spécialisation  \\\n",
       "Year       Semester             Nom Prénom                                 \n",
       " 2013-2014  Bachelor semestre 1 Alfonso Peterssen Alfonso                  \n",
       " 2015-2016  Bachelor semestre 5 Alfonso Peterssen Alfonso                  \n",
       "            Bachelor semestre 6 Alfonso Peterssen Alfonso                  \n",
       "\n",
       "                                                                   Filière opt.  \\\n",
       "Year       Semester             Nom Prénom                                        \n",
       " 2013-2014  Bachelor semestre 1 Alfonso Peterssen Alfonso                         \n",
       " 2015-2016  Bachelor semestre 5 Alfonso Peterssen Alfonso  6 - Visual computing   \n",
       "            Bachelor semestre 6 Alfonso Peterssen Alfonso  6 - Visual computing   \n",
       "\n",
       "                                                          Mineur   Statut  \\\n",
       "Year       Semester             Nom Prénom                                  \n",
       " 2013-2014  Bachelor semestre 1 Alfonso Peterssen Alfonso         Présent   \n",
       " 2015-2016  Bachelor semestre 5 Alfonso Peterssen Alfonso         Présent   \n",
       "            Bachelor semestre 6 Alfonso Peterssen Alfonso         Présent   \n",
       "\n",
       "                                                          Type Echange  \\\n",
       "Year       Semester             Nom Prénom                               \n",
       " 2013-2014  Bachelor semestre 1 Alfonso Peterssen Alfonso                \n",
       " 2015-2016  Bachelor semestre 5 Alfonso Peterssen Alfonso                \n",
       "            Bachelor semestre 6 Alfonso Peterssen Alfonso                \n",
       "\n",
       "                                                          Ecole Echange  \\\n",
       "Year       Semester             Nom Prénom                                \n",
       " 2013-2014  Bachelor semestre 1 Alfonso Peterssen Alfonso                 \n",
       " 2015-2016  Bachelor semestre 5 Alfonso Peterssen Alfonso                 \n",
       "            Bachelor semestre 6 Alfonso Peterssen Alfonso                 \n",
       "\n",
       "                                                          No Sciper  \n",
       "Year       Semester             Nom Prénom                           \n",
       " 2013-2014  Bachelor semestre 1 Alfonso Peterssen Alfonso    228219  \n",
       " 2015-2016  Bachelor semestre 5 Alfonso Peterssen Alfonso    228219  \n",
       "            Bachelor semestre 6 Alfonso Peterssen Alfonso    228219  "
      ]
     },
     "execution_count": 22,
     "metadata": {},
     "output_type": "execute_result"
    }
   ],
   "source": [
    "target_sciper = duration_bachelor_df[duration_bachelor_df[\"Duration (Months)\"]==18][\"No Sciper\"][0]\n",
    "bachelor_df[bachelor_df[\"No Sciper\"] == target_sciper]"
   ]
  },
  {
   "cell_type": "markdown",
   "metadata": {},
   "source": [
    "Alfonso apparently did go from BA1 directly to BA5, BA6, it's worth asking the recipe! Or is there only missing data in 2014-2015 ? Weird."
   ]
  },
  {
   "cell_type": "code",
   "execution_count": 23,
   "metadata": {
    "collapsed": false
   },
   "outputs": [
    {
     "data": {
      "text/plain": [
       "<matplotlib.axes._subplots.AxesSubplot at 0x109486eb8>"
      ]
     },
     "execution_count": 23,
     "metadata": {},
     "output_type": "execute_result"
    },
    {
     "data": {
      "image/png": "[encoded data removed]",
      "text/plain": [
       "<matplotlib.figure.Figure at 0x109849b38>"
      ]
     },
     "metadata": {},
     "output_type": "display_data"
    }
   ],
   "source": [
    "%matplotlib inline\n",
    "duration_bachelor_df['Duration (Months)'].hist()"
   ]
  },
  {
   "cell_type": "code",
   "execution_count": 24,
   "metadata": {
    "collapsed": false
   },
   "outputs": [
    {
     "data": {
      "text/html": [
       "<div>\n",
       "<table border=\"1\" class=\"dataframe\">\n",
       "  <thead>\n",
       "    <tr style=\"text-align: right;\">\n",
       "      <th></th>\n",
       "      <th></th>\n",
       "      <th></th>\n",
       "      <th></th>\n",
       "      <th>index</th>\n",
       "      <th>Civilité</th>\n",
       "      <th>Orientation Bachelor</th>\n",
       "      <th>Orientation Master</th>\n",
       "      <th>Spécialisation</th>\n",
       "      <th>Filière opt.</th>\n",
       "      <th>Mineur</th>\n",
       "      <th>Statut</th>\n",
       "      <th>Type Echange</th>\n",
       "      <th>Ecole Echange</th>\n",
       "    </tr>\n",
       "    <tr>\n",
       "      <th>Nom Prénom</th>\n",
       "      <th>No Sciper</th>\n",
       "      <th>Year</th>\n",
       "      <th>Semester</th>\n",
       "      <th></th>\n",
       "      <th></th>\n",
       "      <th></th>\n",
       "      <th></th>\n",
       "      <th></th>\n",
       "      <th></th>\n",
       "      <th></th>\n",
       "      <th></th>\n",
       "      <th></th>\n",
       "      <th></th>\n",
       "    </tr>\n",
       "  </thead>\n",
       "  <tbody>\n",
       "    <tr>\n",
       "      <th rowspan=\"5\" valign=\"top\">Girod Luc</th>\n",
       "      <th rowspan=\"5\" valign=\"top\">192555</th>\n",
       "      <th rowspan=\"2\" valign=\"top\">2011-2012</th>\n",
       "      <th>Bachelor semestre 1</th>\n",
       "      <td>59</td>\n",
       "      <td>Monsieur</td>\n",
       "      <td></td>\n",
       "      <td></td>\n",
       "      <td></td>\n",
       "      <td></td>\n",
       "      <td></td>\n",
       "      <td>Présent</td>\n",
       "      <td></td>\n",
       "      <td></td>\n",
       "    </tr>\n",
       "    <tr>\n",
       "      <th>Bachelor semestre 2</th>\n",
       "      <td>46</td>\n",
       "      <td>Monsieur</td>\n",
       "      <td></td>\n",
       "      <td></td>\n",
       "      <td></td>\n",
       "      <td></td>\n",
       "      <td></td>\n",
       "      <td>Présent</td>\n",
       "      <td></td>\n",
       "      <td></td>\n",
       "    </tr>\n",
       "    <tr>\n",
       "      <th rowspan=\"2\" valign=\"top\">2012-2013</th>\n",
       "      <th>Bachelor semestre 3</th>\n",
       "      <td>26</td>\n",
       "      <td>Monsieur</td>\n",
       "      <td></td>\n",
       "      <td></td>\n",
       "      <td></td>\n",
       "      <td></td>\n",
       "      <td></td>\n",
       "      <td>Présent</td>\n",
       "      <td></td>\n",
       "      <td></td>\n",
       "    </tr>\n",
       "    <tr>\n",
       "      <th>Bachelor semestre 4</th>\n",
       "      <td>26</td>\n",
       "      <td>Monsieur</td>\n",
       "      <td></td>\n",
       "      <td></td>\n",
       "      <td></td>\n",
       "      <td></td>\n",
       "      <td></td>\n",
       "      <td>Présent</td>\n",
       "      <td></td>\n",
       "      <td></td>\n",
       "    </tr>\n",
       "    <tr>\n",
       "      <th>2013-2014</th>\n",
       "      <th>Bachelor semestre 5</th>\n",
       "      <td>43</td>\n",
       "      <td>Monsieur</td>\n",
       "      <td></td>\n",
       "      <td></td>\n",
       "      <td></td>\n",
       "      <td></td>\n",
       "      <td></td>\n",
       "      <td>Présent</td>\n",
       "      <td></td>\n",
       "      <td></td>\n",
       "    </tr>\n",
       "  </tbody>\n",
       "</table>\n",
       "</div>"
      ],
      "text/plain": [
       "                                                      index  Civilité  \\\n",
       "Nom Prénom No Sciper Year       Semester                                \n",
       "Girod Luc  192555     2011-2012  Bachelor semestre 1     59  Monsieur   \n",
       "                                 Bachelor semestre 2     46  Monsieur   \n",
       "                      2012-2013  Bachelor semestre 3     26  Monsieur   \n",
       "                                 Bachelor semestre 4     26  Monsieur   \n",
       "                      2013-2014  Bachelor semestre 5     43  Monsieur   \n",
       "\n",
       "                                                     Orientation Bachelor  \\\n",
       "Nom Prénom No Sciper Year       Semester                                    \n",
       "Girod Luc  192555     2011-2012  Bachelor semestre 1                        \n",
       "                                 Bachelor semestre 2                        \n",
       "                      2012-2013  Bachelor semestre 3                        \n",
       "                                 Bachelor semestre 4                        \n",
       "                      2013-2014  Bachelor semestre 5                        \n",
       "\n",
       "                                                     Orientation Master  \\\n",
       "Nom Prénom No Sciper Year       Semester                                  \n",
       "Girod Luc  192555     2011-2012  Bachelor semestre 1                      \n",
       "                                 Bachelor semestre 2                      \n",
       "                      2012-2013  Bachelor semestre 3                      \n",
       "                                 Bachelor semestre 4                      \n",
       "                      2013-2014  Bachelor semestre 5                      \n",
       "\n",
       "                                                     Spécialisation  \\\n",
       "Nom Prénom No Sciper Year       Semester                              \n",
       "Girod Luc  192555     2011-2012  Bachelor semestre 1                  \n",
       "                                 Bachelor semestre 2                  \n",
       "                      2012-2013  Bachelor semestre 3                  \n",
       "                                 Bachelor semestre 4                  \n",
       "                      2013-2014  Bachelor semestre 5                  \n",
       "\n",
       "                                                     Filière opt. Mineur  \\\n",
       "Nom Prénom No Sciper Year       Semester                                   \n",
       "Girod Luc  192555     2011-2012  Bachelor semestre 1                       \n",
       "                                 Bachelor semestre 2                       \n",
       "                      2012-2013  Bachelor semestre 3                       \n",
       "                                 Bachelor semestre 4                       \n",
       "                      2013-2014  Bachelor semestre 5                       \n",
       "\n",
       "                                                       Statut Type Echange  \\\n",
       "Nom Prénom No Sciper Year       Semester                                     \n",
       "Girod Luc  192555     2011-2012  Bachelor semestre 1  Présent                \n",
       "                                 Bachelor semestre 2  Présent                \n",
       "                      2012-2013  Bachelor semestre 3  Présent                \n",
       "                                 Bachelor semestre 4  Présent                \n",
       "                      2013-2014  Bachelor semestre 5  Présent                \n",
       "\n",
       "                                                     Ecole Echange  \n",
       "Nom Prénom No Sciper Year       Semester                            \n",
       "Girod Luc  192555     2011-2012  Bachelor semestre 1                \n",
       "                                 Bachelor semestre 2                \n",
       "                      2012-2013  Bachelor semestre 3                \n",
       "                                 Bachelor semestre 4                \n",
       "                      2013-2014  Bachelor semestre 5                "
      ]
     },
     "execution_count": 24,
     "metadata": {},
     "output_type": "execute_result"
    }
   ],
   "source": [
    "filtered_bachelor_df.head()"
   ]
  },
  {
   "cell_type": "code",
   "execution_count": 72,
   "metadata": {
    "collapsed": true
   },
   "outputs": [],
   "source": [
    "def df_join(df, duration_df, attribute):\n",
    "    right = df.reset_index()\n",
    "    right = right.set_index([\"No Sciper\"]).drop_duplicates()\n",
    "    left = duration_df.reset_index()\n",
    "    left = left.set_index([\"No Sciper\"])\n",
    "    join = pd.merge(left, right, right_index=True, left_index=True)\n",
    "\n",
    "    join = join.reset_index()\n",
    "    join = join[[\"No Sciper\", attribute, \"Duration (Months)\", \"Year\"]].drop_duplicates()\n",
    "    return join"
   ]
  },
  {
   "cell_type": "code",
   "execution_count": 59,
   "metadata": {
    "collapsed": false
   },
   "outputs": [
    {
     "data": {
      "text/html": [
       "<div>\n",
       "<table border=\"1\" class=\"dataframe\">\n",
       "  <thead>\n",
       "    <tr style=\"text-align: right;\">\n",
       "      <th></th>\n",
       "      <th>Duration (Months)</th>\n",
       "    </tr>\n",
       "    <tr>\n",
       "      <th>Civilité</th>\n",
       "      <th></th>\n",
       "    </tr>\n",
       "  </thead>\n",
       "  <tbody>\n",
       "    <tr>\n",
       "      <th>Madame</th>\n",
       "      <td>39.857143</td>\n",
       "    </tr>\n",
       "    <tr>\n",
       "      <th>Monsieur</th>\n",
       "      <td>42.470930</td>\n",
       "    </tr>\n",
       "  </tbody>\n",
       "</table>\n",
       "</div>"
      ],
      "text/plain": [
       "          Duration (Months)\n",
       "Civilité                   \n",
       "Madame            39.857143\n",
       "Monsieur          42.470930"
      ]
     },
     "execution_count": 59,
     "metadata": {},
     "output_type": "execute_result"
    }
   ],
   "source": [
    "df_join(df=bachelor_df, duration_df=duration_bachelor_df, attribute=\"Civilité\").groupby(\"Civilité\").mean()"
   ]
  },
  {
   "cell_type": "markdown",
   "metadata": {},
   "source": [
    "Apparently, in average, __women are faster than men__ : 39.8 months versus 42.5 months! Now this is only roughly 10% difference, and classes are highly unbalanced (344 men versus 28 women), so it is maybe not that statistically significant. "
   ]
  },
  {
   "cell_type": "markdown",
   "metadata": {},
   "source": [
    "# Part 3 - Master Data"
   ]
  },
  {
   "cell_type": "markdown",
   "metadata": {},
   "source": [
    "> 2. Perform a similar operation to what described above, this time for Master students. Notice that this data is more tricky, as there are\n",
    "many missing records in the IS-Academia database. Therefore, try to guess __how much time a master student spent at EPFL__ by at least checking\n",
    "the distance in months between `Master semestre 1` and `Master semestre 2`. If the `Mineur` field is *not* empty, the student should also\n",
    "appear registered in `Master semestre 3`. Last but not the least, don't forget to check if the student has an entry also in the `Projet Master`\n",
    "tables. Once you can handle well this data, compute the \"average stay at EPFL\" for master students. Now __extract all the students with a \n",
    "`Spécialisation` and compute the \"average stay\" per each category of that attribute__ -- compared to the general average, can you find any\n",
    "specialization for which the difference in average is statistically significant?"
   ]
  },
  {
   "cell_type": "markdown",
   "metadata": {},
   "source": [
    "First we get the data"
   ]
  },
  {
   "cell_type": "code",
   "execution_count": 27,
   "metadata": {
    "collapsed": true
   },
   "outputs": [],
   "source": [
    "master_df = concat_dataframes(degree=\"Master\", n_potential_semesters=3)"
   ]
  },
  {
   "cell_type": "code",
   "execution_count": 28,
   "metadata": {
    "collapsed": false
   },
   "outputs": [
    {
     "data": {
      "text/html": [
       "<div>\n",
       "<table border=\"1\" class=\"dataframe\">\n",
       "  <thead>\n",
       "    <tr style=\"text-align: right;\">\n",
       "      <th></th>\n",
       "      <th>index</th>\n",
       "    </tr>\n",
       "  </thead>\n",
       "  <tbody>\n",
       "    <tr>\n",
       "      <th>count</th>\n",
       "      <td>2431.000000</td>\n",
       "    </tr>\n",
       "    <tr>\n",
       "      <th>mean</th>\n",
       "      <td>51.854792</td>\n",
       "    </tr>\n",
       "    <tr>\n",
       "      <th>std</th>\n",
       "      <td>37.810420</td>\n",
       "    </tr>\n",
       "    <tr>\n",
       "      <th>min</th>\n",
       "      <td>0.000000</td>\n",
       "    </tr>\n",
       "    <tr>\n",
       "      <th>25%</th>\n",
       "      <td>22.000000</td>\n",
       "    </tr>\n",
       "    <tr>\n",
       "      <th>50%</th>\n",
       "      <td>45.000000</td>\n",
       "    </tr>\n",
       "    <tr>\n",
       "      <th>75%</th>\n",
       "      <td>74.000000</td>\n",
       "    </tr>\n",
       "    <tr>\n",
       "      <th>max</th>\n",
       "      <td>194.000000</td>\n",
       "    </tr>\n",
       "  </tbody>\n",
       "</table>\n",
       "</div>"
      ],
      "text/plain": [
       "             index\n",
       "count  2431.000000\n",
       "mean     51.854792\n",
       "std      37.810420\n",
       "min       0.000000\n",
       "25%      22.000000\n",
       "50%      45.000000\n",
       "75%      74.000000\n",
       "max     194.000000"
      ]
     },
     "execution_count": 28,
     "metadata": {},
     "output_type": "execute_result"
    }
   ],
   "source": [
    "master_df.describe()"
   ]
  },
  {
   "cell_type": "code",
   "execution_count": 29,
   "metadata": {
    "collapsed": false
   },
   "outputs": [
    {
     "data": {
      "text/html": [
       "<div>\n",
       "<table border=\"1\" class=\"dataframe\">\n",
       "  <thead>\n",
       "    <tr style=\"text-align: right;\">\n",
       "      <th></th>\n",
       "      <th></th>\n",
       "      <th></th>\n",
       "      <th>index</th>\n",
       "      <th>Civilité</th>\n",
       "      <th>Orientation Bachelor</th>\n",
       "      <th>Orientation Master</th>\n",
       "      <th>Spécialisation</th>\n",
       "      <th>Filière opt.</th>\n",
       "      <th>Mineur</th>\n",
       "      <th>Statut</th>\n",
       "      <th>Type Echange</th>\n",
       "      <th>Ecole Echange</th>\n",
       "      <th>No Sciper</th>\n",
       "    </tr>\n",
       "    <tr>\n",
       "      <th>Year</th>\n",
       "      <th>Semester</th>\n",
       "      <th>Nom Prénom</th>\n",
       "      <th></th>\n",
       "      <th></th>\n",
       "      <th></th>\n",
       "      <th></th>\n",
       "      <th></th>\n",
       "      <th></th>\n",
       "      <th></th>\n",
       "      <th></th>\n",
       "      <th></th>\n",
       "      <th></th>\n",
       "      <th></th>\n",
       "    </tr>\n",
       "  </thead>\n",
       "  <tbody>\n",
       "    <tr>\n",
       "      <th rowspan=\"5\" valign=\"top\">2007-2008</th>\n",
       "      <th rowspan=\"5\" valign=\"top\">Master semestre 1</th>\n",
       "      <th>Agarwal Megha</th>\n",
       "      <td>0</td>\n",
       "      <td>Madame</td>\n",
       "      <td></td>\n",
       "      <td></td>\n",
       "      <td></td>\n",
       "      <td></td>\n",
       "      <td></td>\n",
       "      <td>Présent</td>\n",
       "      <td></td>\n",
       "      <td></td>\n",
       "      <td>180027</td>\n",
       "    </tr>\n",
       "    <tr>\n",
       "      <th>Anagnostaras David</th>\n",
       "      <td>1</td>\n",
       "      <td>Monsieur</td>\n",
       "      <td></td>\n",
       "      <td></td>\n",
       "      <td></td>\n",
       "      <td></td>\n",
       "      <td></td>\n",
       "      <td>Présent</td>\n",
       "      <td></td>\n",
       "      <td></td>\n",
       "      <td>152232</td>\n",
       "    </tr>\n",
       "    <tr>\n",
       "      <th>Auroux Damien</th>\n",
       "      <td>2</td>\n",
       "      <td>Monsieur</td>\n",
       "      <td></td>\n",
       "      <td></td>\n",
       "      <td></td>\n",
       "      <td></td>\n",
       "      <td></td>\n",
       "      <td>Présent</td>\n",
       "      <td></td>\n",
       "      <td></td>\n",
       "      <td>177395</td>\n",
       "    </tr>\n",
       "    <tr>\n",
       "      <th>Awalebo Joseph</th>\n",
       "      <td>3</td>\n",
       "      <td>Monsieur</td>\n",
       "      <td></td>\n",
       "      <td></td>\n",
       "      <td></td>\n",
       "      <td></td>\n",
       "      <td></td>\n",
       "      <td>Présent</td>\n",
       "      <td></td>\n",
       "      <td></td>\n",
       "      <td>161970</td>\n",
       "    </tr>\n",
       "    <tr>\n",
       "      <th>Balet Ken</th>\n",
       "      <td>4</td>\n",
       "      <td>Monsieur</td>\n",
       "      <td></td>\n",
       "      <td></td>\n",
       "      <td></td>\n",
       "      <td></td>\n",
       "      <td></td>\n",
       "      <td>Présent</td>\n",
       "      <td></td>\n",
       "      <td></td>\n",
       "      <td>166258</td>\n",
       "    </tr>\n",
       "  </tbody>\n",
       "</table>\n",
       "</div>"
      ],
      "text/plain": [
       "                                                  index  Civilité  \\\n",
       "Year       Semester           Nom Prénom                            \n",
       " 2007-2008  Master semestre 1 Agarwal Megha           0    Madame   \n",
       "                              Anagnostaras David      1  Monsieur   \n",
       "                              Auroux Damien           2  Monsieur   \n",
       "                              Awalebo Joseph          3  Monsieur   \n",
       "                              Balet Ken               4  Monsieur   \n",
       "\n",
       "                                                 Orientation Bachelor  \\\n",
       "Year       Semester           Nom Prénom                                \n",
       " 2007-2008  Master semestre 1 Agarwal Megha                             \n",
       "                              Anagnostaras David                        \n",
       "                              Auroux Damien                             \n",
       "                              Awalebo Joseph                            \n",
       "                              Balet Ken                                 \n",
       "\n",
       "                                                 Orientation Master  \\\n",
       "Year       Semester           Nom Prénom                              \n",
       " 2007-2008  Master semestre 1 Agarwal Megha                           \n",
       "                              Anagnostaras David                      \n",
       "                              Auroux Damien                           \n",
       "                              Awalebo Joseph                          \n",
       "                              Balet Ken                               \n",
       "\n",
       "                                                 Spécialisation Filière opt.  \\\n",
       "Year       Semester           Nom Prénom                                       \n",
       " 2007-2008  Master semestre 1 Agarwal Megha                                    \n",
       "                              Anagnostaras David                               \n",
       "                              Auroux Damien                                    \n",
       "                              Awalebo Joseph                                   \n",
       "                              Balet Ken                                        \n",
       "\n",
       "                                                 Mineur   Statut Type Echange  \\\n",
       "Year       Semester           Nom Prénom                                        \n",
       " 2007-2008  Master semestre 1 Agarwal Megha              Présent                \n",
       "                              Anagnostaras David         Présent                \n",
       "                              Auroux Damien              Présent                \n",
       "                              Awalebo Joseph             Présent                \n",
       "                              Balet Ken                  Présent                \n",
       "\n",
       "                                                 Ecole Echange No Sciper  \n",
       "Year       Semester           Nom Prénom                                  \n",
       " 2007-2008  Master semestre 1 Agarwal Megha                       180027  \n",
       "                              Anagnostaras David                  152232  \n",
       "                              Auroux Damien                       177395  \n",
       "                              Awalebo Joseph                      161970  \n",
       "                              Balet Ken                           166258  "
      ]
     },
     "execution_count": 29,
     "metadata": {},
     "output_type": "execute_result"
    }
   ],
   "source": [
    "master_df.head()"
   ]
  },
  {
   "cell_type": "markdown",
   "metadata": {},
   "source": [
    "Now we want to filter out students that did not graduate from EPFL.\n",
    "The problem is that the Computer Science Master degree can be made in two ways: \n",
    "\n",
    "- Option 1 : 90 ECTS, 2 semesters, without Specialization or Minor + Master Project\n",
    "- Option 2 : 120 ECTS, 3 semesters, within a Specialization or Minor + Master Project\n",
    "\n",
    "One could directly argue that regardless the option, the necessary and sufficient condition would be to complete a Master Project, but the data for Master Projects is terribly sparse (2015-2016 Fall : only 2 students registered for a Master Project.. huh) so we can not rely on it and will do approximations with the following assumptions :  \n",
    "\n",
    "- Condition 1 : You need __more__ than 1 semester to graduate\n",
    "- Condition 2 : If you did only 2 semesters you __should not__ have the field \"Specialization\" or \"Minor\".\n",
    "- A semester with status \"Stage\" counts as a normal semester (internship is mandatory for the Master, especially for a student that wants to do his Master Project in laboratory)"
   ]
  },
  {
   "cell_type": "markdown",
   "metadata": {},
   "source": [
    "Let's filter our dataframe given the conditions above :"
   ]
  },
  {
   "cell_type": "code",
   "execution_count": 40,
   "metadata": {
    "collapsed": true
   },
   "outputs": [],
   "source": [
    "filtered_scipers = []\n",
    "\n",
    "for sciper in list(set(master_df[\"No Sciper\"])):\n",
    "    \n",
    "    temp_df = master_df[master_df[\"No Sciper\"] == sciper]\n",
    "    list_sem = temp_df.index.get_level_values(\"Semester\")\n",
    "    \n",
    "    cond1 = len(list_sem) > 1\n",
    "    cond2 = (len(list_sem) == 2 and \n",
    "            ((len(temp_df[\"Mineur\"]) != 0 or len(temp_df[\"Spécialisation\"]) != 0)))\n",
    "    \n",
    "    if cond1 and not cond2:\n",
    "        filtered_scipers.append(temp_df)\n",
    "    \n",
    "filtered_master_df = pd.concat(filtered_scipers)\n",
    "\n",
    "# Re-indexing\n",
    "filtered_master_df = filtered_master_df.reset_index()\n",
    "filtered_master_df = filtered_master_df.set_index([\"Nom Prénom\",\"No Sciper\", \"Year\", \"Semester\"])"
   ]
  },
  {
   "cell_type": "code",
   "execution_count": 31,
   "metadata": {
    "collapsed": false
   },
   "outputs": [
    {
     "data": {
      "text/html": [
       "<div>\n",
       "<table border=\"1\" class=\"dataframe\">\n",
       "  <thead>\n",
       "    <tr style=\"text-align: right;\">\n",
       "      <th></th>\n",
       "      <th></th>\n",
       "      <th></th>\n",
       "      <th></th>\n",
       "      <th>index</th>\n",
       "      <th>Civilité</th>\n",
       "      <th>Orientation Bachelor</th>\n",
       "      <th>Orientation Master</th>\n",
       "      <th>Spécialisation</th>\n",
       "      <th>Filière opt.</th>\n",
       "      <th>Mineur</th>\n",
       "      <th>Statut</th>\n",
       "      <th>Type Echange</th>\n",
       "      <th>Ecole Echange</th>\n",
       "    </tr>\n",
       "    <tr>\n",
       "      <th>Nom Prénom</th>\n",
       "      <th>No Sciper</th>\n",
       "      <th>Year</th>\n",
       "      <th>Semester</th>\n",
       "      <th></th>\n",
       "      <th></th>\n",
       "      <th></th>\n",
       "      <th></th>\n",
       "      <th></th>\n",
       "      <th></th>\n",
       "      <th></th>\n",
       "      <th></th>\n",
       "      <th></th>\n",
       "      <th></th>\n",
       "    </tr>\n",
       "  </thead>\n",
       "  <tbody>\n",
       "    <tr>\n",
       "      <th rowspan=\"4\" valign=\"top\">Zablotchi Mihail Igor</th>\n",
       "      <th rowspan=\"4\" valign=\"top\">192870</th>\n",
       "      <th rowspan=\"2\" valign=\"top\">2012-2013</th>\n",
       "      <th>Master semestre 1</th>\n",
       "      <td>85</td>\n",
       "      <td>Monsieur</td>\n",
       "      <td></td>\n",
       "      <td></td>\n",
       "      <td></td>\n",
       "      <td></td>\n",
       "      <td></td>\n",
       "      <td>Présent</td>\n",
       "      <td></td>\n",
       "      <td></td>\n",
       "    </tr>\n",
       "    <tr>\n",
       "      <th>Master semestre 2</th>\n",
       "      <td>123</td>\n",
       "      <td>Monsieur</td>\n",
       "      <td></td>\n",
       "      <td></td>\n",
       "      <td>Internet computing</td>\n",
       "      <td></td>\n",
       "      <td></td>\n",
       "      <td>Stage</td>\n",
       "      <td></td>\n",
       "      <td></td>\n",
       "    </tr>\n",
       "    <tr>\n",
       "      <th rowspan=\"2\" valign=\"top\">2013-2014</th>\n",
       "      <th>Master semestre 3</th>\n",
       "      <td>72</td>\n",
       "      <td>Monsieur</td>\n",
       "      <td></td>\n",
       "      <td></td>\n",
       "      <td>Internet computing</td>\n",
       "      <td></td>\n",
       "      <td></td>\n",
       "      <td>Présent</td>\n",
       "      <td></td>\n",
       "      <td></td>\n",
       "    </tr>\n",
       "    <tr>\n",
       "      <th>Master semestre 2</th>\n",
       "      <td>135</td>\n",
       "      <td>Monsieur</td>\n",
       "      <td></td>\n",
       "      <td></td>\n",
       "      <td>Internet computing</td>\n",
       "      <td></td>\n",
       "      <td></td>\n",
       "      <td>Présent</td>\n",
       "      <td></td>\n",
       "      <td></td>\n",
       "    </tr>\n",
       "    <tr>\n",
       "      <th rowspan=\"4\" valign=\"top\">Guliyev Khayyam Mubariz Oglu</th>\n",
       "      <th rowspan=\"4\" valign=\"top\">247455</th>\n",
       "      <th rowspan=\"2\" valign=\"top\">2014-2015</th>\n",
       "      <th>Master semestre 1</th>\n",
       "      <td>44</td>\n",
       "      <td>Monsieur</td>\n",
       "      <td></td>\n",
       "      <td></td>\n",
       "      <td></td>\n",
       "      <td></td>\n",
       "      <td></td>\n",
       "      <td>Présent</td>\n",
       "      <td></td>\n",
       "      <td></td>\n",
       "    </tr>\n",
       "    <tr>\n",
       "      <th>Master semestre 2</th>\n",
       "      <td>67</td>\n",
       "      <td>Monsieur</td>\n",
       "      <td></td>\n",
       "      <td></td>\n",
       "      <td></td>\n",
       "      <td></td>\n",
       "      <td></td>\n",
       "      <td>Présent</td>\n",
       "      <td></td>\n",
       "      <td></td>\n",
       "    </tr>\n",
       "    <tr>\n",
       "      <th rowspan=\"2\" valign=\"top\">2015-2016</th>\n",
       "      <th>Master semestre 3</th>\n",
       "      <td>39</td>\n",
       "      <td>Monsieur</td>\n",
       "      <td></td>\n",
       "      <td></td>\n",
       "      <td></td>\n",
       "      <td></td>\n",
       "      <td></td>\n",
       "      <td>Stage</td>\n",
       "      <td></td>\n",
       "      <td></td>\n",
       "    </tr>\n",
       "    <tr>\n",
       "      <th>Master semestre 2</th>\n",
       "      <td>73</td>\n",
       "      <td>Monsieur</td>\n",
       "      <td></td>\n",
       "      <td></td>\n",
       "      <td></td>\n",
       "      <td></td>\n",
       "      <td></td>\n",
       "      <td>Présent</td>\n",
       "      <td></td>\n",
       "      <td></td>\n",
       "    </tr>\n",
       "    <tr>\n",
       "      <th rowspan=\"2\" valign=\"top\">Zoller Roman</th>\n",
       "      <th rowspan=\"2\" valign=\"top\">178682</th>\n",
       "      <th rowspan=\"2\" valign=\"top\">2010-2011</th>\n",
       "      <th>Master semestre 1</th>\n",
       "      <td>94</td>\n",
       "      <td>Monsieur</td>\n",
       "      <td></td>\n",
       "      <td></td>\n",
       "      <td></td>\n",
       "      <td></td>\n",
       "      <td></td>\n",
       "      <td>Congé</td>\n",
       "      <td></td>\n",
       "      <td></td>\n",
       "    </tr>\n",
       "    <tr>\n",
       "      <th>Master semestre 2</th>\n",
       "      <td>107</td>\n",
       "      <td>Monsieur</td>\n",
       "      <td></td>\n",
       "      <td></td>\n",
       "      <td>Foundations of Software</td>\n",
       "      <td></td>\n",
       "      <td></td>\n",
       "      <td>Présent</td>\n",
       "      <td></td>\n",
       "      <td></td>\n",
       "    </tr>\n",
       "  </tbody>\n",
       "</table>\n",
       "</div>"
      ],
      "text/plain": [
       "                                                                      index  \\\n",
       "Nom Prénom                   No Sciper Year       Semester                    \n",
       "Zablotchi Mihail Igor        192870     2012-2013  Master semestre 1     85   \n",
       "                                                   Master semestre 2    123   \n",
       "                                        2013-2014  Master semestre 3     72   \n",
       "                                                   Master semestre 2    135   \n",
       "Guliyev Khayyam Mubariz Oglu 247455     2014-2015  Master semestre 1     44   \n",
       "                                                   Master semestre 2     67   \n",
       "                                        2015-2016  Master semestre 3     39   \n",
       "                                                   Master semestre 2     73   \n",
       "Zoller Roman                 178682     2010-2011  Master semestre 1     94   \n",
       "                                                   Master semestre 2    107   \n",
       "\n",
       "                                                                      Civilité  \\\n",
       "Nom Prénom                   No Sciper Year       Semester                       \n",
       "Zablotchi Mihail Igor        192870     2012-2013  Master semestre 1  Monsieur   \n",
       "                                                   Master semestre 2  Monsieur   \n",
       "                                        2013-2014  Master semestre 3  Monsieur   \n",
       "                                                   Master semestre 2  Monsieur   \n",
       "Guliyev Khayyam Mubariz Oglu 247455     2014-2015  Master semestre 1  Monsieur   \n",
       "                                                   Master semestre 2  Monsieur   \n",
       "                                        2015-2016  Master semestre 3  Monsieur   \n",
       "                                                   Master semestre 2  Monsieur   \n",
       "Zoller Roman                 178682     2010-2011  Master semestre 1  Monsieur   \n",
       "                                                   Master semestre 2  Monsieur   \n",
       "\n",
       "                                                                     Orientation Bachelor  \\\n",
       "Nom Prénom                   No Sciper Year       Semester                                  \n",
       "Zablotchi Mihail Igor        192870     2012-2013  Master semestre 1                        \n",
       "                                                   Master semestre 2                        \n",
       "                                        2013-2014  Master semestre 3                        \n",
       "                                                   Master semestre 2                        \n",
       "Guliyev Khayyam Mubariz Oglu 247455     2014-2015  Master semestre 1                        \n",
       "                                                   Master semestre 2                        \n",
       "                                        2015-2016  Master semestre 3                        \n",
       "                                                   Master semestre 2                        \n",
       "Zoller Roman                 178682     2010-2011  Master semestre 1                        \n",
       "                                                   Master semestre 2                        \n",
       "\n",
       "                                                                     Orientation Master  \\\n",
       "Nom Prénom                   No Sciper Year       Semester                                \n",
       "Zablotchi Mihail Igor        192870     2012-2013  Master semestre 1                      \n",
       "                                                   Master semestre 2                      \n",
       "                                        2013-2014  Master semestre 3                      \n",
       "                                                   Master semestre 2                      \n",
       "Guliyev Khayyam Mubariz Oglu 247455     2014-2015  Master semestre 1                      \n",
       "                                                   Master semestre 2                      \n",
       "                                        2015-2016  Master semestre 3                      \n",
       "                                                   Master semestre 2                      \n",
       "Zoller Roman                 178682     2010-2011  Master semestre 1                      \n",
       "                                                   Master semestre 2                      \n",
       "\n",
       "                                                                               Spécialisation  \\\n",
       "Nom Prénom                   No Sciper Year       Semester                                      \n",
       "Zablotchi Mihail Igor        192870     2012-2013  Master semestre 1                            \n",
       "                                                   Master semestre 2       Internet computing   \n",
       "                                        2013-2014  Master semestre 3       Internet computing   \n",
       "                                                   Master semestre 2       Internet computing   \n",
       "Guliyev Khayyam Mubariz Oglu 247455     2014-2015  Master semestre 1                            \n",
       "                                                   Master semestre 2                            \n",
       "                                        2015-2016  Master semestre 3                            \n",
       "                                                   Master semestre 2                            \n",
       "Zoller Roman                 178682     2010-2011  Master semestre 1                            \n",
       "                                                   Master semestre 2  Foundations of Software   \n",
       "\n",
       "                                                                     Filière opt.  \\\n",
       "Nom Prénom                   No Sciper Year       Semester                          \n",
       "Zablotchi Mihail Igor        192870     2012-2013  Master semestre 1                \n",
       "                                                   Master semestre 2                \n",
       "                                        2013-2014  Master semestre 3                \n",
       "                                                   Master semestre 2                \n",
       "Guliyev Khayyam Mubariz Oglu 247455     2014-2015  Master semestre 1                \n",
       "                                                   Master semestre 2                \n",
       "                                        2015-2016  Master semestre 3                \n",
       "                                                   Master semestre 2                \n",
       "Zoller Roman                 178682     2010-2011  Master semestre 1                \n",
       "                                                   Master semestre 2                \n",
       "\n",
       "                                                                     Mineur  \\\n",
       "Nom Prénom                   No Sciper Year       Semester                    \n",
       "Zablotchi Mihail Igor        192870     2012-2013  Master semestre 1          \n",
       "                                                   Master semestre 2          \n",
       "                                        2013-2014  Master semestre 3          \n",
       "                                                   Master semestre 2          \n",
       "Guliyev Khayyam Mubariz Oglu 247455     2014-2015  Master semestre 1          \n",
       "                                                   Master semestre 2          \n",
       "                                        2015-2016  Master semestre 3          \n",
       "                                                   Master semestre 2          \n",
       "Zoller Roman                 178682     2010-2011  Master semestre 1          \n",
       "                                                   Master semestre 2          \n",
       "\n",
       "                                                                       Statut  \\\n",
       "Nom Prénom                   No Sciper Year       Semester                      \n",
       "Zablotchi Mihail Igor        192870     2012-2013  Master semestre 1  Présent   \n",
       "                                                   Master semestre 2    Stage   \n",
       "                                        2013-2014  Master semestre 3  Présent   \n",
       "                                                   Master semestre 2  Présent   \n",
       "Guliyev Khayyam Mubariz Oglu 247455     2014-2015  Master semestre 1  Présent   \n",
       "                                                   Master semestre 2  Présent   \n",
       "                                        2015-2016  Master semestre 3    Stage   \n",
       "                                                   Master semestre 2  Présent   \n",
       "Zoller Roman                 178682     2010-2011  Master semestre 1    Congé   \n",
       "                                                   Master semestre 2  Présent   \n",
       "\n",
       "                                                                     Type Echange  \\\n",
       "Nom Prénom                   No Sciper Year       Semester                          \n",
       "Zablotchi Mihail Igor        192870     2012-2013  Master semestre 1                \n",
       "                                                   Master semestre 2                \n",
       "                                        2013-2014  Master semestre 3                \n",
       "                                                   Master semestre 2                \n",
       "Guliyev Khayyam Mubariz Oglu 247455     2014-2015  Master semestre 1                \n",
       "                                                   Master semestre 2                \n",
       "                                        2015-2016  Master semestre 3                \n",
       "                                                   Master semestre 2                \n",
       "Zoller Roman                 178682     2010-2011  Master semestre 1                \n",
       "                                                   Master semestre 2                \n",
       "\n",
       "                                                                     Ecole Echange  \n",
       "Nom Prénom                   No Sciper Year       Semester                          \n",
       "Zablotchi Mihail Igor        192870     2012-2013  Master semestre 1                \n",
       "                                                   Master semestre 2                \n",
       "                                        2013-2014  Master semestre 3                \n",
       "                                                   Master semestre 2                \n",
       "Guliyev Khayyam Mubariz Oglu 247455     2014-2015  Master semestre 1                \n",
       "                                                   Master semestre 2                \n",
       "                                        2015-2016  Master semestre 3                \n",
       "                                                   Master semestre 2                \n",
       "Zoller Roman                 178682     2010-2011  Master semestre 1                \n",
       "                                                   Master semestre 2                "
      ]
     },
     "execution_count": 31,
     "metadata": {},
     "output_type": "execute_result"
    }
   ],
   "source": [
    "filtered_master_df.head(10)"
   ]
  },
  {
   "cell_type": "markdown",
   "metadata": {},
   "source": [
    "Let's now check how many distinct students started the Master at EPFL and finished it (b/w 2007 and 2016)"
   ]
  },
  {
   "cell_type": "code",
   "execution_count": 32,
   "metadata": {
    "collapsed": false
   },
   "outputs": [
    {
     "name": "stdout",
     "output_type": "stream",
     "text": [
      "510  Master students graduated\n"
     ]
    }
   ],
   "source": [
    "filtered_master_scipers = filtered_master_df.index.get_level_values('No Sciper').drop_duplicates()\n",
    "num_master_graduates = filtered_master_scipers.shape[0]\n",
    "print(num_master_graduates, \" Master students graduated\")"
   ]
  },
  {
   "cell_type": "code",
   "execution_count": 33,
   "metadata": {
    "collapsed": false
   },
   "outputs": [],
   "source": [
    "duration_master_df = compute_duration(filtered_master_df, filtered_master_scipers)"
   ]
  },
  {
   "cell_type": "code",
   "execution_count": 34,
   "metadata": {
    "collapsed": false
   },
   "outputs": [
    {
     "name": "stdout",
     "output_type": "stream",
     "text": [
      "Average number of months is  21.5294117647\n"
     ]
    }
   ],
   "source": [
    "print(\"Average number of months is \", duration_master_df.mean()[1])"
   ]
  },
  {
   "cell_type": "markdown",
   "metadata": {},
   "source": [
    "To have more granularity we can plot the histogram of values"
   ]
  },
  {
   "cell_type": "code",
   "execution_count": 35,
   "metadata": {
    "collapsed": false
   },
   "outputs": [
    {
     "data": {
      "text/plain": [
       "<matplotlib.axes._subplots.AxesSubplot at 0x109c06a58>"
      ]
     },
     "execution_count": 35,
     "metadata": {},
     "output_type": "execute_result"
    },
    {
     "data": {
      "image/png": "[encoded data removed]",
      "text/plain": [
       "<matplotlib.figure.Figure at 0x10b1e1c88>"
      ]
     },
     "metadata": {},
     "output_type": "display_data"
    }
   ],
   "source": [
    "%matplotlib inline\n",
    "duration_master_df['Duration (Months)'].hist()"
   ]
  },
  {
   "cell_type": "markdown",
   "metadata": {},
   "source": [
    "Now if we filter by specialization, is the duration statistically significantly different from one specialization to the other ?"
   ]
  },
  {
   "cell_type": "code",
   "execution_count": 60,
   "metadata": {
    "collapsed": false
   },
   "outputs": [
    {
     "data": {
      "text/html": [
       "<div>\n",
       "<table border=\"1\" class=\"dataframe\">\n",
       "  <thead>\n",
       "    <tr style=\"text-align: right;\">\n",
       "      <th></th>\n",
       "      <th>Duration (Months)</th>\n",
       "    </tr>\n",
       "    <tr>\n",
       "      <th>Spécialisation</th>\n",
       "      <th></th>\n",
       "    </tr>\n",
       "  </thead>\n",
       "  <tbody>\n",
       "    <tr>\n",
       "      <th></th>\n",
       "      <td>21.449024</td>\n",
       "    </tr>\n",
       "    <tr>\n",
       "      <th>Biocomputing</th>\n",
       "      <td>24.000000</td>\n",
       "    </tr>\n",
       "    <tr>\n",
       "      <th>Computer Engineering - SP</th>\n",
       "      <td>21.176471</td>\n",
       "    </tr>\n",
       "    <tr>\n",
       "      <th>Foundations of Software</th>\n",
       "      <td>22.965517</td>\n",
       "    </tr>\n",
       "    <tr>\n",
       "      <th>Information Security - SP</th>\n",
       "      <td>24.000000</td>\n",
       "    </tr>\n",
       "    <tr>\n",
       "      <th>Internet computing</th>\n",
       "      <td>22.642857</td>\n",
       "    </tr>\n",
       "    <tr>\n",
       "      <th>Service science</th>\n",
       "      <td>21.600000</td>\n",
       "    </tr>\n",
       "    <tr>\n",
       "      <th>Signals, Images and Interfaces</th>\n",
       "      <td>24.692308</td>\n",
       "    </tr>\n",
       "    <tr>\n",
       "      <th>Software Systems</th>\n",
       "      <td>21.600000</td>\n",
       "    </tr>\n",
       "  </tbody>\n",
       "</table>\n",
       "</div>"
      ],
      "text/plain": [
       "                                Duration (Months)\n",
       "Spécialisation                                   \n",
       "                                        21.449024\n",
       "Biocomputing                            24.000000\n",
       "Computer Engineering - SP               21.176471\n",
       "Foundations of Software                 22.965517\n",
       "Information Security - SP               24.000000\n",
       "Internet computing                      22.642857\n",
       "Service science                         21.600000\n",
       "Signals, Images and Interfaces          24.692308\n",
       "Software Systems                        21.600000"
      ]
     },
     "execution_count": 60,
     "metadata": {},
     "output_type": "execute_result"
    }
   ],
   "source": [
    "by_specialization = df_join(df=master_df, duration_df=duration_master_df, attribute=\"Spécialisation\").groupby(\"Spécialisation\")\n",
    "by_specialization.mean()"
   ]
  },
  {
   "cell_type": "markdown",
   "metadata": {
    "collapsed": true
   },
   "source": [
    "It doesn't seems like there is a big difference given the specialization..\n"
   ]
  },
  {
   "cell_type": "code",
   "execution_count": 37,
   "metadata": {
    "collapsed": false
   },
   "outputs": [
    {
     "data": {
      "text/plain": [
       "<matplotlib.axes._subplots.AxesSubplot at 0x10b03c630>"
      ]
     },
     "execution_count": 37,
     "metadata": {},
     "output_type": "execute_result"
    },
    {
     "data": {
      "image/png": "[encoded data removed]",
      "text/plain": [
       "<matplotlib.figure.Figure at 0x10b2ce550>"
      ]
     },
     "metadata": {},
     "output_type": "display_data"
    }
   ],
   "source": [
    "by_specialization.mean().boxplot(return_type='axes')"
   ]
  },
  {
   "cell_type": "markdown",
   "metadata": {},
   "source": [
    "Now if we look with more granularity, we can see that the distribution within a specialization is sometimes very different."
   ]
  },
  {
   "cell_type": "code",
   "execution_count": 38,
   "metadata": {
    "collapsed": false
   },
   "outputs": [
    {
     "data": {
      "image/png": "[encoded data removed]",
      "text/plain": [
       "<matplotlib.figure.Figure at 0x10b0179e8>"
      ]
     },
     "metadata": {},
     "output_type": "display_data"
    }
   ],
   "source": [
    "by_specialization.boxplot(return_type='axes', figsize=(12,12));"
   ]
  },
  {
   "cell_type": "markdown",
   "metadata": {},
   "source": [
    "# Bonus"
   ]
  },
  {
   "cell_type": "code",
   "execution_count": 55,
   "metadata": {
    "collapsed": true
   },
   "outputs": [],
   "source": [
    "import numpy as np\n",
    "from scipy import stats"
   ]
  },
  {
   "cell_type": "markdown",
   "metadata": {},
   "source": [
    "> BONUS: perform the gender-based study also on the Master students, as explained in 1. Use scatterplots to visually identify changes over time. Plot males and females with different colors -- can you spot different trends that match the results of your statistical tests?"
   ]
  },
  {
   "cell_type": "markdown",
   "metadata": {},
   "source": [
    "We choose Two-Sample T-Test to investigate whether the means of two independent data samples differ from one another,\n",
    "because we have two independent data samples but we don't know if they have the same variance.\n",
    "The null hypothesis is that the average number of months spent in the Bachelor for male and female is the same"
   ]
  },
  {
   "cell_type": "code",
   "execution_count": 73,
   "metadata": {
    "collapsed": false
   },
   "outputs": [
    {
     "data": {
      "text/plain": [
       "Ttest_indResult(statistic=-1.4308919894205816, pvalue=0.15417203128684107)"
      ]
     },
     "execution_count": 73,
     "metadata": {},
     "output_type": "execute_result"
    }
   ],
   "source": [
    "by_gender = df_join(df=master_df.reset_index(), duration_df=duration_master_df.reset_index(), attribute=\"Civilité\")\n",
    "\n",
    "men = np.array(by_gender[by_gender.Civilité == 'Monsieur']['Duration (Months)'])\n",
    "women = np.array(by_gender[by_gender.Civilité == 'Madame']['Duration (Months)'])\n",
    "stats.ttest_ind(a= men,\n",
    "                b= women,\n",
    "                equal_var=False)"
   ]
  },
  {
   "cell_type": "markdown",
   "metadata": {},
   "source": [
    "The test yields a p-value of 0.43397415708836795, which means there is a 43% chance we'd see sample data this far apart if the two groups would fail to reject the null hypothesis, since the p-value is greater than the corresponding significance level of 10%(0,1), we can't reject the null hypothesis "
   ]
  },
  {
   "cell_type": "markdown",
   "metadata": {},
   "source": [
    "About yearly evolution of per gender durations : "
   ]
  },
  {
   "cell_type": "code",
   "execution_count": 110,
   "metadata": {
    "collapsed": false
   },
   "outputs": [],
   "source": [
    "by_year_and_gender = by_gender.groupby([\"Year\", \"Civilité\"]).mean().to_dict()"
   ]
  },
  {
   "cell_type": "code",
   "execution_count": 111,
   "metadata": {
    "collapsed": false
   },
   "outputs": [
    {
     "data": {
      "text/plain": [
       "<matplotlib.legend.Legend at 0x1130984a8>"
      ]
     },
     "execution_count": 111,
     "metadata": {},
     "output_type": "execute_result"
    },
    {
     "data": {
      "image/png": "[encoded data removed]",
      "text/plain": [
       "<matplotlib.figure.Figure at 0x1134f87f0>"
      ]
     },
     "metadata": {},
     "output_type": "display_data"
    }
   ],
   "source": [
    "import matplotlib.pyplot as plt\n",
    "\n",
    "years = [\" {year1}-{year2}\".format(\n",
    "            year1=y,\n",
    "            year2=y+1) for y in range(2007,2016)]\n",
    "n_male = [by_year_and_gender[\"Duration (Months)\"][(y, \"Monsieur\")] for y in years]\n",
    "n_female = [by_year_and_gender[\"Duration (Months)\"][(y, \"Madame\")] for y in years]\n",
    "\n",
    "x = [int(y.split(\"-\")[0].strip(\" \")) for y in years]\n",
    "line_male, = plt.plot(x,n_male, 'b', label=\"Line Male\")\n",
    "line_female, = plt.plot(x,n_female, 'r', label=\"Line Female\")\n",
    "plt.xlabel(\"Year\")\n",
    "plt.ylabel(\"Duration of Master in months\")\n",
    "plt.xticks(x, years, rotation='vertical')\n",
    "plt.legend(handles=[line_male, line_female], loc=4)"
   ]
  },
  {
   "cell_type": "markdown",
   "metadata": {},
   "source": [
    "There is a clear trend of rise for Master duration when it comes to Men... As we said earlier, it is hard to draw conclusions on such data for Women because the classes are really unbalanced. One could definitely say that for men, the trend highlights that the Master gets harder so longer ?"
   ]
  },
  {
   "cell_type": "markdown",
   "metadata": {},
   "source": [
    "# Self-criticism"
   ]
  },
  {
   "cell_type": "markdown",
   "metadata": {},
   "source": [
    "We checked online for official results, and for data from 2006 to 2015 the official aggregate should be 666\n",
    "\n",
    "<img src=\"official_report.png\">"
   ]
  },
  {
   "cell_type": "markdown",
   "metadata": {},
   "source": [
    "So at some point our assumptions must have been different from that of the official statistician (we under-estimate the number of students). But at least now the pipeline is done and further discussions / tradeoffs would probably enable to come with precise rules and filters to match the above results."
   ]
  }
 ],
 "metadata": {
  "anaconda-cloud": {},
  "kernelspec": {
   "display_name": "Python [ada]",
   "language": "python",
   "name": "Python [ada]"
  },
  "language_info": {
   "codemirror_mode": {
    "name": "ipython",
    "version": 3
   },
   "file_extension": ".py",
   "mimetype": "text/x-python",
   "name": "python",
   "nbconvert_exporter": "python",
   "pygments_lexer": "ipython3",
   "version": "3.5.2"
  }
 },
 "nbformat": 4,
 "nbformat_minor": 0
}
