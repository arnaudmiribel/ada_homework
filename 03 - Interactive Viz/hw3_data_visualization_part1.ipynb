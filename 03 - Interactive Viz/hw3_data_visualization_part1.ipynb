{
 "cells": [
  {
   "cell_type": "code",
   "execution_count": 1,
   "metadata": {
    "collapsed": false
   },
   "outputs": [],
   "source": [
    "%matplotlib inline\n",
    "import matplotlib.pyplot as plt\n",
    "import folium\n",
    "import pandas as pd\n",
    "import json\n",
    "import requests"
   ]
  },
  {
   "cell_type": "markdown",
   "metadata": {},
   "source": [
    "# Preparing the Grant Dataset"
   ]
  },
  {
   "cell_type": "markdown",
   "metadata": {},
   "source": [
    "In this part we will first import and pre-process the Grant dataset. We'll go through the following steps:\n",
    "* __PART 1.1 : CLEANING__ Cleaning the grant export dataset, remove NaNs or outliers, check for duplicates\n",
    "* __PART 1.2 : JOINING__ Manage to join this dataset with cantons dataset so we have a dataframe at the end with these columns :\n",
    "\n",
    "    ```| University | Canton | Approved Amount |  \n",
    "  |------------|--------|-----------------|  \n",
    "  |    ...     |  ...   |       ...       | \n",
    "    ```"
   ]
  },
  {
   "cell_type": "markdown",
   "metadata": {},
   "source": [
    "### PART 1.1 : CLEANING"
   ]
  },
  {
   "cell_type": "markdown",
   "metadata": {},
   "source": [
    "First we read the given grant dataset. It it a .csv format which is very convenient to read from pandas"
   ]
  },
  {
   "cell_type": "code",
   "execution_count": 2,
   "metadata": {
    "collapsed": false
   },
   "outputs": [],
   "source": [
    "grant_path = r\"data/P3_GrantExport.csv\"\n",
    "grant_data = pd.read_csv(grant_path, sep=\";\")"
   ]
  },
  {
   "cell_type": "markdown",
   "metadata": {},
   "source": [
    "Let's see what's inside"
   ]
  },
  {
   "cell_type": "code",
   "execution_count": 3,
   "metadata": {
    "collapsed": false
   },
   "outputs": [
    {
     "data": {
      "text/html": [
       "<div>\n",
       "<table border=\"1\" class=\"dataframe\">\n",
       "  <thead>\n",
       "    <tr style=\"text-align: right;\">\n",
       "      <th></th>\n",
       "      <th>﻿\"Project Number\"</th>\n",
       "      <th>Project Title</th>\n",
       "      <th>Project Title English</th>\n",
       "      <th>Responsible Applicant</th>\n",
       "      <th>Funding Instrument</th>\n",
       "      <th>Funding Instrument Hierarchy</th>\n",
       "      <th>Institution</th>\n",
       "      <th>University</th>\n",
       "      <th>Discipline Number</th>\n",
       "      <th>Discipline Name</th>\n",
       "      <th>Discipline Name Hierarchy</th>\n",
       "      <th>Start Date</th>\n",
       "      <th>End Date</th>\n",
       "      <th>Approved Amount</th>\n",
       "      <th>Keywords</th>\n",
       "    </tr>\n",
       "  </thead>\n",
       "  <tbody>\n",
       "    <tr>\n",
       "      <th>0</th>\n",
       "      <td>1</td>\n",
       "      <td>Schlussband (Bd. VI) der Jacob Burckhardt-Biog...</td>\n",
       "      <td>NaN</td>\n",
       "      <td>Kaegi Werner</td>\n",
       "      <td>Project funding (Div. I-III)</td>\n",
       "      <td>Project funding</td>\n",
       "      <td>NaN</td>\n",
       "      <td>Nicht zuteilbar - NA</td>\n",
       "      <td>10302</td>\n",
       "      <td>Swiss history</td>\n",
       "      <td>Human and Social Sciences;Theology &amp; religious...</td>\n",
       "      <td>01.10.1975</td>\n",
       "      <td>30.09.1976</td>\n",
       "      <td>11619.00</td>\n",
       "      <td>NaN</td>\n",
       "    </tr>\n",
       "    <tr>\n",
       "      <th>1</th>\n",
       "      <td>4</td>\n",
       "      <td>Batterie de tests à l'usage des enseignants po...</td>\n",
       "      <td>NaN</td>\n",
       "      <td>Massarenti Léonard</td>\n",
       "      <td>Project funding (Div. I-III)</td>\n",
       "      <td>Project funding</td>\n",
       "      <td>Faculté de Psychologie et des Sciences de l'Ed...</td>\n",
       "      <td>Université de Genève - GE</td>\n",
       "      <td>10104</td>\n",
       "      <td>Educational science and Pedagogy</td>\n",
       "      <td>Human and Social Sciences;Psychology, educatio...</td>\n",
       "      <td>01.10.1975</td>\n",
       "      <td>30.09.1976</td>\n",
       "      <td>41022.00</td>\n",
       "      <td>NaN</td>\n",
       "    </tr>\n",
       "    <tr>\n",
       "      <th>2</th>\n",
       "      <td>5</td>\n",
       "      <td>Kritische Erstausgabe der \"Evidentiae contra D...</td>\n",
       "      <td>NaN</td>\n",
       "      <td>Kommission für das Corpus philosophorum medii ...</td>\n",
       "      <td>Project funding (Div. I-III)</td>\n",
       "      <td>Project funding</td>\n",
       "      <td>Kommission für das Corpus philosophorum medii ...</td>\n",
       "      <td>NPO (Biblioth., Museen, Verwalt.) - NPO</td>\n",
       "      <td>10101</td>\n",
       "      <td>Philosophy</td>\n",
       "      <td>Human and Social Sciences;Linguistics and lite...</td>\n",
       "      <td>01.03.1976</td>\n",
       "      <td>28.02.1985</td>\n",
       "      <td>79732.00</td>\n",
       "      <td>NaN</td>\n",
       "    </tr>\n",
       "    <tr>\n",
       "      <th>3</th>\n",
       "      <td>6</td>\n",
       "      <td>Katalog der datierten Handschriften in der Sch...</td>\n",
       "      <td>NaN</td>\n",
       "      <td>Burckhardt Max</td>\n",
       "      <td>Project funding (Div. I-III)</td>\n",
       "      <td>Project funding</td>\n",
       "      <td>Abt. Handschriften und Alte Drucke Bibliothek ...</td>\n",
       "      <td>Universität Basel - BS</td>\n",
       "      <td>10302</td>\n",
       "      <td>Swiss history</td>\n",
       "      <td>Human and Social Sciences;Theology &amp; religious...</td>\n",
       "      <td>01.10.1975</td>\n",
       "      <td>30.09.1976</td>\n",
       "      <td>52627.00</td>\n",
       "      <td>NaN</td>\n",
       "    </tr>\n",
       "    <tr>\n",
       "      <th>4</th>\n",
       "      <td>7</td>\n",
       "      <td>Wissenschaftliche Mitarbeit am Thesaurus Lingu...</td>\n",
       "      <td>NaN</td>\n",
       "      <td>Schweiz. Thesauruskommission</td>\n",
       "      <td>Project funding (Div. I-III)</td>\n",
       "      <td>Project funding</td>\n",
       "      <td>Schweiz. Thesauruskommission</td>\n",
       "      <td>NPO (Biblioth., Museen, Verwalt.) - NPO</td>\n",
       "      <td>10303</td>\n",
       "      <td>Ancient history and Classical studies</td>\n",
       "      <td>Human and Social Sciences;Theology &amp; religious...</td>\n",
       "      <td>01.01.1976</td>\n",
       "      <td>30.04.1978</td>\n",
       "      <td>120042.00</td>\n",
       "      <td>NaN</td>\n",
       "    </tr>\n",
       "  </tbody>\n",
       "</table>\n",
       "</div>"
      ],
      "text/plain": [
       "   ﻿\"Project Number\"                                      Project Title  \\\n",
       "0                  1  Schlussband (Bd. VI) der Jacob Burckhardt-Biog...   \n",
       "1                  4  Batterie de tests à l'usage des enseignants po...   \n",
       "2                  5  Kritische Erstausgabe der \"Evidentiae contra D...   \n",
       "3                  6  Katalog der datierten Handschriften in der Sch...   \n",
       "4                  7  Wissenschaftliche Mitarbeit am Thesaurus Lingu...   \n",
       "\n",
       "  Project Title English                              Responsible Applicant  \\\n",
       "0                   NaN                                       Kaegi Werner   \n",
       "1                   NaN                                 Massarenti Léonard   \n",
       "2                   NaN  Kommission für das Corpus philosophorum medii ...   \n",
       "3                   NaN                                     Burckhardt Max   \n",
       "4                   NaN                       Schweiz. Thesauruskommission   \n",
       "\n",
       "             Funding Instrument Funding Instrument Hierarchy  \\\n",
       "0  Project funding (Div. I-III)              Project funding   \n",
       "1  Project funding (Div. I-III)              Project funding   \n",
       "2  Project funding (Div. I-III)              Project funding   \n",
       "3  Project funding (Div. I-III)              Project funding   \n",
       "4  Project funding (Div. I-III)              Project funding   \n",
       "\n",
       "                                         Institution  \\\n",
       "0                                                NaN   \n",
       "1  Faculté de Psychologie et des Sciences de l'Ed...   \n",
       "2  Kommission für das Corpus philosophorum medii ...   \n",
       "3  Abt. Handschriften und Alte Drucke Bibliothek ...   \n",
       "4                       Schweiz. Thesauruskommission   \n",
       "\n",
       "                                University  Discipline Number  \\\n",
       "0                     Nicht zuteilbar - NA              10302   \n",
       "1                Université de Genève - GE              10104   \n",
       "2  NPO (Biblioth., Museen, Verwalt.) - NPO              10101   \n",
       "3                   Universität Basel - BS              10302   \n",
       "4  NPO (Biblioth., Museen, Verwalt.) - NPO              10303   \n",
       "\n",
       "                         Discipline Name  \\\n",
       "0                          Swiss history   \n",
       "1       Educational science and Pedagogy   \n",
       "2                             Philosophy   \n",
       "3                          Swiss history   \n",
       "4  Ancient history and Classical studies   \n",
       "\n",
       "                           Discipline Name Hierarchy  Start Date    End Date  \\\n",
       "0  Human and Social Sciences;Theology & religious...  01.10.1975  30.09.1976   \n",
       "1  Human and Social Sciences;Psychology, educatio...  01.10.1975  30.09.1976   \n",
       "2  Human and Social Sciences;Linguistics and lite...  01.03.1976  28.02.1985   \n",
       "3  Human and Social Sciences;Theology & religious...  01.10.1975  30.09.1976   \n",
       "4  Human and Social Sciences;Theology & religious...  01.01.1976  30.04.1978   \n",
       "\n",
       "  Approved Amount Keywords  \n",
       "0        11619.00      NaN  \n",
       "1        41022.00      NaN  \n",
       "2        79732.00      NaN  \n",
       "3        52627.00      NaN  \n",
       "4       120042.00      NaN  "
      ]
     },
     "execution_count": 3,
     "metadata": {},
     "output_type": "execute_result"
    }
   ],
   "source": [
    "grant_data.head()"
   ]
  },
  {
   "cell_type": "markdown",
   "metadata": {},
   "source": [
    "We don't need all of these columns for our study, so we can already cut this dataframe. And also remove NaNs because we would not know how to infer missing data and make these lines count for our aggregates and map."
   ]
  },
  {
   "cell_type": "code",
   "execution_count": 4,
   "metadata": {
    "collapsed": false
   },
   "outputs": [
    {
     "data": {
      "text/html": [
       "<div>\n",
       "<table border=\"1\" class=\"dataframe\">\n",
       "  <thead>\n",
       "    <tr style=\"text-align: right;\">\n",
       "      <th></th>\n",
       "      <th>University</th>\n",
       "      <th>Approved Amount</th>\n",
       "    </tr>\n",
       "  </thead>\n",
       "  <tbody>\n",
       "    <tr>\n",
       "      <th>0</th>\n",
       "      <td>Nicht zuteilbar - NA</td>\n",
       "      <td>11619.00</td>\n",
       "    </tr>\n",
       "    <tr>\n",
       "      <th>1</th>\n",
       "      <td>Université de Genève - GE</td>\n",
       "      <td>41022.00</td>\n",
       "    </tr>\n",
       "    <tr>\n",
       "      <th>2</th>\n",
       "      <td>NPO (Biblioth., Museen, Verwalt.) - NPO</td>\n",
       "      <td>79732.00</td>\n",
       "    </tr>\n",
       "    <tr>\n",
       "      <th>3</th>\n",
       "      <td>Universität Basel - BS</td>\n",
       "      <td>52627.00</td>\n",
       "    </tr>\n",
       "    <tr>\n",
       "      <th>4</th>\n",
       "      <td>NPO (Biblioth., Museen, Verwalt.) - NPO</td>\n",
       "      <td>120042.00</td>\n",
       "    </tr>\n",
       "  </tbody>\n",
       "</table>\n",
       "</div>"
      ],
      "text/plain": [
       "                                University Approved Amount\n",
       "0                     Nicht zuteilbar - NA        11619.00\n",
       "1                Université de Genève - GE        41022.00\n",
       "2  NPO (Biblioth., Museen, Verwalt.) - NPO        79732.00\n",
       "3                   Universität Basel - BS        52627.00\n",
       "4  NPO (Biblioth., Museen, Verwalt.) - NPO       120042.00"
      ]
     },
     "execution_count": 4,
     "metadata": {},
     "output_type": "execute_result"
    }
   ],
   "source": [
    "grant_data = grant_data[[\"University\", \"Approved Amount\"]].dropna()\n",
    "grant_data.head()"
   ]
  },
  {
   "cell_type": "markdown",
   "metadata": {},
   "source": [
    "There is a type issue with \"Approved Amount\" column, indeed some strings are included in the column so let's clean this. Indeed __\"data not included in P3\"__ is a frequent value for Approved Amount that prevents us from doing numerical analysis, so we should clean it. We use `to_numeric` with `errors='coerce'` to cast all values to numerical values unless an error is raised (for strings) and in that case it removes them. That's exactly what we need."
   ]
  },
  {
   "cell_type": "code",
   "execution_count": 5,
   "metadata": {
    "collapsed": false
   },
   "outputs": [],
   "source": [
    "grant_data[\"Approved Amount\"] = grant_data[\"Approved Amount\"].apply(pd.to_numeric, errors='coerce')"
   ]
  },
  {
   "cell_type": "markdown",
   "metadata": {},
   "source": [
    "Let's see how many different universities are in the dataset"
   ]
  },
  {
   "cell_type": "code",
   "execution_count": 6,
   "metadata": {
    "collapsed": false
   },
   "outputs": [
    {
     "name": "stdout",
     "output_type": "stream",
     "text": [
      "There are 77 distinct universities.\n"
     ]
    }
   ],
   "source": [
    "universities_df = grant_data.set_index([\"University\"])\n",
    "distinct_universities = set(universities_df.index.get_level_values('University'))\n",
    "\n",
    "print(\"There are {n_univ} distinct universities.\".format(\n",
    "        n_univ=len(distinct_universities)\n",
    "        ))"
   ]
  },
  {
   "cell_type": "markdown",
   "metadata": {},
   "source": [
    "Now let's group by \"University\", sum and see the distribution of these amounts __*per-university*__"
   ]
  },
  {
   "cell_type": "code",
   "execution_count": 7,
   "metadata": {
    "collapsed": false
   },
   "outputs": [
    {
     "data": {
      "text/html": [
       "<div>\n",
       "<table border=\"1\" class=\"dataframe\">\n",
       "  <thead>\n",
       "    <tr style=\"text-align: right;\">\n",
       "      <th></th>\n",
       "      <th>Approved Amount</th>\n",
       "    </tr>\n",
       "    <tr>\n",
       "      <th>University</th>\n",
       "      <th></th>\n",
       "    </tr>\n",
       "  </thead>\n",
       "  <tbody>\n",
       "    <tr>\n",
       "      <th>AO Research Institute - AORI</th>\n",
       "      <td>3435621.0</td>\n",
       "    </tr>\n",
       "    <tr>\n",
       "      <th>Allergie- und Asthmaforschung - SIAF</th>\n",
       "      <td>19169965.0</td>\n",
       "    </tr>\n",
       "    <tr>\n",
       "      <th>Berner Fachhochschule - BFH</th>\n",
       "      <td>31028695.0</td>\n",
       "    </tr>\n",
       "    <tr>\n",
       "      <th>Biotechnologie Institut Thurgau - BITG</th>\n",
       "      <td>2492535.0</td>\n",
       "    </tr>\n",
       "    <tr>\n",
       "      <th>Centre de rech. sur l'environnement alpin - CREALP</th>\n",
       "      <td>1567678.0</td>\n",
       "    </tr>\n",
       "  </tbody>\n",
       "</table>\n",
       "</div>"
      ],
      "text/plain": [
       "                                                    Approved Amount\n",
       "University                                                         \n",
       "AO Research Institute - AORI                              3435621.0\n",
       "Allergie- und Asthmaforschung - SIAF                     19169965.0\n",
       "Berner Fachhochschule - BFH                              31028695.0\n",
       "Biotechnologie Institut Thurgau - BITG                    2492535.0\n",
       "Centre de rech. sur l'environnement alpin - CREALP        1567678.0"
      ]
     },
     "execution_count": 7,
     "metadata": {},
     "output_type": "execute_result"
    }
   ],
   "source": [
    "grants_per_university = grant_data[['University', 'Approved Amount']].groupby('University').sum()\n",
    "grants_per_university.head()"
   ]
  },
  {
   "cell_type": "markdown",
   "metadata": {},
   "source": [
    "Histogram plot to get an idea of the values distribution :"
   ]
  },
  {
   "cell_type": "code",
   "execution_count": 8,
   "metadata": {
    "collapsed": false
   },
   "outputs": [],
   "source": [
    "def linear_log_histogram_plot(df):\n",
    "    \"\"\"\n",
    "    This function plots the histogram of a given dataframe's amounts column both in linear and logarithmic\n",
    "    scale in order.\n",
    "    \"\"\"\n",
    "\n",
    "    # build the subplot template\n",
    "    fig, axarr = plt.subplots(2, sharex=True)\n",
    "\n",
    "    # plot the first histogram in linear scale\n",
    "    df[\"Approved Amount\"].hist(ax=axarr[0], bins=100, bottom=0.1)\n",
    "    axarr[0].set_title('Histogram of Approved Grant amount')\n",
    "    axarr[0].set_ylabel('# of projects (linear)')\n",
    "\n",
    "    # plot the first histogram in log scale\n",
    "    df[\"Approved Amount\"].hist(ax=axarr[1], bins=100, bottom=0.1)\n",
    "    axarr[1].set_yscale('log')\n",
    "    axarr[1].set_xlabel('Grant amount (CHF)')\n",
    "    axarr[1].set_ylabel('# of projects (logscale)')"
   ]
  },
  {
   "cell_type": "code",
   "execution_count": 9,
   "metadata": {
    "collapsed": false
   },
   "outputs": [
    {
     "data": {
      "image/png": "[encoded data removed]",
      "text/plain": [
       "<matplotlib.figure.Figure at 0x1076a9e10>"
      ]
     },
     "metadata": {},
     "output_type": "display_data"
    }
   ],
   "source": [
    "linear_log_histogram_plot(grants_per_university)"
   ]
  },
  {
   "cell_type": "markdown",
   "metadata": {},
   "source": [
    "We had to adapt to log scale to get a true idea of the distribution... It is interesting to see this plot. Although it is the __*per-university*__ amount and not the __*per-canton*__ amount yet, it may have a strong influence on the color palette distribution that we would use for the visualization : perhaps we would rather use a log-scale one instead of usual linear-scale one.\n",
    "\n",
    "*EDIT: in the end, linear scale was well-suited for the map (part2) because it doesn't make too many classes and enables a quick understanding for human eyes. With too many colors it would probably not be as smooth to read*"
   ]
  },
  {
   "cell_type": "markdown",
   "metadata": {},
   "source": [
    "Now we have a clean dataset, we just miss the Canton information, this is __PART 1.2 : JOINING__. See below"
   ]
  },
  {
   "cell_type": "markdown",
   "metadata": {},
   "source": [
    "### PART 1.2 : JOINING"
   ]
  },
  {
   "cell_type": "markdown",
   "metadata": {},
   "source": [
    "We didn't get enough results using GeoNames API so we shifted towards Google's APIs."
   ]
  },
  {
   "cell_type": "markdown",
   "metadata": {},
   "source": [
    "#### Using the Google Places API and Google Maps Geocoding API\n",
    "\n",
    "Indeed we need to bind University names to their cantons and their geographic coordinates"
   ]
  },
  {
   "cell_type": "markdown",
   "metadata": {},
   "source": [
    "For that we define fours functions below :\n",
    "    - `get_api_key()` : get our stored API key\n",
    "    - `find_place()` : queries Google Place API in order to find the position of the university\n",
    "    - `find_canton()` : queries Google Geocode API in order to find the canton from the position of the university\n",
    "    - `find_place_and_canton()` : mix of `find_place()` and `find_canton()`"
   ]
  },
  {
   "cell_type": "code",
   "execution_count": 10,
   "metadata": {
    "collapsed": true
   },
   "outputs": [],
   "source": [
    "import requests"
   ]
  },
  {
   "cell_type": "code",
   "execution_count": 11,
   "metadata": {
    "collapsed": true
   },
   "outputs": [],
   "source": [
    "def get_api_key():\n",
    "    \"\"\"\n",
    "    Loads our Google Account API key, making sure it is stored outside our repo\n",
    "    \"\"\"\n",
    "    with open('../../../../google_spare_key.json') as file:\n",
    "        json_data = json.load(file)\n",
    "        return json_data['spare_key']"
   ]
  },
  {
   "cell_type": "code",
   "execution_count": 12,
   "metadata": {
    "collapsed": true
   },
   "outputs": [],
   "source": [
    "def find_place(name):\n",
    "    \"\"\"\n",
    "    Queries Google Place API in order to find the position of the university\n",
    "    name: University name\n",
    "    output: (place_id, latitude, longitude)\n",
    "    \"\"\"\n",
    "    \n",
    "    API_URL = 'https://maps.googleapis.com/maps/api/place/textsearch/json'\n",
    "    \n",
    "    # load key\n",
    "    api_key = get_api_key()\n",
    "    params = {'key': api_key, 'query': name}\n",
    "    \n",
    "    # query the API\n",
    "    r = requests.get(API_URL, params=params)\n",
    "    r_json = r.json()\n",
    "    \n",
    "    if r_json['status'] != 'OK':\n",
    "        return None\n",
    "    else:\n",
    "        result = r_json['results'][0] #Take the first result\n",
    "        loc_coor = result['geometry']['location']\n",
    "        place_id = result['place_id']\n",
    "        \n",
    "        return (place_id, loc_coor['lat'], loc_coor['lng'])"
   ]
  },
  {
   "cell_type": "code",
   "execution_count": 13,
   "metadata": {
    "collapsed": false
   },
   "outputs": [],
   "source": [
    "def find_canton(place_id):\n",
    "    \"\"\"\n",
    "    Queries Google Geocode API in order to find the canton from the position of the university\n",
    "    place_id: Output of find_place() function above, characteristic of the position of the university\n",
    "    canton_shortname : Shortname of the canton of the university (e.g VD for Vaud)\n",
    "    \"\"\"\n",
    "    \n",
    "    API_URL = 'https://maps.googleapis.com/maps/api/geocode/json'\n",
    "    \n",
    "    # load key\n",
    "    api_key = get_api_key()\n",
    "    params = {'key': api_key, 'place_id': place_id}\n",
    "    \n",
    "    # query the API\n",
    "    r = requests.get(API_URL, params=params)\n",
    "    r_json = r.json()\n",
    "    \n",
    "    if r_json['status'] != 'OK':\n",
    "        return None\n",
    "    else:\n",
    "        result = r_json['results'][0] #Take the first result\n",
    "        for add_comp in result['address_components']:\n",
    "            if 'administrative_area_level_1' in add_comp['types']:\n",
    "                return add_comp['short_name']\n",
    "            \n",
    "        return None"
   ]
  },
  {
   "cell_type": "code",
   "execution_count": 14,
   "metadata": {
    "collapsed": true
   },
   "outputs": [],
   "source": [
    "def find_place_and_canton(name):\n",
    "    \"\"\"\n",
    "    This function is just a combination of both functions above.\n",
    "    It finds both canton and localisation (lat,lng).\n",
    "    \"\"\"\n",
    "    print(\"Finding \" + name + \"...\")\n",
    "    place = find_place(name)\n",
    "    \n",
    "    if place is None:\n",
    "        return None\n",
    "    else:\n",
    "        place_id, lat, lng = place\n",
    "        canton = find_canton(place_id)\n",
    "        return (canton, lat, lng)"
   ]
  },
  {
   "cell_type": "markdown",
   "metadata": {},
   "source": [
    "Now that we have our functions, let's run a script to gather all possible information"
   ]
  },
  {
   "cell_type": "code",
   "execution_count": 15,
   "metadata": {
    "collapsed": false
   },
   "outputs": [],
   "source": [
    "def get_all_information():\n",
    "    \n",
    "    # initialize lists\n",
    "    col_canton = []\n",
    "    col_lat = []\n",
    "    col_lng = []\n",
    "\n",
    "\n",
    "    for uni in grants_per_university.index.get_level_values('University'):\n",
    "        coordinate = find_place_and_canton(uni)  # get information for one university\n",
    "\n",
    "        if coordinate is None:  # handle if nothing is found\n",
    "            col_canton.append(None)\n",
    "            col_lat.append(None)\n",
    "            col_lng.append(None)\n",
    "        else:\n",
    "            uni_canton, uni_lat, uni_lng = coordinate\n",
    "            col_canton.append(uni_canton)\n",
    "            col_lat.append(uni_lat)\n",
    "            col_lng.append(uni_lng)\n",
    "\n",
    "    # add new fields\n",
    "    grants_per_university['Canton'] = col_canton\n",
    "    grants_per_university['Latitude'] = col_lat\n",
    "    grants_per_university['Longitude'] = col_lng\n",
    "\n",
    "    return grants_per_university"
   ]
  },
  {
   "cell_type": "markdown",
   "metadata": {},
   "source": [
    "The script should be ran with the below cell, but we comment it to avoid reaching API limits (and you don't have our key...) :"
   ]
  },
  {
   "cell_type": "code",
   "execution_count": 16,
   "metadata": {
    "collapsed": true
   },
   "outputs": [],
   "source": [
    "#universities_df = get_all_information()"
   ]
  },
  {
   "cell_type": "markdown",
   "metadata": {},
   "source": [
    "Results are saved into csv :"
   ]
  },
  {
   "cell_type": "code",
   "execution_count": 17,
   "metadata": {
    "collapsed": false,
    "scrolled": true
   },
   "outputs": [],
   "source": [
    "#universities_df.to_csv('universities.csv')"
   ]
  },
  {
   "cell_type": "markdown",
   "metadata": {},
   "source": [
    "## Conclusion"
   ]
  },
  {
   "cell_type": "markdown",
   "metadata": {},
   "source": [
    "As we can see now we have the dataframe we were looking for : it displays universities, their cantons and the approved amount"
   ]
  },
  {
   "cell_type": "code",
   "execution_count": 18,
   "metadata": {
    "collapsed": true
   },
   "outputs": [],
   "source": [
    "universities_df = pd.read_csv('data/universities.csv', \n",
    "                              index_col='University', \n",
    "                              usecols=[\"University\",\"Approved Amount\",\"Canton\"]).dropna()"
   ]
  },
  {
   "cell_type": "code",
   "execution_count": 19,
   "metadata": {
    "collapsed": false
   },
   "outputs": [
    {
     "data": {
      "text/html": [
       "<div>\n",
       "<table border=\"1\" class=\"dataframe\">\n",
       "  <thead>\n",
       "    <tr style=\"text-align: right;\">\n",
       "      <th></th>\n",
       "      <th>Approved Amount</th>\n",
       "      <th>Canton</th>\n",
       "    </tr>\n",
       "    <tr>\n",
       "      <th>University</th>\n",
       "      <th></th>\n",
       "      <th></th>\n",
       "    </tr>\n",
       "  </thead>\n",
       "  <tbody>\n",
       "    <tr>\n",
       "      <th>Allergie- und Asthmaforschung - SIAF</th>\n",
       "      <td>1.916996e+07</td>\n",
       "      <td>GR</td>\n",
       "    </tr>\n",
       "    <tr>\n",
       "      <th>Berner Fachhochschule - BFH</th>\n",
       "      <td>3.102870e+07</td>\n",
       "      <td>BE</td>\n",
       "    </tr>\n",
       "    <tr>\n",
       "      <th>Biotechnologie Institut Thurgau - BITG</th>\n",
       "      <td>2.492535e+06</td>\n",
       "      <td>TG</td>\n",
       "    </tr>\n",
       "    <tr>\n",
       "      <th>Centre de rech. sur l'environnement alpin - CREALP</th>\n",
       "      <td>1.567678e+06</td>\n",
       "      <td>VS</td>\n",
       "    </tr>\n",
       "    <tr>\n",
       "      <th>EPF Lausanne - EPFL</th>\n",
       "      <td>1.175316e+09</td>\n",
       "      <td>VD</td>\n",
       "    </tr>\n",
       "  </tbody>\n",
       "</table>\n",
       "</div>"
      ],
      "text/plain": [
       "                                                    Approved Amount Canton\n",
       "University                                                                \n",
       "Allergie- und Asthmaforschung - SIAF                   1.916996e+07     GR\n",
       "Berner Fachhochschule - BFH                            3.102870e+07     BE\n",
       "Biotechnologie Institut Thurgau - BITG                 2.492535e+06     TG\n",
       "Centre de rech. sur l'environnement alpin - CREALP     1.567678e+06     VS\n",
       "EPF Lausanne - EPFL                                    1.175316e+09     VD"
      ]
     },
     "execution_count": 19,
     "metadata": {},
     "output_type": "execute_result"
    }
   ],
   "source": [
    "universities_df.head()"
   ]
  },
  {
   "cell_type": "markdown",
   "metadata": {},
   "source": [
    "See in part 2 for further data cleaning in order to enable Data Visualization with Folium"
   ]
  }
 ],
 "metadata": {
  "anaconda-cloud": {},
  "kernelspec": {
   "display_name": "Python [ada]",
   "language": "python",
   "name": "Python [ada]"
  },
  "language_info": {
   "codemirror_mode": {
    "name": "ipython",
    "version": 3
   },
   "file_extension": ".py",
   "mimetype": "text/x-python",
   "name": "python",
   "nbconvert_exporter": "python",
   "pygments_lexer": "ipython3",
   "version": "3.5.2"
  }
 },
 "nbformat": 4,
 "nbformat_minor": 0
}
