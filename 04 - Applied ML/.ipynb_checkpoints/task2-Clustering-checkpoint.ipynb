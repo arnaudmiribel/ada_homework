{
 "cells": [
  {
   "cell_type": "markdown",
   "metadata": {
    "collapsed": false
   },
   "source": [
    "# HW 4 - Applied Machine Learning\n",
    "# Clustering"
   ]
  },
  {
   "cell_type": "markdown",
   "metadata": {
    "collapsed": true
   },
   "source": [
    "\n",
    "> __TASK 2__ Aggregate the referee information grouping by soccer player, and use an unsupervised learning technique to cluster the soccer players in 2 disjoint clusters. Remove features iteratively, and at each step perform again the clustering and compute the silhouette score -- can you find a configuration of features with high silhouette score where players with dark and light skin colors belong to different clusters? Discuss the obtained results."
   ]
  },
  {
   "cell_type": "markdown",
   "metadata": {},
   "source": [
    "## Import data"
   ]
  },
  {
   "cell_type": "code",
   "execution_count": 1,
   "metadata": {
    "collapsed": false
   },
   "outputs": [],
   "source": [
    "%matplotlib inline\n",
    "import matplotlib.pyplot as plt\n",
    "plt.style.use(\"ggplot\")\n",
    "import pandas as pd\n",
    "import numpy as np\n",
    "import operator\n",
    "\n",
    "#from sklearn\n",
    "from sklearn.cluster import KMeans\n",
    "from sklearn.model_selection import *\n",
    "from sklearn import metrics\n",
    "from sklearn.decomposition import PCA as RandomizedPCA\n",
    "\n",
    "#from helpers.py\n",
    "from helpers import *"
   ]
  },
  {
   "cell_type": "code",
   "execution_count": 2,
   "metadata": {
    "collapsed": false
   },
   "outputs": [
    {
     "data": {
      "text/html": [
       "<div>\n",
       "<table border=\"1\" class=\"dataframe\">\n",
       "  <thead>\n",
       "    <tr style=\"text-align: right;\">\n",
       "      <th></th>\n",
       "      <th>height</th>\n",
       "      <th>weight</th>\n",
       "      <th>games</th>\n",
       "      <th>victories</th>\n",
       "      <th>ties</th>\n",
       "      <th>defeats</th>\n",
       "      <th>goals</th>\n",
       "      <th>yellowCards</th>\n",
       "      <th>yellowReds</th>\n",
       "      <th>redCards</th>\n",
       "      <th>...</th>\n",
       "      <th>nIAT</th>\n",
       "      <th>seIAT</th>\n",
       "      <th>meanExp</th>\n",
       "      <th>nExp</th>\n",
       "      <th>seExp</th>\n",
       "      <th>position</th>\n",
       "      <th>club</th>\n",
       "      <th>leagueCountry</th>\n",
       "      <th>rater</th>\n",
       "      <th>firstName</th>\n",
       "    </tr>\n",
       "    <tr>\n",
       "      <th>playerShort</th>\n",
       "      <th></th>\n",
       "      <th></th>\n",
       "      <th></th>\n",
       "      <th></th>\n",
       "      <th></th>\n",
       "      <th></th>\n",
       "      <th></th>\n",
       "      <th></th>\n",
       "      <th></th>\n",
       "      <th></th>\n",
       "      <th></th>\n",
       "      <th></th>\n",
       "      <th></th>\n",
       "      <th></th>\n",
       "      <th></th>\n",
       "      <th></th>\n",
       "      <th></th>\n",
       "      <th></th>\n",
       "      <th></th>\n",
       "      <th></th>\n",
       "      <th></th>\n",
       "    </tr>\n",
       "  </thead>\n",
       "  <tbody>\n",
       "    <tr>\n",
       "      <th>aaron-hughes</th>\n",
       "      <td>182.0</td>\n",
       "      <td>71.0</td>\n",
       "      <td>654</td>\n",
       "      <td>247</td>\n",
       "      <td>179</td>\n",
       "      <td>228</td>\n",
       "      <td>9</td>\n",
       "      <td>19</td>\n",
       "      <td>0</td>\n",
       "      <td>0</td>\n",
       "      <td>...</td>\n",
       "      <td>19710.156627</td>\n",
       "      <td>0.000652</td>\n",
       "      <td>0.494575</td>\n",
       "      <td>20637.277108</td>\n",
       "      <td>0.004065</td>\n",
       "      <td>1</td>\n",
       "      <td>34</td>\n",
       "      <td>0</td>\n",
       "      <td>0</td>\n",
       "      <td>0</td>\n",
       "    </tr>\n",
       "    <tr>\n",
       "      <th>aaron-hunt</th>\n",
       "      <td>183.0</td>\n",
       "      <td>73.0</td>\n",
       "      <td>336</td>\n",
       "      <td>141</td>\n",
       "      <td>73</td>\n",
       "      <td>122</td>\n",
       "      <td>62</td>\n",
       "      <td>42</td>\n",
       "      <td>0</td>\n",
       "      <td>1</td>\n",
       "      <td>...</td>\n",
       "      <td>26104.292929</td>\n",
       "      <td>0.000219</td>\n",
       "      <td>0.449220</td>\n",
       "      <td>26864.454545</td>\n",
       "      <td>0.000993</td>\n",
       "      <td>0</td>\n",
       "      <td>91</td>\n",
       "      <td>2</td>\n",
       "      <td>0</td>\n",
       "      <td>0</td>\n",
       "    </tr>\n",
       "    <tr>\n",
       "      <th>aaron-lennon</th>\n",
       "      <td>165.0</td>\n",
       "      <td>63.0</td>\n",
       "      <td>412</td>\n",
       "      <td>200</td>\n",
       "      <td>97</td>\n",
       "      <td>115</td>\n",
       "      <td>31</td>\n",
       "      <td>11</td>\n",
       "      <td>0</td>\n",
       "      <td>0</td>\n",
       "      <td>...</td>\n",
       "      <td>21234.861386</td>\n",
       "      <td>0.000367</td>\n",
       "      <td>0.491482</td>\n",
       "      <td>22238.742574</td>\n",
       "      <td>0.002032</td>\n",
       "      <td>10</td>\n",
       "      <td>83</td>\n",
       "      <td>0</td>\n",
       "      <td>0</td>\n",
       "      <td>0</td>\n",
       "    </tr>\n",
       "    <tr>\n",
       "      <th>aaron-ramsey</th>\n",
       "      <td>178.0</td>\n",
       "      <td>76.0</td>\n",
       "      <td>260</td>\n",
       "      <td>150</td>\n",
       "      <td>42</td>\n",
       "      <td>68</td>\n",
       "      <td>39</td>\n",
       "      <td>31</td>\n",
       "      <td>0</td>\n",
       "      <td>1</td>\n",
       "      <td>...</td>\n",
       "      <td>38285.826923</td>\n",
       "      <td>0.003334</td>\n",
       "      <td>0.514693</td>\n",
       "      <td>39719.980769</td>\n",
       "      <td>0.013522</td>\n",
       "      <td>3</td>\n",
       "      <td>6</td>\n",
       "      <td>0</td>\n",
       "      <td>0</td>\n",
       "      <td>0</td>\n",
       "    </tr>\n",
       "    <tr>\n",
       "      <th>abdelhamid-el-kaoutari</th>\n",
       "      <td>180.0</td>\n",
       "      <td>73.0</td>\n",
       "      <td>124</td>\n",
       "      <td>41</td>\n",
       "      <td>40</td>\n",
       "      <td>43</td>\n",
       "      <td>1</td>\n",
       "      <td>8</td>\n",
       "      <td>4</td>\n",
       "      <td>2</td>\n",
       "      <td>...</td>\n",
       "      <td>2832.351351</td>\n",
       "      <td>0.001488</td>\n",
       "      <td>0.335587</td>\n",
       "      <td>2953.837838</td>\n",
       "      <td>0.005296</td>\n",
       "      <td>1</td>\n",
       "      <td>51</td>\n",
       "      <td>1</td>\n",
       "      <td>0</td>\n",
       "      <td>1</td>\n",
       "    </tr>\n",
       "  </tbody>\n",
       "</table>\n",
       "<p>5 rows × 21 columns</p>\n",
       "</div>"
      ],
      "text/plain": [
       "                        height  weight  games  victories  ties  defeats  \\\n",
       "playerShort                                                               \n",
       "aaron-hughes             182.0    71.0    654        247   179      228   \n",
       "aaron-hunt               183.0    73.0    336        141    73      122   \n",
       "aaron-lennon             165.0    63.0    412        200    97      115   \n",
       "aaron-ramsey             178.0    76.0    260        150    42       68   \n",
       "abdelhamid-el-kaoutari   180.0    73.0    124         41    40       43   \n",
       "\n",
       "                        goals  yellowCards  yellowReds  redCards    ...      \\\n",
       "playerShort                                                         ...       \n",
       "aaron-hughes                9           19           0         0    ...       \n",
       "aaron-hunt                 62           42           0         1    ...       \n",
       "aaron-lennon               31           11           0         0    ...       \n",
       "aaron-ramsey               39           31           0         1    ...       \n",
       "abdelhamid-el-kaoutari      1            8           4         2    ...       \n",
       "\n",
       "                                nIAT     seIAT   meanExp          nExp  \\\n",
       "playerShort                                                              \n",
       "aaron-hughes            19710.156627  0.000652  0.494575  20637.277108   \n",
       "aaron-hunt              26104.292929  0.000219  0.449220  26864.454545   \n",
       "aaron-lennon            21234.861386  0.000367  0.491482  22238.742574   \n",
       "aaron-ramsey            38285.826923  0.003334  0.514693  39719.980769   \n",
       "abdelhamid-el-kaoutari   2832.351351  0.001488  0.335587   2953.837838   \n",
       "\n",
       "                           seExp  position  club  leagueCountry  rater  \\\n",
       "playerShort                                                              \n",
       "aaron-hughes            0.004065         1    34              0      0   \n",
       "aaron-hunt              0.000993         0    91              2      0   \n",
       "aaron-lennon            0.002032        10    83              0      0   \n",
       "aaron-ramsey            0.013522         3     6              0      0   \n",
       "abdelhamid-el-kaoutari  0.005296         1    51              1      0   \n",
       "\n",
       "                        firstName  \n",
       "playerShort                        \n",
       "aaron-hughes                    0  \n",
       "aaron-hunt                      0  \n",
       "aaron-lennon                    0  \n",
       "aaron-ramsey                    0  \n",
       "abdelhamid-el-kaoutari          1  \n",
       "\n",
       "[5 rows x 21 columns]"
      ]
     },
     "execution_count": 2,
     "metadata": {},
     "output_type": "execute_result"
    }
   ],
   "source": [
    "dt = pd.read_csv(\"CrowdstormingDataJuly1st.csv\")\n",
    "dt_agg = pd.read_csv(\"df_agg.csv\")\n",
    "dt_agg= dt_agg.set_index(\"playerShort\")\n",
    "dt_agg.head()"
   ]
  },
  {
   "cell_type": "code",
   "execution_count": 3,
   "metadata": {
    "collapsed": false
   },
   "outputs": [
    {
     "data": {
      "text/plain": [
       "Index(['height', 'weight', 'games', 'victories', 'ties', 'defeats', 'goals',\n",
       "       'yellowCards', 'yellowReds', 'redCards', 'meanIAT', 'nIAT', 'seIAT',\n",
       "       'meanExp', 'nExp', 'seExp', 'position', 'club', 'leagueCountry',\n",
       "       'rater', 'firstName'],\n",
       "      dtype='object')"
      ]
     },
     "execution_count": 3,
     "metadata": {},
     "output_type": "execute_result"
    }
   ],
   "source": [
    "dt_agg.columns"
   ]
  },
  {
   "cell_type": "markdown",
   "metadata": {},
   "source": [
    "## Aggregate features by soccer player\n"
   ]
  },
  {
   "cell_type": "markdown",
   "metadata": {},
   "source": [
    "From the imported aggregated data, we will have to do some further cleaning. The question states to \"aggregate the referee information grouping by soccer player\" so we understand that from this *grouped-by-soccer* player data, we have to keep only the __referee-related__ data"
   ]
  },
  {
   "cell_type": "markdown",
   "metadata": {},
   "source": [
    "The following features are not referee-related and should be removed :\n",
    "- height, weight, games, victories, ties, defeats, goals, club, leagueCountry, position, firstName\n",
    "\n",
    "We also remove the feature \"rater\" as it is exactly what we want to classify."
   ]
  },
  {
   "cell_type": "code",
   "execution_count": 4,
   "metadata": {
    "collapsed": false
   },
   "outputs": [
    {
     "data": {
      "text/html": [
       "<div>\n",
       "<table border=\"1\" class=\"dataframe\">\n",
       "  <thead>\n",
       "    <tr style=\"text-align: right;\">\n",
       "      <th></th>\n",
       "      <th>yellowCards</th>\n",
       "      <th>yellowReds</th>\n",
       "      <th>redCards</th>\n",
       "      <th>meanIAT</th>\n",
       "      <th>nIAT</th>\n",
       "      <th>seIAT</th>\n",
       "      <th>meanExp</th>\n",
       "      <th>nExp</th>\n",
       "      <th>seExp</th>\n",
       "    </tr>\n",
       "    <tr>\n",
       "      <th>playerShort</th>\n",
       "      <th></th>\n",
       "      <th></th>\n",
       "      <th></th>\n",
       "      <th></th>\n",
       "      <th></th>\n",
       "      <th></th>\n",
       "      <th></th>\n",
       "      <th></th>\n",
       "      <th></th>\n",
       "    </tr>\n",
       "  </thead>\n",
       "  <tbody>\n",
       "    <tr>\n",
       "      <th>aaron-hughes</th>\n",
       "      <td>19</td>\n",
       "      <td>0</td>\n",
       "      <td>0</td>\n",
       "      <td>0.346459</td>\n",
       "      <td>19710.156627</td>\n",
       "      <td>0.000652</td>\n",
       "      <td>0.494575</td>\n",
       "      <td>20637.277108</td>\n",
       "      <td>0.004065</td>\n",
       "    </tr>\n",
       "    <tr>\n",
       "      <th>aaron-hunt</th>\n",
       "      <td>42</td>\n",
       "      <td>0</td>\n",
       "      <td>1</td>\n",
       "      <td>0.348818</td>\n",
       "      <td>26104.292929</td>\n",
       "      <td>0.000219</td>\n",
       "      <td>0.449220</td>\n",
       "      <td>26864.454545</td>\n",
       "      <td>0.000993</td>\n",
       "    </tr>\n",
       "    <tr>\n",
       "      <th>aaron-lennon</th>\n",
       "      <td>11</td>\n",
       "      <td>0</td>\n",
       "      <td>0</td>\n",
       "      <td>0.345893</td>\n",
       "      <td>21234.861386</td>\n",
       "      <td>0.000367</td>\n",
       "      <td>0.491482</td>\n",
       "      <td>22238.742574</td>\n",
       "      <td>0.002032</td>\n",
       "    </tr>\n",
       "    <tr>\n",
       "      <th>aaron-ramsey</th>\n",
       "      <td>31</td>\n",
       "      <td>0</td>\n",
       "      <td>1</td>\n",
       "      <td>0.346821</td>\n",
       "      <td>38285.826923</td>\n",
       "      <td>0.003334</td>\n",
       "      <td>0.514693</td>\n",
       "      <td>39719.980769</td>\n",
       "      <td>0.013522</td>\n",
       "    </tr>\n",
       "    <tr>\n",
       "      <th>abdelhamid-el-kaoutari</th>\n",
       "      <td>8</td>\n",
       "      <td>4</td>\n",
       "      <td>2</td>\n",
       "      <td>0.331600</td>\n",
       "      <td>2832.351351</td>\n",
       "      <td>0.001488</td>\n",
       "      <td>0.335587</td>\n",
       "      <td>2953.837838</td>\n",
       "      <td>0.005296</td>\n",
       "    </tr>\n",
       "    <tr>\n",
       "      <th>abdou-traore_2</th>\n",
       "      <td>11</td>\n",
       "      <td>1</td>\n",
       "      <td>0</td>\n",
       "      <td>0.320079</td>\n",
       "      <td>4523.666667</td>\n",
       "      <td>0.002797</td>\n",
       "      <td>0.296562</td>\n",
       "      <td>4741.404762</td>\n",
       "      <td>0.007958</td>\n",
       "    </tr>\n",
       "    <tr>\n",
       "      <th>abdoulaye-diallo_2</th>\n",
       "      <td>0</td>\n",
       "      <td>0</td>\n",
       "      <td>0</td>\n",
       "      <td>0.341625</td>\n",
       "      <td>2646.700000</td>\n",
       "      <td>0.000237</td>\n",
       "      <td>0.400818</td>\n",
       "      <td>2762.500000</td>\n",
       "      <td>0.000969</td>\n",
       "    </tr>\n",
       "    <tr>\n",
       "      <th>abdoulaye-keita_2</th>\n",
       "      <td>0</td>\n",
       "      <td>0</td>\n",
       "      <td>0</td>\n",
       "      <td>0.355406</td>\n",
       "      <td>1728.000000</td>\n",
       "      <td>0.000433</td>\n",
       "      <td>0.417225</td>\n",
       "      <td>1808.500000</td>\n",
       "      <td>0.001777</td>\n",
       "    </tr>\n",
       "    <tr>\n",
       "      <th>abdoulwhaid-sissoko</th>\n",
       "      <td>21</td>\n",
       "      <td>0</td>\n",
       "      <td>2</td>\n",
       "      <td>0.348178</td>\n",
       "      <td>2470.196429</td>\n",
       "      <td>0.000180</td>\n",
       "      <td>0.429630</td>\n",
       "      <td>2593.214286</td>\n",
       "      <td>0.000743</td>\n",
       "    </tr>\n",
       "    <tr>\n",
       "      <th>abdul-rahman-baba</th>\n",
       "      <td>3</td>\n",
       "      <td>0</td>\n",
       "      <td>1</td>\n",
       "      <td>0.342072</td>\n",
       "      <td>6829.629630</td>\n",
       "      <td>0.000192</td>\n",
       "      <td>0.361068</td>\n",
       "      <td>7039.222222</td>\n",
       "      <td>0.001024</td>\n",
       "    </tr>\n",
       "  </tbody>\n",
       "</table>\n",
       "</div>"
      ],
      "text/plain": [
       "                        yellowCards  yellowReds  redCards   meanIAT  \\\n",
       "playerShort                                                           \n",
       "aaron-hughes                     19           0         0  0.346459   \n",
       "aaron-hunt                       42           0         1  0.348818   \n",
       "aaron-lennon                     11           0         0  0.345893   \n",
       "aaron-ramsey                     31           0         1  0.346821   \n",
       "abdelhamid-el-kaoutari            8           4         2  0.331600   \n",
       "abdou-traore_2                   11           1         0  0.320079   \n",
       "abdoulaye-diallo_2                0           0         0  0.341625   \n",
       "abdoulaye-keita_2                 0           0         0  0.355406   \n",
       "abdoulwhaid-sissoko              21           0         2  0.348178   \n",
       "abdul-rahman-baba                 3           0         1  0.342072   \n",
       "\n",
       "                                nIAT     seIAT   meanExp          nExp  \\\n",
       "playerShort                                                              \n",
       "aaron-hughes            19710.156627  0.000652  0.494575  20637.277108   \n",
       "aaron-hunt              26104.292929  0.000219  0.449220  26864.454545   \n",
       "aaron-lennon            21234.861386  0.000367  0.491482  22238.742574   \n",
       "aaron-ramsey            38285.826923  0.003334  0.514693  39719.980769   \n",
       "abdelhamid-el-kaoutari   2832.351351  0.001488  0.335587   2953.837838   \n",
       "abdou-traore_2           4523.666667  0.002797  0.296562   4741.404762   \n",
       "abdoulaye-diallo_2       2646.700000  0.000237  0.400818   2762.500000   \n",
       "abdoulaye-keita_2        1728.000000  0.000433  0.417225   1808.500000   \n",
       "abdoulwhaid-sissoko      2470.196429  0.000180  0.429630   2593.214286   \n",
       "abdul-rahman-baba        6829.629630  0.000192  0.361068   7039.222222   \n",
       "\n",
       "                           seExp  \n",
       "playerShort                       \n",
       "aaron-hughes            0.004065  \n",
       "aaron-hunt              0.000993  \n",
       "aaron-lennon            0.002032  \n",
       "aaron-ramsey            0.013522  \n",
       "abdelhamid-el-kaoutari  0.005296  \n",
       "abdou-traore_2          0.007958  \n",
       "abdoulaye-diallo_2      0.000969  \n",
       "abdoulaye-keita_2       0.001777  \n",
       "abdoulwhaid-sissoko     0.000743  \n",
       "abdul-rahman-baba       0.001024  "
      ]
     },
     "execution_count": 4,
     "metadata": {},
     "output_type": "execute_result"
    }
   ],
   "source": [
    "to_drop = [\"height\", \"weight\", \"games\", \"victories\", \"ties\", \"defeats\", \n",
    "           \"goals\", \"club\", \"leagueCountry\", \"position\", \"firstName\", \"rater\"]\n",
    "\n",
    "dt_agg.drop(to_drop, axis=1, inplace=True)\n",
    "\n",
    "dt_agg.head(10)"
   ]
  },
  {
   "cell_type": "markdown",
   "metadata": {},
   "source": [
    "We put this into a numpy array"
   ]
  },
  {
   "cell_type": "code",
   "execution_count": 5,
   "metadata": {
    "collapsed": false
   },
   "outputs": [],
   "source": [
    "X = np.array(dt_agg)"
   ]
  },
  {
   "cell_type": "markdown",
   "metadata": {},
   "source": [
    "And also import the rater data (labels of skin color)"
   ]
  },
  {
   "cell_type": "code",
   "execution_count": 6,
   "metadata": {
    "collapsed": true
   },
   "outputs": [],
   "source": [
    "_ , rater = load_x_y()"
   ]
  },
  {
   "cell_type": "markdown",
   "metadata": {},
   "source": [
    "We are asked to do unsupervised clustering, so let's try to use k-means algorithm."
   ]
  },
  {
   "cell_type": "markdown",
   "metadata": {},
   "source": [
    "## K-means Clustering"
   ]
  },
  {
   "cell_type": "markdown",
   "metadata": {},
   "source": [
    "We start with an initial baseline, using all possible features. But we have to be careful : our variables are of incomparable units so we need to __standardize variables__. Indeed, K-means clustering is \"isotropic\" in all directions of space and therefore tends to produce more or less round (rather than elongated) clusters. In this situation leaving variances unequal is equivalent to putting more weight on variables with smaller variance, so clusters will tend to be separated along variables with greater variance. Which is not what we want of course!"
   ]
  },
  {
   "cell_type": "markdown",
   "metadata": {},
   "source": [
    "Standardization"
   ]
  },
  {
   "cell_type": "code",
   "execution_count": 7,
   "metadata": {
    "collapsed": true
   },
   "outputs": [],
   "source": [
    "X = (X-X.mean()) / X.std()"
   ]
  },
  {
   "cell_type": "markdown",
   "metadata": {},
   "source": [
    "Let's build clusters using K-Means with k=2 (we look for 2 clusters), and using all the features. We call this the Baseline clusters."
   ]
  },
  {
   "cell_type": "code",
   "execution_count": 8,
   "metadata": {
    "collapsed": false
   },
   "outputs": [
    {
     "data": {
      "text/html": [
       "<div>\n",
       "<table border=\"1\" class=\"dataframe\">\n",
       "  <thead>\n",
       "    <tr style=\"text-align: right;\">\n",
       "      <th></th>\n",
       "      <th>Baseline</th>\n",
       "    </tr>\n",
       "  </thead>\n",
       "  <tbody>\n",
       "    <tr>\n",
       "      <th>Silhouette score</th>\n",
       "      <td>0.898289</td>\n",
       "    </tr>\n",
       "  </tbody>\n",
       "</table>\n",
       "</div>"
      ],
      "text/plain": [
       "                  Baseline\n",
       "Silhouette score  0.898289"
      ]
     },
     "execution_count": 8,
     "metadata": {},
     "output_type": "execute_result"
    }
   ],
   "source": [
    "# define KMeans model and fit it\n",
    "kmean = KMeans(init='k-means++', n_clusters=2)\n",
    "kmean_base=kmean.fit(X)\n",
    "labels_base=kmean_base.labels_\n",
    "\n",
    "# compute the silhouette score\n",
    "sscore_base=metrics.silhouette_score(X, labels_base)\n",
    "\n",
    "results = pd.DataFrame.from_dict({\"Silhouette score\": {\"Baseline\" : sscore_base}}, orient=\"index\")\n",
    "results"
   ]
  },
  {
   "cell_type": "markdown",
   "metadata": {},
   "source": [
    "### Feature reduction:"
   ]
  },
  {
   "cell_type": "markdown",
   "metadata": {},
   "source": [
    "> Remove features iteratively, and at each step perform again the clustering and compute the silhouette score -- can you find a configuration of features with high silhouette score where players with dark and light skin colors belong to different clusters?"
   ]
  },
  {
   "cell_type": "markdown",
   "metadata": {},
   "source": [
    "We are asked to see the influence of removing features iteratively on the silhouette score. So we start by performing K-means with several possible subsets of features and compute the silhouette score for each configuration to get an intuition about the importance of each features. \n",
    "Please note that given there are 9 features, that would mean 9! (~360,000) possible feature combinations so we only display here those that make most sense. Indeed we quickly discovered that `IAT` and `Exp` features pretty much \"work together\", as do `cards` features."
   ]
  },
  {
   "cell_type": "code",
   "execution_count": 9,
   "metadata": {
    "collapsed": false
   },
   "outputs": [
    {
     "data": {
      "text/html": [
       "<div>\n",
       "<table border=\"1\" class=\"dataframe\">\n",
       "  <thead>\n",
       "    <tr style=\"text-align: right;\">\n",
       "      <th></th>\n",
       "      <th>Silhouette score</th>\n",
       "    </tr>\n",
       "  </thead>\n",
       "  <tbody>\n",
       "    <tr>\n",
       "      <th>nIAT</th>\n",
       "      <td>0.898743</td>\n",
       "    </tr>\n",
       "    <tr>\n",
       "      <th>nIAT, meanExp, seExp</th>\n",
       "      <td>0.898743</td>\n",
       "    </tr>\n",
       "    <tr>\n",
       "      <th>redCards, yellowCards, yellowReds, meanIAT, nIAT, seIAT, meanExp, nExp, seExp</th>\n",
       "      <td>0.898289</td>\n",
       "    </tr>\n",
       "    <tr>\n",
       "      <th>nExp</th>\n",
       "      <td>0.897869</td>\n",
       "    </tr>\n",
       "    <tr>\n",
       "      <th>seIAT</th>\n",
       "      <td>0.855169</td>\n",
       "    </tr>\n",
       "    <tr>\n",
       "      <th>seExp</th>\n",
       "      <td>0.842370</td>\n",
       "    </tr>\n",
       "    <tr>\n",
       "      <th>yellowReds</th>\n",
       "      <td>0.732519</td>\n",
       "    </tr>\n",
       "    <tr>\n",
       "      <th>redCards</th>\n",
       "      <td>0.726855</td>\n",
       "    </tr>\n",
       "    <tr>\n",
       "      <th>yellowCards</th>\n",
       "      <td>0.624990</td>\n",
       "    </tr>\n",
       "    <tr>\n",
       "      <th>redCards, yellowCards</th>\n",
       "      <td>0.621747</td>\n",
       "    </tr>\n",
       "    <tr>\n",
       "      <th>redCards, yellowCards, yellowReds</th>\n",
       "      <td>0.619362</td>\n",
       "    </tr>\n",
       "    <tr>\n",
       "      <th>yellowCards, yellowReds</th>\n",
       "      <td>0.619224</td>\n",
       "    </tr>\n",
       "    <tr>\n",
       "      <th>meanExp</th>\n",
       "      <td>0.609489</td>\n",
       "    </tr>\n",
       "    <tr>\n",
       "      <th>meanIAT</th>\n",
       "      <td>0.606077</td>\n",
       "    </tr>\n",
       "    <tr>\n",
       "      <th>redCards, yellowReds</th>\n",
       "      <td>0.567547</td>\n",
       "    </tr>\n",
       "  </tbody>\n",
       "</table>\n",
       "</div>"
      ],
      "text/plain": [
       "                                                    Silhouette score\n",
       "nIAT                                                        0.898743\n",
       "nIAT, meanExp, seExp                                        0.898743\n",
       "redCards, yellowCards, yellowReds, meanIAT, nIA...          0.898289\n",
       "nExp                                                        0.897869\n",
       "seIAT                                                       0.855169\n",
       "seExp                                                       0.842370\n",
       "yellowReds                                                  0.732519\n",
       "redCards                                                    0.726855\n",
       "yellowCards                                                 0.624990\n",
       "redCards, yellowCards                                       0.621747\n",
       "redCards, yellowCards, yellowReds                           0.619362\n",
       "yellowCards, yellowReds                                     0.619224\n",
       "meanExp                                                     0.609489\n",
       "meanIAT                                                     0.606077\n",
       "redCards, yellowReds                                        0.567547"
      ]
     },
     "execution_count": 9,
     "metadata": {},
     "output_type": "execute_result"
    }
   ],
   "source": [
    "selected_combinations = [['nIAT','meanExp','seExp'],\n",
    "                         ['redCards','yellowCards','yellowReds','meanIAT','nIAT','seIAT','meanExp','nExp','seExp'],\n",
    "                         ['redCards','yellowCards','yellowReds'],\n",
    "                         ['redCards','yellowCards'],\n",
    "                         ['yellowCards','yellowReds'],\n",
    "                         ['redCards','yellowReds'],\n",
    "                         ['yellowReds'],['redCards'],['yellowCards'],['meanIAT'],\n",
    "                         ['seExp'],['nExp'],['meanExp'],['seIAT'],['nIAT']]\n",
    "\n",
    "silhouettes_combinations = pd.Series()\n",
    "\n",
    "for c in selected_combinations :  # iterate over combinaisons\n",
    "    kmean = kmean.fit(dt_agg[c])\n",
    "    silhouette = metrics.silhouette_score(dt_agg[c], kmean.labels_)\n",
    "    silhouettes_combinations[\", \".join(c)] = silhouette\n",
    "\n",
    "# display sorted results\n",
    "pd.DataFrame(silhouettes_combinations, \n",
    "             columns=[\"Silhouette score\"]).sort_values(by=\"Silhouette score\", \n",
    "                                                       axis=0, ascending=False)"
   ]
  },
  {
   "cell_type": "markdown",
   "metadata": {},
   "source": [
    "It seems that the best configuration is when we keep the feature 'meanIAT','seExp','nExp','meanExp','seIAT', and especially 'nIAT'. Indeed, the gain in silhouette score when IAT and Exp are in the features is nearly 20% !\n",
    "\n",
    "Let's confirm this by checking the silhouette score's evolution when iteratively adding features"
   ]
  },
  {
   "cell_type": "code",
   "execution_count": 10,
   "metadata": {
    "collapsed": false,
    "scrolled": true
   },
   "outputs": [
    {
     "data": {
      "text/html": [
       "<div>\n",
       "<table border=\"1\" class=\"dataframe\">\n",
       "  <thead>\n",
       "    <tr style=\"text-align: right;\">\n",
       "      <th></th>\n",
       "      <th>Mean of values</th>\n",
       "      <th>Silhouette</th>\n",
       "    </tr>\n",
       "  </thead>\n",
       "  <tbody>\n",
       "    <tr>\n",
       "      <th>1 features kept</th>\n",
       "      <td>0.249</td>\n",
       "      <td>0.625</td>\n",
       "    </tr>\n",
       "    <tr>\n",
       "      <th>2 features kept</th>\n",
       "      <td>0.751</td>\n",
       "      <td>0.622</td>\n",
       "    </tr>\n",
       "    <tr>\n",
       "      <th>3 features kept</th>\n",
       "      <td>0.249</td>\n",
       "      <td>0.619</td>\n",
       "    </tr>\n",
       "    <tr>\n",
       "      <th>4 features kept</th>\n",
       "      <td>0.249</td>\n",
       "      <td>0.619</td>\n",
       "    </tr>\n",
       "    <tr>\n",
       "      <th>5 features kept</th>\n",
       "      <td>0.014</td>\n",
       "      <td>0.892</td>\n",
       "    </tr>\n",
       "    <tr>\n",
       "      <th>6 features kept</th>\n",
       "      <td>0.012</td>\n",
       "      <td>0.899</td>\n",
       "    </tr>\n",
       "    <tr>\n",
       "      <th>7 features kept</th>\n",
       "      <td>0.012</td>\n",
       "      <td>0.899</td>\n",
       "    </tr>\n",
       "    <tr>\n",
       "      <th>8 features kept</th>\n",
       "      <td>0.012</td>\n",
       "      <td>0.898</td>\n",
       "    </tr>\n",
       "    <tr>\n",
       "      <th>9 features kept</th>\n",
       "      <td>0.012</td>\n",
       "      <td>0.898</td>\n",
       "    </tr>\n",
       "  </tbody>\n",
       "</table>\n",
       "</div>"
      ],
      "text/plain": [
       "                 Mean of values  Silhouette\n",
       "1 features kept           0.249       0.625\n",
       "2 features kept           0.751       0.622\n",
       "3 features kept           0.249       0.619\n",
       "4 features kept           0.249       0.619\n",
       "5 features kept           0.014       0.892\n",
       "6 features kept           0.012       0.899\n",
       "7 features kept           0.012       0.899\n",
       "8 features kept           0.012       0.898\n",
       "9 features kept           0.012       0.898"
      ]
     },
     "execution_count": 10,
     "metadata": {},
     "output_type": "execute_result"
    }
   ],
   "source": [
    "results_data = []  # initialize the results list\n",
    "\n",
    "for n_max_features in range(1,X.shape[1]+1):\n",
    "\n",
    "    # Apply a k-means clustering\n",
    "    kmean = kmean.fit(X[:,:n_max_features])\n",
    "    labels = kmean.labels_\n",
    "    \n",
    "    # Compute the silhouette score and the mean value of labels\n",
    "    silhouette = round(metrics.silhouette_score(X[:,:n_max_features], labels),3)\n",
    "    mean = round(labels.mean(),3)\n",
    "    \n",
    "    # Store the results\n",
    "    results_data.append([mean, silhouette])\n",
    "\n",
    "# Put all in a DataFrame for display convenience\n",
    "pd.DataFrame(results_data, \n",
    "             index=[\"{n} features kept\".format(n=i) for i in range(1,X.shape[1]+1)], \n",
    "             columns=[\"Mean of values\", \"Silhouette\"])"
   ]
  },
  {
   "cell_type": "markdown",
   "metadata": {},
   "source": [
    "So we clearly read that there's a big improvement when going from 4 to 5 features which exactly correspond to adding the nIAT and Exp features."
   ]
  },
  {
   "cell_type": "markdown",
   "metadata": {},
   "source": [
    "Now, there is strange behavior we can spot by also visualizing the mean values of the labels assigned when doing the K-means. Not only the silhouette score changes when using more features, but the actual distribution of labels moves drastically. It seems there are *steps*, upon which the distributions or scores changes, which we considered was a hint to head towards Dimension Reduction. "
   ]
  },
  {
   "cell_type": "markdown",
   "metadata": {},
   "source": [
    "Moreover, it will be a way for us to actually assess whether these unsupervised communities discovered by K-Means actually match what we want to classify : that is black/white skin. "
   ]
  },
  {
   "cell_type": "markdown",
   "metadata": {},
   "source": [
    "# Dimension reduction : PCA"
   ]
  },
  {
   "cell_type": "markdown",
   "metadata": {},
   "source": [
    "Are there features that actually explain most of the variance of our data ? We'll see if the silhouette score moves when reducing dimension using PCA"
   ]
  },
  {
   "cell_type": "code",
   "execution_count": 11,
   "metadata": {
    "collapsed": false
   },
   "outputs": [],
   "source": [
    "def reduce_feature(X,nbf):\n",
    "    rpca=RandomizedPCA(n_components=9-nbf)\n",
    "    return rpca.fit_transform(X)"
   ]
  },
  {
   "cell_type": "code",
   "execution_count": 12,
   "metadata": {
    "collapsed": false
   },
   "outputs": [
    {
     "data": {
      "text/html": [
       "<div>\n",
       "<table border=\"1\" class=\"dataframe\">\n",
       "  <thead>\n",
       "    <tr style=\"text-align: right;\">\n",
       "      <th></th>\n",
       "      <th>Silhouette score</th>\n",
       "    </tr>\n",
       "  </thead>\n",
       "  <tbody>\n",
       "    <tr>\n",
       "      <th>9 components</th>\n",
       "      <td>0.898289</td>\n",
       "    </tr>\n",
       "    <tr>\n",
       "      <th>8 components</th>\n",
       "      <td>0.898289</td>\n",
       "    </tr>\n",
       "    <tr>\n",
       "      <th>7 components</th>\n",
       "      <td>0.898289</td>\n",
       "    </tr>\n",
       "    <tr>\n",
       "      <th>6 components</th>\n",
       "      <td>0.898289</td>\n",
       "    </tr>\n",
       "    <tr>\n",
       "      <th>5 components</th>\n",
       "      <td>0.898289</td>\n",
       "    </tr>\n",
       "    <tr>\n",
       "      <th>4 components</th>\n",
       "      <td>0.898289</td>\n",
       "    </tr>\n",
       "    <tr>\n",
       "      <th>3 components</th>\n",
       "      <td>0.898289</td>\n",
       "    </tr>\n",
       "    <tr>\n",
       "      <th>2 components</th>\n",
       "      <td>0.898290</td>\n",
       "    </tr>\n",
       "  </tbody>\n",
       "</table>\n",
       "</div>"
      ],
      "text/plain": [
       "              Silhouette score\n",
       "9 components          0.898289\n",
       "8 components          0.898289\n",
       "7 components          0.898289\n",
       "6 components          0.898289\n",
       "5 components          0.898289\n",
       "4 components          0.898289\n",
       "3 components          0.898289\n",
       "2 components          0.898290"
      ]
     },
     "execution_count": 12,
     "metadata": {},
     "output_type": "execute_result"
    }
   ],
   "source": [
    "silhouettes_pca = []  # initialize the results list\n",
    "\n",
    "for features_kept in range(0,8):\n",
    "    \n",
    "    # Apply PCA\n",
    "    X_pca=reduce_feature(X,features_kept)\n",
    "    \n",
    "    # Apply a k-means clustering\n",
    "    kmean_pca=kmean.fit(X_pca)\n",
    "    labels_pca=kmean_pca.labels_\n",
    "    \n",
    "    # Compute and store the silhouette scores\n",
    "    silhouette_pca=metrics.silhouette_score(X_pca, labels_pca)\n",
    "    silhouettes_pca.append(silhouette_pca)\n",
    "\n",
    "# Put all in a DataFrame for display convenience\n",
    "pd.DataFrame(silhouettes_pca, \n",
    "             columns=[\"Silhouette score\"],\n",
    "             index=[\"{n} components\".format(n=i) for i in range(2,X.shape[1]+1)][::-1])            "
   ]
  },
  {
   "cell_type": "markdown",
   "metadata": {},
   "source": [
    "So apparently, __reducing the data has no real influence on the silhouette score__. Most of the variance is explained using only 2 features. Which is a nice thing! Better save memory and complexity by reducing our data then. Let's even intentionally keep only 2 dimensions (thank's to this we can indeed visualize our results)."
   ]
  },
  {
   "cell_type": "code",
   "execution_count": 13,
   "metadata": {
    "collapsed": true
   },
   "outputs": [],
   "source": [
    "X_pca = reduce_feature(X, 2)  # apply PCA \n",
    "kmean_pca = kmean.fit(X_pca)  # apply k-means\n",
    "labels_pca=kmean_pca.labels_  # get labels"
   ]
  },
  {
   "cell_type": "markdown",
   "metadata": {},
   "source": [
    "Indeed, we have pretty __good silhouette scores__, now, does that match what we are looking for ? That is, are the communities found by unsupervised K-means matching white/black player communities ?"
   ]
  },
  {
   "cell_type": "markdown",
   "metadata": {},
   "source": [
    "Let's plot the communities given by K-means and compare it with the actual labels of raters (black/white communities)"
   ]
  },
  {
   "cell_type": "code",
   "execution_count": 14,
   "metadata": {
    "collapsed": true
   },
   "outputs": [],
   "source": [
    "def plot_communities(X, labels, method):\n",
    "    \"\"\" displays the data by coloring the points given which community label they belong to \"\"\"\n",
    "    \n",
    "    # prepare figure\n",
    "    f, ax = plt.subplots(figsize=(5,5))\n",
    "    f = plt.figure(figsize=(5,5))\n",
    "    ax.set_title('Communities found with ' + method)\n",
    "    ax.axis('off')  # axis don't actually bring any insight here\n",
    "\n",
    "    # scatter points \n",
    "    for (idx,r) in enumerate(labels):\n",
    "        if labels[idx]==1:\n",
    "            ax.scatter(X_pca[idx,1], X_pca[idx,2], c=\"black\")\n",
    "        else:\n",
    "            ax.scatter(X_pca[idx,1], X_pca[idx,2], c=\"white\", edgecolors='gray')"
   ]
  },
  {
   "cell_type": "code",
   "execution_count": 15,
   "metadata": {
    "collapsed": false
   },
   "outputs": [
    {
     "data": {
      "image/png": "[encoded data removed]",
      "text/plain": [
       "<matplotlib.figure.Figure at 0x1044dc940>"
      ]
     },
     "metadata": {},
     "output_type": "display_data"
    },
    {
     "data": {
      "text/plain": [
       "<matplotlib.figure.Figure at 0x10453e978>"
      ]
     },
     "metadata": {},
     "output_type": "display_data"
    }
   ],
   "source": [
    "plot_communities(X, labels=labels_pca, method=\"k-means and pca\")"
   ]
  },
  {
   "cell_type": "code",
   "execution_count": 16,
   "metadata": {
    "collapsed": false
   },
   "outputs": [
    {
     "data": {
      "image/png": "[encoded data removed]",
      "text/plain": [
       "<matplotlib.figure.Figure at 0x111d855c0>"
      ]
     },
     "metadata": {},
     "output_type": "display_data"
    },
    {
     "data": {
      "text/plain": [
       "<matplotlib.figure.Figure at 0x111fae4e0>"
      ]
     },
     "metadata": {},
     "output_type": "display_data"
    }
   ],
   "source": [
    "plot_communities(X, labels=rater, method=\"raters\")"
   ]
  },
  {
   "cell_type": "markdown",
   "metadata": {},
   "source": [
    "# Conclusion : \n",
    "\n",
    "> The unsupervised clustering gives two somehow well-defined communities (according to the silhouette score) but  these communities are actually split by some other factor (which is not the skin color but probably a latent one related to __nIAT__).\n",
    "\n",
    "# Unsupervised classification fails to cluster according to skin color."
   ]
  }
 ],
 "metadata": {
  "anaconda-cloud": {},
  "kernelspec": {
   "display_name": "Python [ada]",
   "language": "python",
   "name": "Python [ada]"
  },
  "language_info": {
   "codemirror_mode": {
    "name": "ipython",
    "version": 3
   },
   "file_extension": ".py",
   "mimetype": "text/x-python",
   "name": "python",
   "nbconvert_exporter": "python",
   "pygments_lexer": "ipython3",
   "version": "3.5.2"
  }
 },
 "nbformat": 4,
 "nbformat_minor": 1
}
