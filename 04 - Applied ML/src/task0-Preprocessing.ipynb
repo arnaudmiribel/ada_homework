{
 "cells": [
  {
   "cell_type": "markdown",
   "metadata": {},
   "source": [
    "# HW 4 - Applied Machine Learning"
   ]
  },
  {
   "cell_type": "markdown",
   "metadata": {},
   "source": [
    "# Part 0 : pre-processing the data"
   ]
  },
  {
   "cell_type": "markdown",
   "metadata": {},
   "source": [
    "For this assignment we need to clean and aggregate the dataset per player. This notebook describes the assumptions we've had and the final features we kept."
   ]
  },
  {
   "cell_type": "markdown",
   "metadata": {},
   "source": [
    "Let's start importing necessary packages"
   ]
  },
  {
   "cell_type": "code",
   "execution_count": 1,
   "metadata": {
    "collapsed": true
   },
   "outputs": [],
   "source": [
    "%matplotlib inline\n",
    "import matplotlib.pyplot as plt\n",
    "plt.style.use(\"ggplot\")\n",
    "import pandas as pd\n",
    "import numpy as np\n",
    "import operator"
   ]
  },
  {
   "cell_type": "markdown",
   "metadata": {},
   "source": [
    "We also import helper functions defined in our file `helpers.py`"
   ]
  },
  {
   "cell_type": "code",
   "execution_count": 2,
   "metadata": {
    "collapsed": false
   },
   "outputs": [],
   "source": [
    "from helpers import *"
   ]
  },
  {
   "cell_type": "markdown",
   "metadata": {},
   "source": [
    "Let's read the initial dataset"
   ]
  },
  {
   "cell_type": "code",
   "execution_count": 3,
   "metadata": {
    "collapsed": false
   },
   "outputs": [],
   "source": [
    "df = pd.read_csv(\"CrowdstormingDataJuly1st.csv\")"
   ]
  },
  {
   "cell_type": "code",
   "execution_count": 4,
   "metadata": {
    "collapsed": false
   },
   "outputs": [
    {
     "data": {
      "text/html": [
       "<div>\n",
       "<table border=\"1\" class=\"dataframe\">\n",
       "  <thead>\n",
       "    <tr style=\"text-align: right;\">\n",
       "      <th></th>\n",
       "      <th>playerShort</th>\n",
       "      <th>player</th>\n",
       "      <th>club</th>\n",
       "      <th>leagueCountry</th>\n",
       "      <th>birthday</th>\n",
       "      <th>height</th>\n",
       "      <th>weight</th>\n",
       "      <th>position</th>\n",
       "      <th>games</th>\n",
       "      <th>victories</th>\n",
       "      <th>...</th>\n",
       "      <th>rater2</th>\n",
       "      <th>refNum</th>\n",
       "      <th>refCountry</th>\n",
       "      <th>Alpha_3</th>\n",
       "      <th>meanIAT</th>\n",
       "      <th>nIAT</th>\n",
       "      <th>seIAT</th>\n",
       "      <th>meanExp</th>\n",
       "      <th>nExp</th>\n",
       "      <th>seExp</th>\n",
       "    </tr>\n",
       "  </thead>\n",
       "  <tbody>\n",
       "    <tr>\n",
       "      <th>0</th>\n",
       "      <td>lucas-wilchez</td>\n",
       "      <td>Lucas Wilchez</td>\n",
       "      <td>Real Zaragoza</td>\n",
       "      <td>Spain</td>\n",
       "      <td>31.08.1983</td>\n",
       "      <td>177.0</td>\n",
       "      <td>72.0</td>\n",
       "      <td>Attacking Midfielder</td>\n",
       "      <td>1</td>\n",
       "      <td>0</td>\n",
       "      <td>...</td>\n",
       "      <td>0.50</td>\n",
       "      <td>1</td>\n",
       "      <td>1</td>\n",
       "      <td>GRC</td>\n",
       "      <td>0.326391</td>\n",
       "      <td>712.0</td>\n",
       "      <td>0.000564</td>\n",
       "      <td>0.396000</td>\n",
       "      <td>750.0</td>\n",
       "      <td>0.002696</td>\n",
       "    </tr>\n",
       "    <tr>\n",
       "      <th>1</th>\n",
       "      <td>john-utaka</td>\n",
       "      <td>John Utaka</td>\n",
       "      <td>Montpellier HSC</td>\n",
       "      <td>France</td>\n",
       "      <td>08.01.1982</td>\n",
       "      <td>179.0</td>\n",
       "      <td>82.0</td>\n",
       "      <td>Right Winger</td>\n",
       "      <td>1</td>\n",
       "      <td>0</td>\n",
       "      <td>...</td>\n",
       "      <td>0.75</td>\n",
       "      <td>2</td>\n",
       "      <td>2</td>\n",
       "      <td>ZMB</td>\n",
       "      <td>0.203375</td>\n",
       "      <td>40.0</td>\n",
       "      <td>0.010875</td>\n",
       "      <td>-0.204082</td>\n",
       "      <td>49.0</td>\n",
       "      <td>0.061504</td>\n",
       "    </tr>\n",
       "    <tr>\n",
       "      <th>2</th>\n",
       "      <td>abdon-prats</td>\n",
       "      <td>Abdón Prats</td>\n",
       "      <td>RCD Mallorca</td>\n",
       "      <td>Spain</td>\n",
       "      <td>17.12.1992</td>\n",
       "      <td>181.0</td>\n",
       "      <td>79.0</td>\n",
       "      <td>NaN</td>\n",
       "      <td>1</td>\n",
       "      <td>0</td>\n",
       "      <td>...</td>\n",
       "      <td>NaN</td>\n",
       "      <td>3</td>\n",
       "      <td>3</td>\n",
       "      <td>ESP</td>\n",
       "      <td>0.369894</td>\n",
       "      <td>1785.0</td>\n",
       "      <td>0.000229</td>\n",
       "      <td>0.588297</td>\n",
       "      <td>1897.0</td>\n",
       "      <td>0.001002</td>\n",
       "    </tr>\n",
       "    <tr>\n",
       "      <th>3</th>\n",
       "      <td>pablo-mari</td>\n",
       "      <td>Pablo Marí</td>\n",
       "      <td>RCD Mallorca</td>\n",
       "      <td>Spain</td>\n",
       "      <td>31.08.1993</td>\n",
       "      <td>191.0</td>\n",
       "      <td>87.0</td>\n",
       "      <td>Center Back</td>\n",
       "      <td>1</td>\n",
       "      <td>1</td>\n",
       "      <td>...</td>\n",
       "      <td>NaN</td>\n",
       "      <td>3</td>\n",
       "      <td>3</td>\n",
       "      <td>ESP</td>\n",
       "      <td>0.369894</td>\n",
       "      <td>1785.0</td>\n",
       "      <td>0.000229</td>\n",
       "      <td>0.588297</td>\n",
       "      <td>1897.0</td>\n",
       "      <td>0.001002</td>\n",
       "    </tr>\n",
       "    <tr>\n",
       "      <th>4</th>\n",
       "      <td>ruben-pena</td>\n",
       "      <td>Rubén Peña</td>\n",
       "      <td>Real Valladolid</td>\n",
       "      <td>Spain</td>\n",
       "      <td>18.07.1991</td>\n",
       "      <td>172.0</td>\n",
       "      <td>70.0</td>\n",
       "      <td>Right Midfielder</td>\n",
       "      <td>1</td>\n",
       "      <td>1</td>\n",
       "      <td>...</td>\n",
       "      <td>NaN</td>\n",
       "      <td>3</td>\n",
       "      <td>3</td>\n",
       "      <td>ESP</td>\n",
       "      <td>0.369894</td>\n",
       "      <td>1785.0</td>\n",
       "      <td>0.000229</td>\n",
       "      <td>0.588297</td>\n",
       "      <td>1897.0</td>\n",
       "      <td>0.001002</td>\n",
       "    </tr>\n",
       "  </tbody>\n",
       "</table>\n",
       "<p>5 rows × 28 columns</p>\n",
       "</div>"
      ],
      "text/plain": [
       "     playerShort         player             club leagueCountry    birthday  \\\n",
       "0  lucas-wilchez  Lucas Wilchez    Real Zaragoza         Spain  31.08.1983   \n",
       "1     john-utaka     John Utaka  Montpellier HSC        France  08.01.1982   \n",
       "2    abdon-prats    Abdón Prats     RCD Mallorca         Spain  17.12.1992   \n",
       "3     pablo-mari     Pablo Marí     RCD Mallorca         Spain  31.08.1993   \n",
       "4     ruben-pena     Rubén Peña  Real Valladolid         Spain  18.07.1991   \n",
       "\n",
       "   height  weight              position  games  victories    ...     rater2  \\\n",
       "0   177.0    72.0  Attacking Midfielder      1          0    ...       0.50   \n",
       "1   179.0    82.0          Right Winger      1          0    ...       0.75   \n",
       "2   181.0    79.0                   NaN      1          0    ...        NaN   \n",
       "3   191.0    87.0           Center Back      1          1    ...        NaN   \n",
       "4   172.0    70.0      Right Midfielder      1          1    ...        NaN   \n",
       "\n",
       "   refNum  refCountry  Alpha_3   meanIAT    nIAT     seIAT   meanExp    nExp  \\\n",
       "0       1           1      GRC  0.326391   712.0  0.000564  0.396000   750.0   \n",
       "1       2           2      ZMB  0.203375    40.0  0.010875 -0.204082    49.0   \n",
       "2       3           3      ESP  0.369894  1785.0  0.000229  0.588297  1897.0   \n",
       "3       3           3      ESP  0.369894  1785.0  0.000229  0.588297  1897.0   \n",
       "4       3           3      ESP  0.369894  1785.0  0.000229  0.588297  1897.0   \n",
       "\n",
       "      seExp  \n",
       "0  0.002696  \n",
       "1  0.061504  \n",
       "2  0.001002  \n",
       "3  0.001002  \n",
       "4  0.001002  \n",
       "\n",
       "[5 rows x 28 columns]"
      ]
     },
     "execution_count": 4,
     "metadata": {},
     "output_type": "execute_result"
    }
   ],
   "source": [
    "df.head()"
   ]
  },
  {
   "cell_type": "markdown",
   "metadata": {},
   "source": [
    "## 0.1 Sanity checks "
   ]
  },
  {
   "cell_type": "markdown",
   "metadata": {},
   "source": [
    "Let's check if some features are highly sparse or not, see below the percentage of NaNs (when >0) for given columns"
   ]
  },
  {
   "cell_type": "code",
   "execution_count": 5,
   "metadata": {
    "collapsed": false
   },
   "outputs": [
    {
     "data": {
      "text/html": [
       "<div>\n",
       "<table border=\"1\" class=\"dataframe\">\n",
       "  <thead>\n",
       "    <tr style=\"text-align: right;\">\n",
       "      <th></th>\n",
       "      <th>NaN percentage</th>\n",
       "    </tr>\n",
       "  </thead>\n",
       "  <tbody>\n",
       "    <tr>\n",
       "      <th>height</th>\n",
       "      <td>0.180102</td>\n",
       "    </tr>\n",
       "    <tr>\n",
       "      <th>weight</th>\n",
       "      <td>1.536007</td>\n",
       "    </tr>\n",
       "    <tr>\n",
       "      <th>position</th>\n",
       "      <td>12.138768</td>\n",
       "    </tr>\n",
       "    <tr>\n",
       "      <th>photoID</th>\n",
       "      <td>14.659517</td>\n",
       "    </tr>\n",
       "    <tr>\n",
       "      <th>rater1</th>\n",
       "      <td>14.659517</td>\n",
       "    </tr>\n",
       "    <tr>\n",
       "      <th>rater2</th>\n",
       "      <td>14.659517</td>\n",
       "    </tr>\n",
       "    <tr>\n",
       "      <th>Alpha_3</th>\n",
       "      <td>0.000685</td>\n",
       "    </tr>\n",
       "    <tr>\n",
       "      <th>meanIAT</th>\n",
       "      <td>0.111622</td>\n",
       "    </tr>\n",
       "    <tr>\n",
       "      <th>nIAT</th>\n",
       "      <td>0.111622</td>\n",
       "    </tr>\n",
       "    <tr>\n",
       "      <th>seIAT</th>\n",
       "      <td>0.111622</td>\n",
       "    </tr>\n",
       "    <tr>\n",
       "      <th>meanExp</th>\n",
       "      <td>0.111622</td>\n",
       "    </tr>\n",
       "    <tr>\n",
       "      <th>nExp</th>\n",
       "      <td>0.111622</td>\n",
       "    </tr>\n",
       "    <tr>\n",
       "      <th>seExp</th>\n",
       "      <td>0.111622</td>\n",
       "    </tr>\n",
       "  </tbody>\n",
       "</table>\n",
       "</div>"
      ],
      "text/plain": [
       "          NaN percentage\n",
       "height          0.180102\n",
       "weight          1.536007\n",
       "position       12.138768\n",
       "photoID        14.659517\n",
       "rater1         14.659517\n",
       "rater2         14.659517\n",
       "Alpha_3         0.000685\n",
       "meanIAT         0.111622\n",
       "nIAT            0.111622\n",
       "seIAT           0.111622\n",
       "meanExp         0.111622\n",
       "nExp            0.111622\n",
       "seExp           0.111622"
      ]
     },
     "execution_count": 5,
     "metadata": {},
     "output_type": "execute_result"
    }
   ],
   "source": [
    "nan_percentage = (df.isnull().sum() / len(df)) * 100\n",
    "nan_percentage_df = pd.DataFrame(data=nan_percentage[nan_percentage>0], columns=[\"NaN percentage\"])\n",
    "nan_percentage_df"
   ]
  },
  {
   "cell_type": "markdown",
   "metadata": {},
   "source": [
    "We'll thus iteratively deal with values from these features and decide how to deal with their NaNs."
   ]
  },
  {
   "cell_type": "markdown",
   "metadata": {},
   "source": [
    "__Dealing with `weight` or `height` missing values__ :  \n",
    "A few weights (or `heights`) are missing, we decide to replace them by the actual median of the `weights` (or `heights`) obtained in the data for the same `height` (`weight`). Or if both weight and height miss, then the actual total median of weights."
   ]
  },
  {
   "cell_type": "code",
   "execution_count": 6,
   "metadata": {
    "collapsed": false
   },
   "outputs": [],
   "source": [
    "weight_by_height_median = df.groupby(\"height\").weight.median()\n",
    "height_by_weight_median = df.groupby(\"weight\").height.median()\n",
    "height_median = df.height.median()\n",
    "weight_median = df.weight.median()"
   ]
  },
  {
   "cell_type": "code",
   "execution_count": 7,
   "metadata": {
    "collapsed": false
   },
   "outputs": [],
   "source": [
    "for r in df[[\"weight\", \"height\"]].itertuples():\n",
    "    if pd.isnull(r.weight) and not pd.isnull(r.height):\n",
    "        df.set_value(r.Index, \"weight\", weight_by_height_median.loc[r.height])\n",
    "\n",
    "    if pd.isnull(r.height) and not pd.isnull(r.weight):\n",
    "        df.set_value(r.Index, \"height\", height_by_weight_median.loc[r.weight])\n",
    "\n",
    "    if pd.isnull(r.weight) and pd.isnull(r.height):\n",
    "        df.set_value(r.Index, \"height\", height_median)\n",
    "        df.set_value(r.Index, \"weight\", weight_median)"
   ]
  },
  {
   "cell_type": "code",
   "execution_count": 8,
   "metadata": {
    "collapsed": false
   },
   "outputs": [
    {
     "data": {
      "text/plain": [
       "weight    0\n",
       "height    0\n",
       "dtype: int64"
      ]
     },
     "execution_count": 8,
     "metadata": {},
     "output_type": "execute_result"
    }
   ],
   "source": [
    "df[[\"weight\", \"height\"]].isnull().sum()"
   ]
  },
  {
   "cell_type": "markdown",
   "metadata": {},
   "source": [
    "__Dealing with `IAT` and `Exp` missing values__ :  \n",
    "These features actually determine the bias score for referees countries. So clearly if the IAT and Exp is close to 1, we can assume that there is a strong correlation with the number of cards received.   \n",
    "- If IAT and Exp is close to 1 __AND__ number of cards received is very high : might be black  \n",
    "- If IAT and Exp is close to 1 __AND__ number of cards received is very low : might be white"
   ]
  },
  {
   "cell_type": "markdown",
   "metadata": {},
   "source": [
    "But there are only ~0,11% of values missing. That means max. 8 matches..."
   ]
  },
  {
   "cell_type": "code",
   "execution_count": 9,
   "metadata": {
    "collapsed": false
   },
   "outputs": [
    {
     "data": {
      "text/plain": [
       "NaN percentage    7.409091\n",
       "Name: meanIAT, dtype: float64"
      ]
     },
     "execution_count": 9,
     "metadata": {},
     "output_type": "execute_result"
    }
   ],
   "source": [
    "(nan_percentage_df.loc[\"meanIAT\"]/100 * len(df)) / 22"
   ]
  },
  {
   "cell_type": "code",
   "execution_count": 10,
   "metadata": {
    "collapsed": false,
    "scrolled": true
   },
   "outputs": [
    {
     "data": {
      "text/plain": [
       "QAT      95\n",
       "Mali     53\n",
       "NAM      12\n",
       "ANT       2\n",
       "Name: Alpha_3, dtype: int64"
      ]
     },
     "execution_count": 10,
     "metadata": {},
     "output_type": "execute_result"
    }
   ],
   "source": [
    "df[df.meanIAT.isnull()].Alpha_3.value_counts()"
   ]
  },
  {
   "cell_type": "markdown",
   "metadata": {},
   "source": [
    "So we miss some data for the three countries QAT, Mali, NAM, ANT. Let's see if it is some local sparse or if it really isn't provided"
   ]
  },
  {
   "cell_type": "code",
   "execution_count": 11,
   "metadata": {
    "collapsed": false
   },
   "outputs": [
    {
     "data": {
      "text/plain": [
       "1"
      ]
     },
     "execution_count": 11,
     "metadata": {},
     "output_type": "execute_result"
    }
   ],
   "source": [
    "fully_sparse = True\n",
    "for country in [\"QAT\", \"Mali\", \"NAM\", \"ANT\"]:\n",
    "    for field in [\"meanIAT\", \"nIAT\", \"seIAT\", \"meanExp\", \"nExp\", \"seExp\"]:\n",
    "        fully_sparse *= (df[df.Alpha_3 == country][field].isnull().sum() == len(df[df.Alpha_3 == country]))\n",
    "fully_sparse"
   ]
  },
  {
   "cell_type": "markdown",
   "metadata": {},
   "source": [
    "It is absolutely fully sparse. So we decide to remove the NaN fields, as there's no way we can do assumptions for aggregation."
   ]
  },
  {
   "cell_type": "code",
   "execution_count": 12,
   "metadata": {
    "collapsed": true
   },
   "outputs": [],
   "source": [
    "df = df.dropna(subset=[\"meanIAT\", \"nIAT\", \"seIAT\", \"meanExp\", \"nExp\", \"seExp\"])"
   ]
  },
  {
   "cell_type": "markdown",
   "metadata": {},
   "source": [
    "__Dealing with `Alpha_3` missing values__ :  \n",
    "We realize that `Alpha_3` is actually a redundant feature as it is almost bijective to the feature `refCountry`. We can just remove the whole feature"
   ]
  },
  {
   "cell_type": "code",
   "execution_count": 13,
   "metadata": {
    "collapsed": false
   },
   "outputs": [
    {
     "data": {
      "text/plain": [
       "0"
      ]
     },
     "execution_count": 13,
     "metadata": {},
     "output_type": "execute_result"
    }
   ],
   "source": [
    "(pd.to_numeric(df.Alpha_3.value_counts()).values - pd.to_numeric(df.refCountry.value_counts()).values).sum()"
   ]
  },
  {
   "cell_type": "markdown",
   "metadata": {},
   "source": [
    "All the *value counts* are the same."
   ]
  },
  {
   "cell_type": "markdown",
   "metadata": {},
   "source": [
    " We can definitely safely remove `Alpha_3`"
   ]
  },
  {
   "cell_type": "code",
   "execution_count": 14,
   "metadata": {
    "collapsed": false
   },
   "outputs": [],
   "source": [
    "df = df.drop('Alpha_3', axis=1)"
   ]
  },
  {
   "cell_type": "markdown",
   "metadata": {},
   "source": [
    "__Dealing with `photoID`, `rater1` and `rater2` missing values__ :  \n",
    "We can't afford to miss these cells as they are what we are gonna train our classifier on. We need to remove these lines. Yet we were careful to do this as a last step because other fields (`height`, `weight`) were interesting to keep for data cleaning in other cases"
   ]
  },
  {
   "cell_type": "code",
   "execution_count": 15,
   "metadata": {
    "collapsed": false
   },
   "outputs": [],
   "source": [
    "df = df.dropna(subset=[\"photoID\", \"rater1\", \"rater2\"])"
   ]
  },
  {
   "cell_type": "code",
   "execution_count": 16,
   "metadata": {
    "collapsed": false
   },
   "outputs": [
    {
     "data": {
      "text/plain": [
       "photoID    0\n",
       "rater1     0\n",
       "rater2     0\n",
       "dtype: int64"
      ]
     },
     "execution_count": 16,
     "metadata": {},
     "output_type": "execute_result"
    }
   ],
   "source": [
    "df[[\"photoID\", \"rater1\", \"rater2\"]].isnull().sum()"
   ]
  },
  {
   "cell_type": "markdown",
   "metadata": {},
   "source": [
    "__Dealing with `position` missing values__ :  \n",
    "We don't want to remove lines where position is missing because it is too frequent (12% of the dyads and nearly 10% of the players)"
   ]
  },
  {
   "cell_type": "code",
   "execution_count": 17,
   "metadata": {
    "collapsed": false
   },
   "outputs": [
    {
     "name": "stdout",
     "output_type": "stream",
     "text": [
      "Position field misses for 9.589905362776026 % of the players\n"
     ]
    }
   ],
   "source": [
    "print(\"Position field misses for {pct} % of the players\".format(\n",
    "        pct = 100 * df.groupby(\"playerShort\").position.min().isnull().sum() / len(df.groupby(\"playerShort\")))\n",
    "      )"
   ]
  },
  {
   "cell_type": "markdown",
   "metadata": {},
   "source": [
    "So we just acknowledge their presence and replace the NaNs by a \"unknown\" label."
   ]
  },
  {
   "cell_type": "code",
   "execution_count": 18,
   "metadata": {
    "collapsed": false
   },
   "outputs": [],
   "source": [
    "df.position = df.position.fillna(value=\"unknown\")"
   ]
  },
  {
   "cell_type": "markdown",
   "metadata": {},
   "source": [
    "## 0.2 Aggregate data per player"
   ]
  },
  {
   "cell_type": "markdown",
   "metadata": {},
   "source": [
    "We need to aggregate information per players in order to start Part 1 - the skin color classifier"
   ]
  },
  {
   "cell_type": "markdown",
   "metadata": {},
   "source": [
    "For now, ofcourse, indexing by the player shortname doesn't give an unique index because one row actually corresponds to one interaction (__dyal__) between one player and a referee"
   ]
  },
  {
   "cell_type": "code",
   "execution_count": 19,
   "metadata": {
    "collapsed": false,
    "scrolled": false
   },
   "outputs": [],
   "source": [
    "df = df.set_index(\"playerShort\")"
   ]
  },
  {
   "cell_type": "code",
   "execution_count": 20,
   "metadata": {
    "collapsed": false
   },
   "outputs": [
    {
     "data": {
      "text/plain": [
       "False"
      ]
     },
     "execution_count": 20,
     "metadata": {},
     "output_type": "execute_result"
    }
   ],
   "source": [
    "df.index.is_unique"
   ]
  },
  {
   "cell_type": "code",
   "execution_count": 21,
   "metadata": {
    "collapsed": false
   },
   "outputs": [
    {
     "data": {
      "text/plain": [
       "Index(['player', 'club', 'leagueCountry', 'birthday', 'height', 'weight',\n",
       "       'position', 'games', 'victories', 'ties', 'defeats', 'goals',\n",
       "       'yellowCards', 'yellowReds', 'redCards', 'photoID', 'rater1', 'rater2',\n",
       "       'refNum', 'refCountry', 'meanIAT', 'nIAT', 'seIAT', 'meanExp', 'nExp',\n",
       "       'seExp'],\n",
       "      dtype='object')"
      ]
     },
     "execution_count": 21,
     "metadata": {},
     "output_type": "execute_result"
    }
   ],
   "source": [
    "df.columns"
   ]
  },
  {
   "cell_type": "markdown",
   "metadata": {},
   "source": [
    "When groupping by `playerShort` there are different operations we will do as aggregation depending on the field.\n",
    "- height, weight : keep only one value\n",
    "- games, victories, ties, defeats, goals, yellowCards, yellowReds, redCards : sum all values\n",
    "- birthday, position, refNum, refCountry : we get rid of this\n",
    "- IAT, Exp : mean all values\n",
    "- position, club, leagueCountry : take the most occurrent one \n",
    "- rater1, rater2 : that's our __y__ , we need to average them"
   ]
  },
  {
   "cell_type": "code",
   "execution_count": 22,
   "metadata": {
    "collapsed": false,
    "scrolled": true
   },
   "outputs": [],
   "source": [
    "df = df.reset_index()"
   ]
  },
  {
   "cell_type": "markdown",
   "metadata": {},
   "source": [
    "- height, weight : keep only one value"
   ]
  },
  {
   "cell_type": "markdown",
   "metadata": {},
   "source": [
    "For height and weight, we keep only one value (say the minimum, anyway it's always the same as proven below where we show that min and mean outputs the same)"
   ]
  },
  {
   "cell_type": "code",
   "execution_count": 23,
   "metadata": {
    "collapsed": false
   },
   "outputs": [
    {
     "data": {
      "text/plain": [
       "height    0.0\n",
       "weight    0.0\n",
       "dtype: float64"
      ]
     },
     "execution_count": 23,
     "metadata": {},
     "output_type": "execute_result"
    }
   ],
   "source": [
    "(df.groupby(\"playerShort\")[\"height\", \"weight\"].mean() - df.groupby(\"playerShort\")[\"height\", \"weight\"].min()).sum()"
   ]
  },
  {
   "cell_type": "code",
   "execution_count": 24,
   "metadata": {
    "collapsed": false
   },
   "outputs": [],
   "source": [
    "df_agg = pd.DataFrame()\n",
    "df_agg[[\"height\", \"weight\"]] = df.groupby(\"playerShort\")[\"height\", \"weight\"].mean()"
   ]
  },
  {
   "cell_type": "markdown",
   "metadata": {},
   "source": [
    "- games, victories, ties, defeats, goals, yellowCards, yellowReds, redCards : sum all values"
   ]
  },
  {
   "cell_type": "code",
   "execution_count": 25,
   "metadata": {
    "collapsed": true
   },
   "outputs": [],
   "source": [
    "df_agg[[\"games\", \"victories\", \"ties\", \"defeats\", \"goals\", \"yellowCards\", \"yellowReds\", \"redCards\"]] = \\\n",
    "df.groupby(\"playerShort\")[\"games\", \"victories\", \"ties\", \n",
    "                          \"defeats\", \"goals\", \"yellowCards\", \"yellowReds\", \"redCards\"].sum()"
   ]
  },
  {
   "cell_type": "markdown",
   "metadata": {},
   "source": [
    "- IAT, Exp : mean all values"
   ]
  },
  {
   "cell_type": "code",
   "execution_count": 26,
   "metadata": {
    "collapsed": false
   },
   "outputs": [],
   "source": [
    "df_agg[[\"meanIAT\", \"nIAT\", \"seIAT\", \"meanExp\", \"nExp\", \"seExp\"]] = df.groupby(\"playerShort\")[\"meanIAT\", \"nIAT\", \"seIAT\", \"meanExp\", \"nExp\", \"seExp\"].mean()"
   ]
  },
  {
   "cell_type": "markdown",
   "metadata": {},
   "source": [
    "- position, club, leagueCountry : take the most occurrent one "
   ]
  },
  {
   "cell_type": "markdown",
   "metadata": {},
   "source": [
    "We first define a function that takes the most occurrent value in the dataframe"
   ]
  },
  {
   "cell_type": "code",
   "execution_count": 27,
   "metadata": {
    "collapsed": true
   },
   "outputs": [],
   "source": [
    "most_occurrent = lambda x: x.value_counts().index[0]"
   ]
  },
  {
   "cell_type": "markdown",
   "metadata": {},
   "source": [
    "Now aggregate our features using that function"
   ]
  },
  {
   "cell_type": "code",
   "execution_count": 28,
   "metadata": {
    "collapsed": false
   },
   "outputs": [],
   "source": [
    "df_agg[\"position\"] = df.groupby(\"playerShort\").position.agg(most_occurrent)\n",
    "df_agg[\"club\"] = df.groupby(\"playerShort\").club.agg(most_occurrent)\n",
    "df_agg[\"leagueCountry\"] = df.groupby(\"playerShort\").leagueCountry.agg(most_occurrent)"
   ]
  },
  {
   "cell_type": "markdown",
   "metadata": {},
   "source": [
    "We also want to bind these label values into integers, using a `LabelEncoder` from `sklearn`"
   ]
  },
  {
   "cell_type": "code",
   "execution_count": 29,
   "metadata": {
    "collapsed": true
   },
   "outputs": [],
   "source": [
    "from sklearn import preprocessing"
   ]
  },
  {
   "cell_type": "code",
   "execution_count": 30,
   "metadata": {
    "collapsed": true
   },
   "outputs": [],
   "source": [
    "def label_encode(feature):\n",
    "    \"\"\" this function encodes the labels of a given feature \"\"\"\n",
    "    le = preprocessing.LabelEncoder()\n",
    "    le.fit(feature.values)\n",
    "    return le.transform(feature.values)"
   ]
  },
  {
   "cell_type": "code",
   "execution_count": 31,
   "metadata": {
    "collapsed": false
   },
   "outputs": [],
   "source": [
    "df_agg.position = label_encode(df_agg.position)\n",
    "df_agg.club = label_encode(df_agg.club)\n",
    "df_agg.leagueCountry = label_encode(df_agg.leagueCountry)"
   ]
  },
  {
   "cell_type": "markdown",
   "metadata": {},
   "source": [
    "One improvement may be to also dummy-encode these features using the `get_dummies()` function to avoid having ordering between our categorical variables but we'll start without for now."
   ]
  },
  {
   "cell_type": "code",
   "execution_count": 32,
   "metadata": {
    "collapsed": false
   },
   "outputs": [],
   "source": [
    "# pd.get_dummies(df_agg.leagueCountry)  # dummy encoding"
   ]
  },
  {
   "cell_type": "markdown",
   "metadata": {},
   "source": [
    "- rater1, rater2 score : There would be two strategies we can think of to handle the raters aggregation\n",
    "\n",
    "    - Case of __multi-class classification__ (0, 0.25, 0.5, 0.75, 1) : we would need to remove players if ratings are different because we couldn't afford this uncertainty. That would mean removing 23% of the data.\n",
    "    \n",
    "    - In the other hand, assume we'll do __binary classification__ (0, 1), we could average the raters although they differ slightly and cast values < 0.5 to 0 and values > 0.5 to 1. But we would need to remove values = 0.5 and that accounts for  7% of the data"
   ]
  },
  {
   "cell_type": "code",
   "execution_count": 33,
   "metadata": {
    "collapsed": false
   },
   "outputs": [
    {
     "name": "stdout",
     "output_type": "stream",
     "text": [
      "percentage of diyals removed if we remove when raters disagree :  0.23189896198219623\n",
      "percentage of players removed if we remove when raters disagree :  0.2391167192429022\n"
     ]
    }
   ],
   "source": [
    "print(\"percentage of diyals removed if we remove when raters disagree : \", len(df[df.rater1!=df.rater2])/len(df))\n",
    "print(\"percentage of players removed if we remove when raters disagree : \", len(df[df.rater1!=df.rater2].groupby(\"playerShort\"))/len(df.groupby(\"playerShort\")))"
   ]
  },
  {
   "cell_type": "code",
   "execution_count": 34,
   "metadata": {
    "collapsed": false
   },
   "outputs": [
    {
     "name": "stdout",
     "output_type": "stream",
     "text": [
      "percentage of diyals removed if we remove when mean of raters equals 0.5 :  0.0720908185236366\n",
      "percentage of players removed if we remove when mean of raters equals 0.5 :  0.07318611987381704\n"
     ]
    }
   ],
   "source": [
    "print(\"percentage of diyals removed if we remove when mean of raters equals 0.5 : \", len(df[df.rater1+df.rater2==1])/len(df))\n",
    "print(\"percentage of players removed if we remove when mean of raters equals 0.5 : \", len(df[df.rater1+df.rater2==1].groupby(\"playerShort\"))/len(df.groupby(\"playerShort\")))"
   ]
  },
  {
   "cell_type": "markdown",
   "metadata": {},
   "source": [
    "Therefore we decide to focus first on a __binary classification__ task, it seems at first sight as a more reasonable exercise. Not only it removes less data (7% versus 23%) , but would the rating's uncertainty margin really allow to look for a more precise classification than binary ?"
   ]
  },
  {
   "cell_type": "markdown",
   "metadata": {},
   "source": [
    "We thus remove when mean equals 0.5 (equivalent to sum equals 1) and cast to the nearest integer."
   ]
  },
  {
   "cell_type": "code",
   "execution_count": 35,
   "metadata": {
    "collapsed": false
   },
   "outputs": [],
   "source": [
    "# aggregate by doing the mean\n",
    "df_agg[\"rater\"] = df.groupby(\"playerShort\")[\"rater1\", \"rater2\"].mean().mean(axis=1)\n",
    "\n",
    "# remove when mean equals 0.5\n",
    "df_agg = df_agg[df_agg.rater != 0.5]\n",
    "\n",
    "# cast to the nearest integer - (we decided to first go on a binary classification)\n",
    "df_agg[\"rater\"] = df_agg[\"rater\"].apply(round)"
   ]
  },
  {
   "cell_type": "markdown",
   "metadata": {},
   "source": [
    "We just want to also have a feature with the first name of the player"
   ]
  },
  {
   "cell_type": "code",
   "execution_count": 36,
   "metadata": {
    "collapsed": false
   },
   "outputs": [],
   "source": [
    "df_agg[\"firstName\"] = df_agg.reset_index().playerShort.apply(lambda s: s.split(\"-\")[0].split(\"_\")[0]).values\n",
    "df_agg.firstName = label_encode(df_agg.firstName)"
   ]
  },
  {
   "cell_type": "markdown",
   "metadata": {},
   "source": [
    "So now we have a fully numerical dataset!"
   ]
  },
  {
   "cell_type": "code",
   "execution_count": 37,
   "metadata": {
    "collapsed": false
   },
   "outputs": [],
   "source": [
    "features_labels = df_agg.columns"
   ]
  },
  {
   "cell_type": "markdown",
   "metadata": {},
   "source": [
    "Let's watch its correlation matrix"
   ]
  },
  {
   "cell_type": "code",
   "execution_count": 38,
   "metadata": {
    "collapsed": false
   },
   "outputs": [
    {
     "data": {
      "image/png": "[encoded data removed]",
      "text/plain": [
       "<matplotlib.figure.Figure at 0x1033b1240>"
      ]
     },
     "metadata": {},
     "output_type": "display_data"
    }
   ],
   "source": [
    "fig, ax = plt.subplots(figsize=(8, 8))\n",
    "cax = ax.matshow(df_agg.corr())\n",
    "plt.xticks(range(len(features_labels)),features_labels, rotation=90, size=10)\n",
    "plt.yticks(range(len(features_labels)),features_labels, size=10)\n",
    "fig.colorbar(cax)\n",
    "\n",
    "plt.show()"
   ]
  },
  {
   "cell_type": "markdown",
   "metadata": {
    "collapsed": false
   },
   "source": [
    "Seems legitimous, we have more correlation between fields such as games, victories, ties and defeats or between fields like IAT and Exp."
   ]
  },
  {
   "cell_type": "markdown",
   "metadata": {},
   "source": [
    "Let's now save the results of our cleaned aggregate data under `df_agg.csv`. "
   ]
  },
  {
   "cell_type": "code",
   "execution_count": 39,
   "metadata": {
    "collapsed": true
   },
   "outputs": [],
   "source": [
    "df_agg.to_csv(\"df_agg.csv\")"
   ]
  },
  {
   "cell_type": "markdown",
   "metadata": {},
   "source": [
    "Let's also write here the function `load_x_y()` that loads df_agg under two matrices X and y"
   ]
  },
  {
   "cell_type": "code",
   "execution_count": 40,
   "metadata": {
    "collapsed": true
   },
   "outputs": [],
   "source": [
    "def load_x_y():\n",
    "    \"\"\" import the data and put it into numpy arrays \"\"\"\n",
    "    full_df = pd.read_csv(\"df_agg.csv\", index_col=0)\n",
    "    X_ = np.array(full_df.drop(\"rater\", axis=1))\n",
    "    y_ = np.array(full_df.rater)\n",
    "    return X_, y_"
   ]
  },
  {
   "cell_type": "code",
   "execution_count": 41,
   "metadata": {
    "collapsed": false
   },
   "outputs": [],
   "source": [
    "X, y = load_x_y()"
   ]
  },
  {
   "cell_type": "markdown",
   "metadata": {},
   "source": [
    "## Pre processing done, we now have X and y!"
   ]
  }
 ],
 "metadata": {
  "anaconda-cloud": {},
  "kernelspec": {
   "display_name": "Python [ada]",
   "language": "python",
   "name": "Python [ada]"
  },
  "language_info": {
   "codemirror_mode": {
    "name": "ipython",
    "version": 3
   },
   "file_extension": ".py",
   "mimetype": "text/x-python",
   "name": "python",
   "nbconvert_exporter": "python",
   "pygments_lexer": "ipython3",
   "version": "3.5.2"
  }
 },
 "nbformat": 4,
 "nbformat_minor": 0
}
